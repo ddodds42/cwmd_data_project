{
  "nbformat": 4,
  "nbformat_minor": 0,
  "metadata": {
    "colab": {
      "name": "Near_Miss_classification_counts.ipynb",
      "provenance": [],
      "collapsed_sections": []
    },
    "kernelspec": {
      "name": "python3",
      "display_name": "Python 3"
    },
    "language_info": {
      "name": "python"
    }
  },
  "cells": [
    {
      "cell_type": "code",
      "metadata": {
        "id": "RmyV5Pwp8Adj"
      },
      "source": [
        "Escalation_Dimension = {\n",
        "0:[0,1,3,4,5,6,7,8,9,10,11,12,14,15,16,17,18,19,20,21,22,23,24,25,26,27,28,29,30,31,32,34,35,36,37,38,40,41,43,47,49,55,57],\n",
        "1:[0,1,2,3,4,5,6,7,8,9,10,11,12,14,15,16,17,18,19,20,21,22,23,24,26,27,28,29,30,31,32,34,35,36,37,38,40,43,45,46,47,49,51,54,55,56,58,59],\n",
        "2:[0,1,2,3,4,6,9,11,12,13,14,15,16,17,18,19,21,22,23,24,25,27,29,30,31,32,35,36,37,38,39,40,41,43,44,45,46,47,48,49,50,51,52,53,55,58,59],\n",
        "3:[0,1,3,4,5,6,7,8,9,10,12,13,14,15,16,17,18,19,21,22,24,29,30,31,32,37,40,47,49,55],\n",
        "4:[3,13,19,24,29,30,31,32,34,42,43,44,45,46,48,49,50,51,52,53,54,55,56,58,59],\n",
        "5:[0]\n",
        "}"
      ],
      "execution_count": 1,
      "outputs": []
    },
    {
      "cell_type": "code",
      "metadata": {
        "id": "3O3lpJMo8HEN"
      },
      "source": [
        "Escalation_Dimension_Post_Deterrence = {\n",
        "0:[1,3,4,5,6,7,8,9,10,12,14,15,16,17,18,19,21,22,23,24,25,26,27,28,29,30,31,32,34,35,36,37,38,40,41,43,47,49,55,57],\n",
        "1:[1,2,3,4,5,6,7,8,9,10,12,14,15,16,17,18,19,21,22,23,24,26,27,28,29,30,31,32,34,35,36,37,38,40,43,45,46,47,49,51,54,55,56,58,59],\n",
        "2:[1,2,3,4,6,9,12,13,14,15,16,17,18,19,21,22,23,24,25,27,29,30,31,32,35,36,37,38,39,40,41,43,44,45,46,47,48,49,50,51,52,53,55,58,59],\n",
        "3:[1,3,4,5,6,7,8,9,10,12,13,14,15,16,17,18,19,21,22,24,29,30,31,32,37,40,47,49,55],\n",
        "4:[13,19,24,29,30,31,32,34,42,43,44,45,46,48,49,50,51,52,53,54,55,56,58,59],\n",
        "5:[]\n",
        "}"
      ],
      "execution_count": 2,
      "outputs": []
    },
    {
      "cell_type": "code",
      "metadata": {
        "colab": {
          "base_uri": "https://localhost:8080/"
        },
        "id": "51DP8IVP8LOU",
        "outputId": "79cadcfb-3497-44cb-8a1b-73e6040382a3"
      },
      "source": [
        "print('Since WWII:')\n",
        "print(len(Escalation_Dimension[0]), ' diplomacy breakdowns')\n",
        "print(len(Escalation_Dimension[1]), ' military buildups / exercise incidents')\n",
        "print(len(Escalation_Dimension[2]), ' incidents coinciding weapon systems testing')\n",
        "print(len(Escalation_Dimension[3]), ' incidents with conventional military contact')\n",
        "print(len(Escalation_Dimension[4]), ' weapon systems accidents / averted war incidents')\n",
        "print(len(Escalation_Dimension[5]), ' intentional nuclear strikes')\n"
      ],
      "execution_count": 3,
      "outputs": [
        {
          "output_type": "stream",
          "text": [
            "Since WWII:\n",
            "43  diplomacy breakdowns\n",
            "48  military buildups / exercise incidents\n",
            "47  incidents coinciding weapon systems testing\n",
            "30  incidents with conventional military contact\n",
            "25  weapon systems accidents / averted war incidents\n",
            "1  intentional nuclear strikes\n"
          ],
          "name": "stdout"
        }
      ]
    },
    {
      "cell_type": "code",
      "metadata": {
        "colab": {
          "base_uri": "https://localhost:8080/"
        },
        "id": "7RFUhxQX9chT",
        "outputId": "f597368a-bdb2-408c-a9c3-4bb35547d0da"
      },
      "source": [
        "print('Since the deterrance paradigm began:')\n",
        "print(len(Escalation_Dimension_Post_Deterrence[0]), ' diplomacy breakdowns')\n",
        "print(len(Escalation_Dimension_Post_Deterrence[1]), ' military buildups / exercise incidents')\n",
        "print(len(Escalation_Dimension_Post_Deterrence[2]), ' incidents coinciding weapon systems testing')\n",
        "print(len(Escalation_Dimension_Post_Deterrence[3]), ' incidents with conventional military contact')\n",
        "print(len(Escalation_Dimension_Post_Deterrence[4]), ' weapon systems accidents / averted war incidents')\n",
        "print(len(Escalation_Dimension_Post_Deterrence[5]), ' intentional nuclear strikes')"
      ],
      "execution_count": 4,
      "outputs": [
        {
          "output_type": "stream",
          "text": [
            "Since the deterrance paradigm began:\n",
            "40  diplomacy breakdowns\n",
            "45  military buildups / exercise incidents\n",
            "45  incidents coinciding weapon systems testing\n",
            "29  incidents with conventional military contact\n",
            "24  weapon systems accidents / averted war incidents\n",
            "0  intentional nuclear strikes\n"
          ],
          "name": "stdout"
        }
      ]
    },
    {
      "cell_type": "code",
      "metadata": {
        "id": "qfOl0AXB-Bm4",
        "colab": {
          "base_uri": "https://localhost:8080/"
        },
        "outputId": "d085ab62-708a-4b83-ff7a-940030481711"
      },
      "source": [
        "incident_levels = [i for i in Escalation_Dimension_Post_Deterrence.keys()]\n",
        "print(incident_levels)"
      ],
      "execution_count": 5,
      "outputs": [
        {
          "output_type": "stream",
          "text": [
            "[0, 1, 2, 3, 4, 5]\n"
          ],
          "name": "stdout"
        }
      ]
    },
    {
      "cell_type": "code",
      "metadata": {
        "colab": {
          "base_uri": "https://localhost:8080/"
        },
        "id": "sUs2QCno7_Hw",
        "outputId": "b21ce436-f30e-4bcb-e1b7-b7d733f16888"
      },
      "source": [
        "count = [len(Escalation_Dimension_Post_Deterrence[i]) for i in incident_levels]\n",
        "print(count)"
      ],
      "execution_count": 6,
      "outputs": [
        {
          "output_type": "stream",
          "text": [
            "[40, 45, 45, 29, 24, 0]\n"
          ],
          "name": "stdout"
        }
      ]
    },
    {
      "cell_type": "code",
      "metadata": {
        "id": "B7LnQi628UDP"
      },
      "source": [
        "import pandas as pd"
      ],
      "execution_count": 7,
      "outputs": []
    },
    {
      "cell_type": "code",
      "metadata": {
        "colab": {
          "base_uri": "https://localhost:8080/",
          "height": 235
        },
        "id": "S7W-Xu2_8hYx",
        "outputId": "d67ae97a-d506-42e4-d575-c6815cae6bfb"
      },
      "source": [
        "df_dict = {'incident_level': incident_levels, 'count':count}\n",
        "\n",
        "df = pd.DataFrame(data=df_dict)\n",
        "df"
      ],
      "execution_count": 8,
      "outputs": [
        {
          "output_type": "execute_result",
          "data": {
            "text/html": [
              "<div>\n",
              "<style scoped>\n",
              "    .dataframe tbody tr th:only-of-type {\n",
              "        vertical-align: middle;\n",
              "    }\n",
              "\n",
              "    .dataframe tbody tr th {\n",
              "        vertical-align: top;\n",
              "    }\n",
              "\n",
              "    .dataframe thead th {\n",
              "        text-align: right;\n",
              "    }\n",
              "</style>\n",
              "<table border=\"1\" class=\"dataframe\">\n",
              "  <thead>\n",
              "    <tr style=\"text-align: right;\">\n",
              "      <th></th>\n",
              "      <th>incident_level</th>\n",
              "      <th>count</th>\n",
              "    </tr>\n",
              "  </thead>\n",
              "  <tbody>\n",
              "    <tr>\n",
              "      <th>0</th>\n",
              "      <td>0</td>\n",
              "      <td>40</td>\n",
              "    </tr>\n",
              "    <tr>\n",
              "      <th>1</th>\n",
              "      <td>1</td>\n",
              "      <td>45</td>\n",
              "    </tr>\n",
              "    <tr>\n",
              "      <th>2</th>\n",
              "      <td>2</td>\n",
              "      <td>45</td>\n",
              "    </tr>\n",
              "    <tr>\n",
              "      <th>3</th>\n",
              "      <td>3</td>\n",
              "      <td>29</td>\n",
              "    </tr>\n",
              "    <tr>\n",
              "      <th>4</th>\n",
              "      <td>4</td>\n",
              "      <td>24</td>\n",
              "    </tr>\n",
              "    <tr>\n",
              "      <th>5</th>\n",
              "      <td>5</td>\n",
              "      <td>0</td>\n",
              "    </tr>\n",
              "  </tbody>\n",
              "</table>\n",
              "</div>"
            ],
            "text/plain": [
              "   incident_level  count\n",
              "0               0     40\n",
              "1               1     45\n",
              "2               2     45\n",
              "3               3     29\n",
              "4               4     24\n",
              "5               5      0"
            ]
          },
          "metadata": {
            "tags": []
          },
          "execution_count": 8
        }
      ]
    },
    {
      "cell_type": "code",
      "metadata": {
        "id": "V454kPIC89wx"
      },
      "source": [
        "import matplotlib.pyplot as plt"
      ],
      "execution_count": 9,
      "outputs": []
    },
    {
      "cell_type": "code",
      "metadata": {
        "colab": {
          "base_uri": "https://localhost:8080/",
          "height": 204
        },
        "id": "UOZSAvd0Bd1S",
        "outputId": "81cca283-b42f-4e33-bafa-0d4f9efcb399"
      },
      "source": [
        "df_nolaunch = df.iloc[:5]\n",
        "df_nolaunch"
      ],
      "execution_count": 10,
      "outputs": [
        {
          "output_type": "execute_result",
          "data": {
            "text/html": [
              "<div>\n",
              "<style scoped>\n",
              "    .dataframe tbody tr th:only-of-type {\n",
              "        vertical-align: middle;\n",
              "    }\n",
              "\n",
              "    .dataframe tbody tr th {\n",
              "        vertical-align: top;\n",
              "    }\n",
              "\n",
              "    .dataframe thead th {\n",
              "        text-align: right;\n",
              "    }\n",
              "</style>\n",
              "<table border=\"1\" class=\"dataframe\">\n",
              "  <thead>\n",
              "    <tr style=\"text-align: right;\">\n",
              "      <th></th>\n",
              "      <th>incident_level</th>\n",
              "      <th>count</th>\n",
              "    </tr>\n",
              "  </thead>\n",
              "  <tbody>\n",
              "    <tr>\n",
              "      <th>0</th>\n",
              "      <td>0</td>\n",
              "      <td>40</td>\n",
              "    </tr>\n",
              "    <tr>\n",
              "      <th>1</th>\n",
              "      <td>1</td>\n",
              "      <td>45</td>\n",
              "    </tr>\n",
              "    <tr>\n",
              "      <th>2</th>\n",
              "      <td>2</td>\n",
              "      <td>45</td>\n",
              "    </tr>\n",
              "    <tr>\n",
              "      <th>3</th>\n",
              "      <td>3</td>\n",
              "      <td>29</td>\n",
              "    </tr>\n",
              "    <tr>\n",
              "      <th>4</th>\n",
              "      <td>4</td>\n",
              "      <td>24</td>\n",
              "    </tr>\n",
              "  </tbody>\n",
              "</table>\n",
              "</div>"
            ],
            "text/plain": [
              "   incident_level  count\n",
              "0               0     40\n",
              "1               1     45\n",
              "2               2     45\n",
              "3               3     29\n",
              "4               4     24"
            ]
          },
          "metadata": {
            "tags": []
          },
          "execution_count": 10
        }
      ]
    },
    {
      "cell_type": "code",
      "metadata": {
        "colab": {
          "base_uri": "https://localhost:8080/",
          "height": 295
        },
        "id": "o2JS1b0lA2lM",
        "outputId": "78c02bb7-71b6-425e-f22f-40e9568443b4"
      },
      "source": [
        "plt.scatter(df_nolaunch['incident_level'], df_nolaunch['count'])\n",
        "plt.title('Typological Emergence of Nuclear Near Miss Incidents')\n",
        "plt.xlabel('Incident Level')\n",
        "plt.xticks(df['incident_level'])\n",
        "plt.ylabel('Count')\n",
        "plt.yticks(range(0,50,5))\n",
        "plt.show()"
      ],
      "execution_count": 11,
      "outputs": [
        {
          "output_type": "display_data",
          "data": {
            "image/png": "[encoded data removed]",
            "text/plain": [
              "<Figure size 432x288 with 1 Axes>"
            ]
          },
          "metadata": {
            "tags": [],
            "needs_background": "light"
          }
        }
      ]
    },
    {
      "cell_type": "code",
      "metadata": {
        "id": "_3FbkLmd9H_s"
      },
      "source": [
        "# LOGARITHMIC DECAY\n",
        "\n",
        "#  2^y = 30\n",
        "#  y = log2(30)"
      ],
      "execution_count": 12,
      "outputs": []
    },
    {
      "cell_type": "code",
      "metadata": {
        "id": "ypz7LMbwB7pU"
      },
      "source": [
        "import math\n",
        "\n",
        "# math.e\n",
        "# math.log(x, base)"
      ],
      "execution_count": 13,
      "outputs": []
    },
    {
      "cell_type": "code",
      "metadata": {
        "colab": {
          "base_uri": "https://localhost:8080/"
        },
        "id": "jZSUxJAX-j_Q",
        "outputId": "676b9807-18b0-4e0a-c726-7dc01c41626b"
      },
      "source": [
        "for i in incident_levels[:4]:\n",
        "  y = math.log(count[i+1],count[i])\n",
        "  print(f'{i} to {i+1}: ', y)"
      ],
      "execution_count": 14,
      "outputs": [
        {
          "output_type": "stream",
          "text": [
            "0 to 1:  1.0319292178347081\n",
            "1 to 2:  1.0\n",
            "2 to 3:  0.884579559925641\n",
            "3 to 4:  0.9438000077233224\n"
          ],
          "name": "stdout"
        }
      ]
    },
    {
      "cell_type": "code",
      "metadata": {
        "colab": {
          "base_uri": "https://localhost:8080/"
        },
        "id": "qey0-MS7Jz56",
        "outputId": "84fa4093-8ea1-4e3d-de71-f22014974368"
      },
      "source": [
        "increment = [i+0.5 for i in range(4)]\n",
        "exponent = [math.log(count[i+1],count[i]) for i in incident_levels[:4]]\n",
        "df_increment_dict = {'increment': increment, 'exponent':exponent}\n",
        "print(df_increment_dict)"
      ],
      "execution_count": 15,
      "outputs": [
        {
          "output_type": "stream",
          "text": [
            "{'increment': [0.5, 1.5, 2.5, 3.5], 'exponent': [1.0319292178347081, 1.0, 0.884579559925641, 0.9438000077233224]}\n"
          ],
          "name": "stdout"
        }
      ]
    },
    {
      "cell_type": "code",
      "metadata": {
        "colab": {
          "base_uri": "https://localhost:8080/",
          "height": 172
        },
        "id": "oKadSZE-LY7D",
        "outputId": "b7c1622f-82f6-4c9d-a9b8-45c419ed65bf"
      },
      "source": [
        "df_increment = pd.DataFrame(data=df_increment_dict)\n",
        "df_increment"
      ],
      "execution_count": 16,
      "outputs": [
        {
          "output_type": "execute_result",
          "data": {
            "text/html": [
              "<div>\n",
              "<style scoped>\n",
              "    .dataframe tbody tr th:only-of-type {\n",
              "        vertical-align: middle;\n",
              "    }\n",
              "\n",
              "    .dataframe tbody tr th {\n",
              "        vertical-align: top;\n",
              "    }\n",
              "\n",
              "    .dataframe thead th {\n",
              "        text-align: right;\n",
              "    }\n",
              "</style>\n",
              "<table border=\"1\" class=\"dataframe\">\n",
              "  <thead>\n",
              "    <tr style=\"text-align: right;\">\n",
              "      <th></th>\n",
              "      <th>increment</th>\n",
              "      <th>exponent</th>\n",
              "    </tr>\n",
              "  </thead>\n",
              "  <tbody>\n",
              "    <tr>\n",
              "      <th>0</th>\n",
              "      <td>0.5</td>\n",
              "      <td>1.031929</td>\n",
              "    </tr>\n",
              "    <tr>\n",
              "      <th>1</th>\n",
              "      <td>1.5</td>\n",
              "      <td>1.000000</td>\n",
              "    </tr>\n",
              "    <tr>\n",
              "      <th>2</th>\n",
              "      <td>2.5</td>\n",
              "      <td>0.884580</td>\n",
              "    </tr>\n",
              "    <tr>\n",
              "      <th>3</th>\n",
              "      <td>3.5</td>\n",
              "      <td>0.943800</td>\n",
              "    </tr>\n",
              "  </tbody>\n",
              "</table>\n",
              "</div>"
            ],
            "text/plain": [
              "   increment  exponent\n",
              "0        0.5  1.031929\n",
              "1        1.5  1.000000\n",
              "2        2.5  0.884580\n",
              "3        3.5  0.943800"
            ]
          },
          "metadata": {
            "tags": []
          },
          "execution_count": 16
        }
      ]
    },
    {
      "cell_type": "code",
      "metadata": {
        "colab": {
          "base_uri": "https://localhost:8080/",
          "height": 295
        },
        "id": "TecF2H97LfMa",
        "outputId": "5aefc81e-b677-4769-8fef-dd59de68d513"
      },
      "source": [
        "plt.scatter(df_increment['increment'], df_increment['exponent'])\n",
        "plt.title('Exponential Incriments between Near Miss Levels')\n",
        "plt.xlabel('Increment')\n",
        "plt.xticks(df_increment['increment'])\n",
        "plt.ylabel('Exponent')\n",
        "plt.yticks([0.7,0.8,0.9, 1,1.1])\n",
        "plt.show()"
      ],
      "execution_count": 17,
      "outputs": [
        {
          "output_type": "display_data",
          "data": {
            "image/png": "[encoded data removed]",
            "text/plain": [
              "<Figure size 432x288 with 1 Axes>"
            ]
          },
          "metadata": {
            "tags": [],
            "needs_background": "light"
          }
        }
      ]
    },
    {
      "cell_type": "code",
      "metadata": {
        "id": "Puox_WLddypS"
      },
      "source": [
        "from sklearn.linear_model import LinearRegression"
      ],
      "execution_count": 18,
      "outputs": []
    },
    {
      "cell_type": "code",
      "metadata": {
        "id": "2ClQsPT7eRl5"
      },
      "source": [
        "model = LinearRegression()"
      ],
      "execution_count": 19,
      "outputs": []
    },
    {
      "cell_type": "code",
      "metadata": {
        "colab": {
          "base_uri": "https://localhost:8080/"
        },
        "id": "vPJQnSszfN_q",
        "outputId": "0abd15fc-599b-4229-b6ad-41d03511d76a"
      },
      "source": [
        "features = ['increment']\n",
        "target = 'exponent'\n",
        "\n",
        "X_train = df_increment[features]\n",
        "y_train = df_increment[target]\n",
        "\n",
        "model.fit(X_train, y_train)\n",
        "\n",
        "print(model.coef_)\n",
        "print(model.intercept_)"
      ],
      "execution_count": 20,
      "outputs": [
        {
          "output_type": "stream",
          "text": [
            "[-0.03798081]\n",
            "1.0410388104526211\n"
          ],
          "name": "stdout"
        }
      ]
    },
    {
      "cell_type": "code",
      "metadata": {
        "colab": {
          "base_uri": "https://localhost:8080/"
        },
        "id": "dXjkD1uCgG_t",
        "outputId": "786212c0-abcc-4879-b96c-93c42f02b6a6"
      },
      "source": [
        "launch_exp = model.predict([[4.5]])\n",
        "print(launch_exp)"
      ],
      "execution_count": 21,
      "outputs": [
        {
          "output_type": "stream",
          "text": [
            "[0.87012518]\n"
          ],
          "name": "stdout"
        }
      ]
    },
    {
      "cell_type": "code",
      "metadata": {
        "id": "Qr-KpejihDyD"
      },
      "source": [
        "import seaborn as sb"
      ],
      "execution_count": 22,
      "outputs": []
    },
    {
      "cell_type": "code",
      "metadata": {
        "colab": {
          "base_uri": "https://localhost:8080/",
          "height": 279
        },
        "id": "KsnXyBtEhSXl",
        "outputId": "7fddd931-4593-459c-f91f-86bd172f3be3"
      },
      "source": [
        "plt.xlim(0,4.5)\n",
        "sb.regplot(x=df_increment['increment'], y=df_increment['exponent'], truncate=False);"
      ],
      "execution_count": 23,
      "outputs": [
        {
          "output_type": "display_data",
          "data": {
            "image/png": "[encoded data removed]",
            "text/plain": [
              "<Figure size 432x288 with 1 Axes>"
            ]
          },
          "metadata": {
            "tags": [],
            "needs_background": "light"
          }
        }
      ]
    },
    {
      "cell_type": "code",
      "metadata": {
        "colab": {
          "base_uri": "https://localhost:8080/"
        },
        "id": "c1VZEmPdhlgM",
        "outputId": "ccee33ad-016a-431a-a258-9de079c9397c"
      },
      "source": [
        "increment_pred = increment\n",
        "increment_pred.append(4.5)\n",
        "\n",
        "exponent_pred = exponent\n",
        "exponent_pred.append(launch_exp[0])\n",
        "\n",
        "df_increment_log_dict = {'increment_pred':increment_pred, 'exponent_pred':exponent_pred}\n",
        "\n",
        "# print(increment)\n",
        "print(df_increment_log_dict)"
      ],
      "execution_count": 24,
      "outputs": [
        {
          "output_type": "stream",
          "text": [
            "{'increment_pred': [0.5, 1.5, 2.5, 3.5, 4.5], 'exponent_pred': [1.0319292178347081, 1.0, 0.884579559925641, 0.9438000077233224, 0.8701251787687888]}\n"
          ],
          "name": "stdout"
        }
      ]
    },
    {
      "cell_type": "code",
      "metadata": {
        "colab": {
          "base_uri": "https://localhost:8080/",
          "height": 202
        },
        "id": "JGMjtZa_ln4a",
        "outputId": "86c85cb7-5839-4bd4-bebf-1a0af0520294"
      },
      "source": [
        "df_increment_log = pd.DataFrame(data=df_increment_log_dict)\n",
        "df_increment_log"
      ],
      "execution_count": 25,
      "outputs": [
        {
          "output_type": "execute_result",
          "data": {
            "text/html": [
              "<div>\n",
              "<style scoped>\n",
              "    .dataframe tbody tr th:only-of-type {\n",
              "        vertical-align: middle;\n",
              "    }\n",
              "\n",
              "    .dataframe tbody tr th {\n",
              "        vertical-align: top;\n",
              "    }\n",
              "\n",
              "    .dataframe thead th {\n",
              "        text-align: right;\n",
              "    }\n",
              "</style>\n",
              "<table border=\"1\" class=\"dataframe\">\n",
              "  <thead>\n",
              "    <tr style=\"text-align: right;\">\n",
              "      <th></th>\n",
              "      <th>increment_pred</th>\n",
              "      <th>exponent_pred</th>\n",
              "    </tr>\n",
              "  </thead>\n",
              "  <tbody>\n",
              "    <tr>\n",
              "      <th>0</th>\n",
              "      <td>0.5</td>\n",
              "      <td>1.031929</td>\n",
              "    </tr>\n",
              "    <tr>\n",
              "      <th>1</th>\n",
              "      <td>1.5</td>\n",
              "      <td>1.000000</td>\n",
              "    </tr>\n",
              "    <tr>\n",
              "      <th>2</th>\n",
              "      <td>2.5</td>\n",
              "      <td>0.884580</td>\n",
              "    </tr>\n",
              "    <tr>\n",
              "      <th>3</th>\n",
              "      <td>3.5</td>\n",
              "      <td>0.943800</td>\n",
              "    </tr>\n",
              "    <tr>\n",
              "      <th>4</th>\n",
              "      <td>4.5</td>\n",
              "      <td>0.870125</td>\n",
              "    </tr>\n",
              "  </tbody>\n",
              "</table>\n",
              "</div>"
            ],
            "text/plain": [
              "   increment_pred  exponent_pred\n",
              "0             0.5       1.031929\n",
              "1             1.5       1.000000\n",
              "2             2.5       0.884580\n",
              "3             3.5       0.943800\n",
              "4             4.5       0.870125"
            ]
          },
          "metadata": {
            "tags": []
          },
          "execution_count": 25
        }
      ]
    },
    {
      "cell_type": "code",
      "metadata": {
        "colab": {
          "base_uri": "https://localhost:8080/"
        },
        "id": "KvnqEzBTM8YR",
        "outputId": "b8c5cbdb-1bdf-4f40-c79e-60b0a87e9f34"
      },
      "source": [
        "lambda_min_log = count[4] ** exponent_pred[-1]\n",
        "print(lambda_min_log)"
      ],
      "execution_count": 26,
      "outputs": [
        {
          "output_type": "stream",
          "text": [
            "15.883878392550955\n"
          ],
          "name": "stdout"
        }
      ]
    },
    {
      "cell_type": "code",
      "metadata": {
        "colab": {
          "base_uri": "https://localhost:8080/"
        },
        "id": "1s0iwF1ANW4Y",
        "outputId": "2caefbac-715b-4e0d-d032-ed30dfd0028e"
      },
      "source": [
        "df_log_pred_dict = df_dict\n",
        "df_log_pred_dict['count'][-1] = lambda_min_log\n",
        "print(df_log_pred_dict)"
      ],
      "execution_count": 27,
      "outputs": [
        {
          "output_type": "stream",
          "text": [
            "{'incident_level': [0, 1, 2, 3, 4, 5], 'count': [40, 45, 45, 29, 24, 15.883878392550955]}\n"
          ],
          "name": "stdout"
        }
      ]
    },
    {
      "cell_type": "code",
      "metadata": {
        "id": "ou5mX6p3ODmg",
        "colab": {
          "base_uri": "https://localhost:8080/",
          "height": 294
        },
        "outputId": "7989faa1-1ae0-44ea-eac0-e52fb4550d4c"
      },
      "source": [
        "df_log_pred = pd.DataFrame(data=df_log_pred_dict)\n",
        "\n",
        "plt.scatter(df_log_pred['incident_level'], df_log_pred['count'])\n",
        "plt.title('Nuclear Wars expected by Logarithmic Decay Forecast (Level 5)')\n",
        "plt.xlabel('Incident Level')\n",
        "plt.xticks(df_log_pred['incident_level'])\n",
        "plt.ylabel('Count')\n",
        "plt.yticks(range(0,50,6))\n",
        "plt.show()"
      ],
      "execution_count": 28,
      "outputs": [
        {
          "output_type": "display_data",
          "data": {
            "image/png": "[encoded data removed]",
            "text/plain": [
              "<Figure size 432x288 with 1 Axes>"
            ]
          },
          "metadata": {
            "tags": [],
            "needs_background": "light"
          }
        }
      ]
    },
    {
      "cell_type": "markdown",
      "metadata": {
        "id": "VQq26poHPDHd"
      },
      "source": [
        "# LOGARITHMS REGRESSED: THERE SHOULD HAVE BEEN ~16 NUCLEAR LAUNCHES SINCE 1949"
      ]
    },
    {
      "cell_type": "code",
      "metadata": {
        "id": "L2E5DRqqNhiQ"
      },
      "source": [
        "# MULTIPLICATIVE DECAY (RATHER THAN LOGARITHMIC)"
      ],
      "execution_count": 32,
      "outputs": []
    },
    {
      "cell_type": "code",
      "metadata": {
        "colab": {
          "base_uri": "https://localhost:8080/"
        },
        "id": "Aym6bGvC2Vv0",
        "outputId": "296a6906-e0f6-46cd-92ae-f5cd73a3a910"
      },
      "source": [
        "margin = [(count[i+1] / count[i]) for i in incident_levels[:4]]\n",
        "df_mult_decay_dict = {'increment': increment[:-1], 'margin':margin}\n",
        "print(df_mult_decay_dict)"
      ],
      "execution_count": 36,
      "outputs": [
        {
          "output_type": "stream",
          "text": [
            "{'increment': [0.5, 1.5, 2.5, 3.5], 'margin': [1.125, 1.0, 0.6444444444444445, 0.8275862068965517]}\n"
          ],
          "name": "stdout"
        }
      ]
    },
    {
      "cell_type": "code",
      "metadata": {
        "colab": {
          "base_uri": "https://localhost:8080/",
          "height": 171
        },
        "id": "iiqDdOG426bB",
        "outputId": "8d87419b-3753-4d43-e7cd-3da890361680"
      },
      "source": [
        "df_mult_decay = pd.DataFrame(data=df_mult_decay_dict)\n",
        "df_mult_decay"
      ],
      "execution_count": 37,
      "outputs": [
        {
          "output_type": "execute_result",
          "data": {
            "text/html": [
              "<div>\n",
              "<style scoped>\n",
              "    .dataframe tbody tr th:only-of-type {\n",
              "        vertical-align: middle;\n",
              "    }\n",
              "\n",
              "    .dataframe tbody tr th {\n",
              "        vertical-align: top;\n",
              "    }\n",
              "\n",
              "    .dataframe thead th {\n",
              "        text-align: right;\n",
              "    }\n",
              "</style>\n",
              "<table border=\"1\" class=\"dataframe\">\n",
              "  <thead>\n",
              "    <tr style=\"text-align: right;\">\n",
              "      <th></th>\n",
              "      <th>increment</th>\n",
              "      <th>margin</th>\n",
              "    </tr>\n",
              "  </thead>\n",
              "  <tbody>\n",
              "    <tr>\n",
              "      <th>0</th>\n",
              "      <td>0.5</td>\n",
              "      <td>1.125000</td>\n",
              "    </tr>\n",
              "    <tr>\n",
              "      <th>1</th>\n",
              "      <td>1.5</td>\n",
              "      <td>1.000000</td>\n",
              "    </tr>\n",
              "    <tr>\n",
              "      <th>2</th>\n",
              "      <td>2.5</td>\n",
              "      <td>0.644444</td>\n",
              "    </tr>\n",
              "    <tr>\n",
              "      <th>3</th>\n",
              "      <td>3.5</td>\n",
              "      <td>0.827586</td>\n",
              "    </tr>\n",
              "  </tbody>\n",
              "</table>\n",
              "</div>"
            ],
            "text/plain": [
              "   increment    margin\n",
              "0        0.5  1.125000\n",
              "1        1.5  1.000000\n",
              "2        2.5  0.644444\n",
              "3        3.5  0.827586"
            ]
          },
          "metadata": {
            "tags": []
          },
          "execution_count": 37
        }
      ]
    },
    {
      "cell_type": "code",
      "metadata": {
        "colab": {
          "base_uri": "https://localhost:8080/",
          "height": 294
        },
        "id": "9zZEQR6u3aQx",
        "outputId": "5fbdee8e-3ed6-4201-cbbe-0dd47bea0af9"
      },
      "source": [
        "plt.scatter(df_mult_decay['increment'], df_mult_decay['margin'])\n",
        "plt.title('Proportional Margins between Near Miss Levels')\n",
        "plt.xlabel('Increment')\n",
        "plt.xticks(df_mult_decay['increment'])\n",
        "plt.ylabel('Margin')\n",
        "plt.yticks([0.5,0.7,0.8,0.9, 1,1.1, 1.3])\n",
        "plt.show()"
      ],
      "execution_count": 39,
      "outputs": [
        {
          "output_type": "display_data",
          "data": {
            "image/png": "[encoded data removed]",
            "text/plain": [
              "<Figure size 432x288 with 1 Axes>"
            ]
          },
          "metadata": {
            "tags": [],
            "needs_background": "light"
          }
        }
      ]
    },
    {
      "cell_type": "code",
      "metadata": {
        "id": "LrGFFXHz4INe"
      },
      "source": [
        "model_m = LinearRegression()"
      ],
      "execution_count": 42,
      "outputs": []
    },
    {
      "cell_type": "code",
      "metadata": {
        "colab": {
          "base_uri": "https://localhost:8080/"
        },
        "id": "O_pO8x2W4dy8",
        "outputId": "7e78f7b5-4c76-445a-8f76-493905d909a0"
      },
      "source": [
        "target_m = 'margin'\n",
        "\n",
        "X_train_m = df_mult_decay[features]\n",
        "y_train_m = df_mult_decay[target_m]\n",
        "\n",
        "model_m.fit(X_train_m, y_train_m)\n",
        "\n",
        "print(model_m.coef_)\n",
        "print(model_m.intercept_)"
      ],
      "execution_count": 44,
      "outputs": [
        {
          "output_type": "stream",
          "text": [
            "[-0.12477969]\n",
            "1.148817049808429\n"
          ],
          "name": "stdout"
        }
      ]
    },
    {
      "cell_type": "code",
      "metadata": {
        "colab": {
          "base_uri": "https://localhost:8080/"
        },
        "id": "qRJ7JrLz5Hlz",
        "outputId": "e9bf8dc4-f06e-43c9-a7d5-679ed219e753"
      },
      "source": [
        "launch_marg = model_m.predict([[4.5]])\n",
        "print(launch_marg)"
      ],
      "execution_count": 45,
      "outputs": [
        {
          "output_type": "stream",
          "text": [
            "[0.58730843]\n"
          ],
          "name": "stdout"
        }
      ]
    },
    {
      "cell_type": "code",
      "metadata": {
        "colab": {
          "base_uri": "https://localhost:8080/",
          "height": 282
        },
        "id": "xg016GRl5ZI-",
        "outputId": "70b1add4-fb52-4509-fb2b-d419f1b3d662"
      },
      "source": [
        "plt.xlim(0,4.5)\n",
        "sb.regplot(x=df_mult_decay['increment'], y=df_mult_decay['margin'], truncate=False);"
      ],
      "execution_count": 46,
      "outputs": [
        {
          "output_type": "display_data",
          "data": {
            "image/png": "[encoded data removed]",
            "text/plain": [
              "<Figure size 432x288 with 1 Axes>"
            ]
          },
          "metadata": {
            "tags": [],
            "needs_background": "light"
          }
        }
      ]
    },
    {
      "cell_type": "code",
      "metadata": {
        "colab": {
          "base_uri": "https://localhost:8080/"
        },
        "id": "RJbPxORi5wME",
        "outputId": "5d8e779e-10fd-4c7c-dc0d-4a8418ea0d81"
      },
      "source": [
        "margin_pred = margin\n",
        "margin_pred.append(launch_marg[0])\n",
        "\n",
        "df_mult_decay_pred_dict = {'increment_pred':increment_pred, 'margin_pred':margin_pred}\n",
        "\n",
        "# print(increment)\n",
        "print(df_mult_decay_pred_dict)"
      ],
      "execution_count": 47,
      "outputs": [
        {
          "output_type": "stream",
          "text": [
            "{'increment_pred': [0.5, 1.5, 2.5, 3.5, 4.5], 'margin_pred': [1.125, 1.0, 0.6444444444444445, 0.8275862068965517, 0.5873084291187739]}\n"
          ],
          "name": "stdout"
        }
      ]
    },
    {
      "cell_type": "code",
      "metadata": {
        "colab": {
          "base_uri": "https://localhost:8080/",
          "height": 202
        },
        "id": "9BVm5f6B6cfW",
        "outputId": "8da4a813-88ef-4925-c6c2-f6422e4d0f2b"
      },
      "source": [
        "df_mult_decay_pred = pd.DataFrame(data=df_mult_decay_pred_dict)\n",
        "df_mult_decay_pred"
      ],
      "execution_count": 48,
      "outputs": [
        {
          "output_type": "execute_result",
          "data": {
            "text/html": [
              "<div>\n",
              "<style scoped>\n",
              "    .dataframe tbody tr th:only-of-type {\n",
              "        vertical-align: middle;\n",
              "    }\n",
              "\n",
              "    .dataframe tbody tr th {\n",
              "        vertical-align: top;\n",
              "    }\n",
              "\n",
              "    .dataframe thead th {\n",
              "        text-align: right;\n",
              "    }\n",
              "</style>\n",
              "<table border=\"1\" class=\"dataframe\">\n",
              "  <thead>\n",
              "    <tr style=\"text-align: right;\">\n",
              "      <th></th>\n",
              "      <th>increment_pred</th>\n",
              "      <th>margin_pred</th>\n",
              "    </tr>\n",
              "  </thead>\n",
              "  <tbody>\n",
              "    <tr>\n",
              "      <th>0</th>\n",
              "      <td>0.5</td>\n",
              "      <td>1.125000</td>\n",
              "    </tr>\n",
              "    <tr>\n",
              "      <th>1</th>\n",
              "      <td>1.5</td>\n",
              "      <td>1.000000</td>\n",
              "    </tr>\n",
              "    <tr>\n",
              "      <th>2</th>\n",
              "      <td>2.5</td>\n",
              "      <td>0.644444</td>\n",
              "    </tr>\n",
              "    <tr>\n",
              "      <th>3</th>\n",
              "      <td>3.5</td>\n",
              "      <td>0.827586</td>\n",
              "    </tr>\n",
              "    <tr>\n",
              "      <th>4</th>\n",
              "      <td>4.5</td>\n",
              "      <td>0.587308</td>\n",
              "    </tr>\n",
              "  </tbody>\n",
              "</table>\n",
              "</div>"
            ],
            "text/plain": [
              "   increment_pred  margin_pred\n",
              "0             0.5     1.125000\n",
              "1             1.5     1.000000\n",
              "2             2.5     0.644444\n",
              "3             3.5     0.827586\n",
              "4             4.5     0.587308"
            ]
          },
          "metadata": {
            "tags": []
          },
          "execution_count": 48
        }
      ]
    },
    {
      "cell_type": "code",
      "metadata": {
        "colab": {
          "base_uri": "https://localhost:8080/"
        },
        "id": "CPwB_PGe6ty5",
        "outputId": "1d20b426-7812-4280-9723-7e29709112ad"
      },
      "source": [
        "lambda_min_mult = count[4] * margin_pred[-1]\n",
        "print(lambda_min_mult)"
      ],
      "execution_count": 49,
      "outputs": [
        {
          "output_type": "stream",
          "text": [
            "14.095402298850573\n"
          ],
          "name": "stdout"
        }
      ]
    },
    {
      "cell_type": "code",
      "metadata": {
        "colab": {
          "base_uri": "https://localhost:8080/"
        },
        "id": "bXWOdQP069Hx",
        "outputId": "01c5c5ca-4282-4dc6-84cd-c7247b64bb4e"
      },
      "source": [
        "df_prop_pred_dict = df_dict\n",
        "df_prop_pred_dict['count'][-1] = lambda_min_mult\n",
        "print(df_prop_pred_dict)"
      ],
      "execution_count": 50,
      "outputs": [
        {
          "output_type": "stream",
          "text": [
            "{'incident_level': [0, 1, 2, 3, 4, 5], 'count': [40, 45, 45, 29, 24, 14.095402298850573]}\n"
          ],
          "name": "stdout"
        }
      ]
    },
    {
      "cell_type": "code",
      "metadata": {
        "colab": {
          "base_uri": "https://localhost:8080/",
          "height": 294
        },
        "id": "szS45QEC7pos",
        "outputId": "7f8235c5-3939-4bff-f7e5-ab5ede30722b"
      },
      "source": [
        "df_prop_pred = pd.DataFrame(data=df_prop_pred_dict)\n",
        "\n",
        "plt.scatter(df_prop_pred['incident_level'], df_prop_pred['count'])\n",
        "plt.title('Nuclear Wars expected by Proportional Decay Forecast (Level 5)')\n",
        "plt.xlabel('Incident Level')\n",
        "plt.xticks(df_prop_pred['incident_level'])\n",
        "plt.ylabel('Count')\n",
        "plt.yticks(range(0,50,6))\n",
        "plt.show()"
      ],
      "execution_count": 51,
      "outputs": [
        {
          "output_type": "display_data",
          "data": {
            "image/png": "[encoded data removed]",
            "text/plain": [
              "<Figure size 432x288 with 1 Axes>"
            ]
          },
          "metadata": {
            "tags": [],
            "needs_background": "light"
          }
        }
      ]
    },
    {
      "cell_type": "markdown",
      "metadata": {
        "id": "sqLhBXs48CyH"
      },
      "source": [
        "# PROPORTIONS REGRESSED: THERE SHOULD HAVE BEEN ~14 NUCLEAR LAUNCHES SINCE 1949"
      ]
    },
    {
      "cell_type": "code",
      "metadata": {
        "id": "I3XfD-eo9Naz"
      },
      "source": [
        "# LINEAR REGRESSION DECAY"
      ],
      "execution_count": 30,
      "outputs": []
    },
    {
      "cell_type": "code",
      "metadata": {
        "id": "5dg6ONeVKOpQ"
      },
      "source": [
        "# we would have expected N number of nuclear launches (level 5) since 1949, so\n",
        "# what are the odds that we instead had 0?"
      ],
      "execution_count": 31,
      "outputs": []
    }
  ]
}