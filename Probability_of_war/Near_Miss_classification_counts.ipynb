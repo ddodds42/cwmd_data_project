{
  "nbformat": 4,
  "nbformat_minor": 0,
  "metadata": {
    "colab": {
      "name": "Near_Miss_classification_counts.ipynb",
      "provenance": [],
      "collapsed_sections": []
    },
    "kernelspec": {
      "display_name": "Python 3",
      "name": "python3"
    },
    "language_info": {
      "name": "python"
    }
  },
  "cells": [
    {
      "cell_type": "code",
      "metadata": {
        "id": "RmyV5Pwp8Adj"
      },
      "source": [
        "Escalation_Dimension = {\n",
        "0:[0,1,3,4,5,6,7,8,9,10,11,12,14,15,16,17,18,19,20,21,22,23,24,25,26,27,28,29,30,31,32,34,35,36,37,38,40,41,43,47,49,55,57],\n",
        "1:[0,1,2,3,4,5,6,7,8,9,10,11,12,14,15,16,17,18,19,20,21,22,23,24,26,27,28,29,30,31,32,34,35,36,37,38,40,43,45,46,47,49,51,54,55,56,58,59],\n",
        "2:[0,1,2,3,4,6,9,11,12,13,14,15,16,17,18,19,21,22,23,24,25,27,29,30,31,32,35,36,37,38,39,40,41,43,44,45,46,47,48,49,50,51,52,53,55,58,59],\n",
        "3:[0,1,3,4,5,6,7,8,9,10,12,13,14,15,16,17,18,19,21,22,24,29,30,31,32,37,40,47,49,55],\n",
        "4:[3,13,19,24,29,30,31,32,34,42,43,44,45,46,48,49,50,51,52,53,54,55,56,58,59],\n",
        "5:[0]\n",
        "}"
      ],
      "execution_count": 1,
      "outputs": []
    },
    {
      "cell_type": "code",
      "metadata": {
        "id": "3O3lpJMo8HEN"
      },
      "source": [
        "Escalation_Dimension_Post_Deterrence = {\n",
        "0:[1,3,4,5,6,7,8,9,10,12,14,15,16,17,18,19,21,22,23,24,25,26,27,28,29,30,31,32,34,35,36,37,38,40,41,43,47,49,55,57],\n",
        "1:[1,2,3,4,5,6,7,8,9,10,12,14,15,16,17,18,19,21,22,23,24,26,27,28,29,30,31,32,34,35,36,37,38,40,43,45,46,47,49,51,54,55,56,58,59],\n",
        "2:[1,2,3,4,6,9,12,13,14,15,16,17,18,19,21,22,23,24,25,27,29,30,31,32,35,36,37,38,39,40,41,43,44,45,46,47,48,49,50,51,52,53,55,58,59],\n",
        "3:[1,3,4,5,6,7,8,9,10,12,13,14,15,16,17,18,19,21,22,24,29,30,31,32,37,40,47,49,55],\n",
        "4:[13,19,24,29,30,31,32,34,42,43,44,45,46,48,49,50,51,52,53,54,55,56,58,59],\n",
        "5:[]\n",
        "}"
      ],
      "execution_count": 2,
      "outputs": []
    },
    {
      "cell_type": "code",
      "metadata": {
        "colab": {
          "base_uri": "https://localhost:8080/"
        },
        "id": "51DP8IVP8LOU",
        "outputId": "92e7669c-5543-4096-87ae-76e2e1a97705"
      },
      "source": [
        "print('Since WWII:')\n",
        "print(len(Escalation_Dimension[0]), ' diplomacy breakdowns')\n",
        "print(len(Escalation_Dimension[1]), ' military buildups / exercise incidents')\n",
        "print(len(Escalation_Dimension[2]), ' incidents coinciding weapon systems testing')\n",
        "print(len(Escalation_Dimension[3]), ' incidents with conventional military contact')\n",
        "print(len(Escalation_Dimension[4]), ' weapon systems accidents / averted war incidents')\n",
        "print(len(Escalation_Dimension[5]), ' intentional nuclear strikes')\n"
      ],
      "execution_count": 3,
      "outputs": [
        {
          "output_type": "stream",
          "text": [
            "Since WWII:\n",
            "43  diplomacy breakdowns\n",
            "48  military buildups / exercise incidents\n",
            "47  incidents coinciding weapon systems testing\n",
            "30  incidents with conventional military contact\n",
            "25  weapon systems accidents / averted war incidents\n",
            "1  intentional nuclear strikes\n"
          ],
          "name": "stdout"
        }
      ]
    },
    {
      "cell_type": "code",
      "metadata": {
        "colab": {
          "base_uri": "https://localhost:8080/"
        },
        "id": "7RFUhxQX9chT",
        "outputId": "a425e4f8-6aa2-4933-c0b1-95eeaa7a570f"
      },
      "source": [
        "print('Since the deterrance paradigm began:')\n",
        "print(len(Escalation_Dimension_Post_Deterrence[0]), ' diplomacy breakdowns')\n",
        "print(len(Escalation_Dimension_Post_Deterrence[1]), ' military buildups / exercise incidents')\n",
        "print(len(Escalation_Dimension_Post_Deterrence[2]), ' incidents coinciding weapon systems testing')\n",
        "print(len(Escalation_Dimension_Post_Deterrence[3]), ' incidents with conventional military contact')\n",
        "print(len(Escalation_Dimension_Post_Deterrence[4]), ' weapon systems accidents / averted war incidents')\n",
        "print(len(Escalation_Dimension_Post_Deterrence[5]), ' intentional nuclear strikes')"
      ],
      "execution_count": 4,
      "outputs": [
        {
          "output_type": "stream",
          "text": [
            "Since the deterrance paradigm began:\n",
            "40  diplomacy breakdowns\n",
            "45  military buildups / exercise incidents\n",
            "45  incidents coinciding weapon systems testing\n",
            "29  incidents with conventional military contact\n",
            "24  weapon systems accidents / averted war incidents\n",
            "0  intentional nuclear strikes\n"
          ],
          "name": "stdout"
        }
      ]
    },
    {
      "cell_type": "code",
      "metadata": {
        "colab": {
          "base_uri": "https://localhost:8080/"
        },
        "id": "qfOl0AXB-Bm4",
        "outputId": "5f3e8dad-15c0-4df8-a587-4f24c5f38fa2"
      },
      "source": [
        "incident_levels = [i for i in Escalation_Dimension_Post_Deterrence.keys()]\n",
        "print(incident_levels)"
      ],
      "execution_count": 5,
      "outputs": [
        {
          "output_type": "stream",
          "text": [
            "[0, 1, 2, 3, 4, 5]\n"
          ],
          "name": "stdout"
        }
      ]
    },
    {
      "cell_type": "code",
      "metadata": {
        "colab": {
          "base_uri": "https://localhost:8080/"
        },
        "id": "sUs2QCno7_Hw",
        "outputId": "3910e021-dc29-41ad-dc77-155ea105b190"
      },
      "source": [
        "count = [len(Escalation_Dimension_Post_Deterrence[i]) for i in incident_levels]\n",
        "print(count)"
      ],
      "execution_count": 6,
      "outputs": [
        {
          "output_type": "stream",
          "text": [
            "[40, 45, 45, 29, 24, 0]\n"
          ],
          "name": "stdout"
        }
      ]
    },
    {
      "cell_type": "code",
      "metadata": {
        "id": "B7LnQi628UDP"
      },
      "source": [
        "import pandas as pd"
      ],
      "execution_count": 7,
      "outputs": []
    },
    {
      "cell_type": "code",
      "metadata": {
        "colab": {
          "base_uri": "https://localhost:8080/",
          "height": 235
        },
        "id": "S7W-Xu2_8hYx",
        "outputId": "553cdd19-361f-4953-8100-44b35fd787ab"
      },
      "source": [
        "df_dict = {'incident_level': incident_levels, 'count':count}\n",
        "\n",
        "df = pd.DataFrame(data=df_dict)\n",
        "df"
      ],
      "execution_count": 8,
      "outputs": [
        {
          "output_type": "execute_result",
          "data": {
            "text/html": [
              "<div>\n",
              "<style scoped>\n",
              "    .dataframe tbody tr th:only-of-type {\n",
              "        vertical-align: middle;\n",
              "    }\n",
              "\n",
              "    .dataframe tbody tr th {\n",
              "        vertical-align: top;\n",
              "    }\n",
              "\n",
              "    .dataframe thead th {\n",
              "        text-align: right;\n",
              "    }\n",
              "</style>\n",
              "<table border=\"1\" class=\"dataframe\">\n",
              "  <thead>\n",
              "    <tr style=\"text-align: right;\">\n",
              "      <th></th>\n",
              "      <th>incident_level</th>\n",
              "      <th>count</th>\n",
              "    </tr>\n",
              "  </thead>\n",
              "  <tbody>\n",
              "    <tr>\n",
              "      <th>0</th>\n",
              "      <td>0</td>\n",
              "      <td>40</td>\n",
              "    </tr>\n",
              "    <tr>\n",
              "      <th>1</th>\n",
              "      <td>1</td>\n",
              "      <td>45</td>\n",
              "    </tr>\n",
              "    <tr>\n",
              "      <th>2</th>\n",
              "      <td>2</td>\n",
              "      <td>45</td>\n",
              "    </tr>\n",
              "    <tr>\n",
              "      <th>3</th>\n",
              "      <td>3</td>\n",
              "      <td>29</td>\n",
              "    </tr>\n",
              "    <tr>\n",
              "      <th>4</th>\n",
              "      <td>4</td>\n",
              "      <td>24</td>\n",
              "    </tr>\n",
              "    <tr>\n",
              "      <th>5</th>\n",
              "      <td>5</td>\n",
              "      <td>0</td>\n",
              "    </tr>\n",
              "  </tbody>\n",
              "</table>\n",
              "</div>"
            ],
            "text/plain": [
              "   incident_level  count\n",
              "0               0     40\n",
              "1               1     45\n",
              "2               2     45\n",
              "3               3     29\n",
              "4               4     24\n",
              "5               5      0"
            ]
          },
          "metadata": {
            "tags": []
          },
          "execution_count": 8
        }
      ]
    },
    {
      "cell_type": "code",
      "metadata": {
        "id": "V454kPIC89wx"
      },
      "source": [
        "import matplotlib.pyplot as plt"
      ],
      "execution_count": 9,
      "outputs": []
    },
    {
      "cell_type": "code",
      "metadata": {
        "colab": {
          "base_uri": "https://localhost:8080/",
          "height": 204
        },
        "id": "UOZSAvd0Bd1S",
        "outputId": "0336cc79-69fe-4b80-888e-ac122068e44b"
      },
      "source": [
        "df_nolaunch = df.iloc[:5]\n",
        "df_nolaunch"
      ],
      "execution_count": 10,
      "outputs": [
        {
          "output_type": "execute_result",
          "data": {
            "text/html": [
              "<div>\n",
              "<style scoped>\n",
              "    .dataframe tbody tr th:only-of-type {\n",
              "        vertical-align: middle;\n",
              "    }\n",
              "\n",
              "    .dataframe tbody tr th {\n",
              "        vertical-align: top;\n",
              "    }\n",
              "\n",
              "    .dataframe thead th {\n",
              "        text-align: right;\n",
              "    }\n",
              "</style>\n",
              "<table border=\"1\" class=\"dataframe\">\n",
              "  <thead>\n",
              "    <tr style=\"text-align: right;\">\n",
              "      <th></th>\n",
              "      <th>incident_level</th>\n",
              "      <th>count</th>\n",
              "    </tr>\n",
              "  </thead>\n",
              "  <tbody>\n",
              "    <tr>\n",
              "      <th>0</th>\n",
              "      <td>0</td>\n",
              "      <td>40</td>\n",
              "    </tr>\n",
              "    <tr>\n",
              "      <th>1</th>\n",
              "      <td>1</td>\n",
              "      <td>45</td>\n",
              "    </tr>\n",
              "    <tr>\n",
              "      <th>2</th>\n",
              "      <td>2</td>\n",
              "      <td>45</td>\n",
              "    </tr>\n",
              "    <tr>\n",
              "      <th>3</th>\n",
              "      <td>3</td>\n",
              "      <td>29</td>\n",
              "    </tr>\n",
              "    <tr>\n",
              "      <th>4</th>\n",
              "      <td>4</td>\n",
              "      <td>24</td>\n",
              "    </tr>\n",
              "  </tbody>\n",
              "</table>\n",
              "</div>"
            ],
            "text/plain": [
              "   incident_level  count\n",
              "0               0     40\n",
              "1               1     45\n",
              "2               2     45\n",
              "3               3     29\n",
              "4               4     24"
            ]
          },
          "metadata": {
            "tags": []
          },
          "execution_count": 10
        }
      ]
    },
    {
      "cell_type": "code",
      "metadata": {
        "colab": {
          "base_uri": "https://localhost:8080/",
          "height": 295
        },
        "id": "o2JS1b0lA2lM",
        "outputId": "7eb53ce8-1b57-4301-91c6-b96eb0cb410d"
      },
      "source": [
        "plt.scatter(df_nolaunch['incident_level'], df_nolaunch['count'])\n",
        "plt.title('Typological Emergence of Nuclear Near Miss Incidents')\n",
        "plt.xlabel('Incident Level')\n",
        "plt.xticks(df['incident_level'])\n",
        "plt.ylabel('Count')\n",
        "plt.yticks(range(0,50,5))\n",
        "plt.show()"
      ],
      "execution_count": 11,
      "outputs": [
        {
          "output_type": "display_data",
          "data": {
            "image/png": "[encoded data removed]",
            "text/plain": [
              "<Figure size 432x288 with 1 Axes>"
            ]
          },
          "metadata": {
            "tags": [],
            "needs_background": "light"
          }
        }
      ]
    },
    {
      "cell_type": "code",
      "metadata": {
        "id": "_3FbkLmd9H_s"
      },
      "source": [
        "# LOGARITHMIC DECAY\n",
        "\n",
        "#  2^y = 30\n",
        "#  y = log2(30)"
      ],
      "execution_count": 12,
      "outputs": []
    },
    {
      "cell_type": "code",
      "metadata": {
        "id": "ypz7LMbwB7pU"
      },
      "source": [
        "import math\n",
        "\n",
        "# math.e\n",
        "# math.log(x, base)"
      ],
      "execution_count": 13,
      "outputs": []
    },
    {
      "cell_type": "code",
      "metadata": {
        "colab": {
          "base_uri": "https://localhost:8080/"
        },
        "id": "jZSUxJAX-j_Q",
        "outputId": "28d9a4b5-cca6-470f-c6ac-c53b7e1c9314"
      },
      "source": [
        "for i in incident_levels[:4]:\n",
        "  y = math.log(count[i+1],count[i])\n",
        "  print(f'{i} to {i+1}: ', y)"
      ],
      "execution_count": 14,
      "outputs": [
        {
          "output_type": "stream",
          "text": [
            "0 to 1:  1.0319292178347081\n",
            "1 to 2:  1.0\n",
            "2 to 3:  0.884579559925641\n",
            "3 to 4:  0.9438000077233224\n"
          ],
          "name": "stdout"
        }
      ]
    },
    {
      "cell_type": "code",
      "metadata": {
        "colab": {
          "base_uri": "https://localhost:8080/"
        },
        "id": "qey0-MS7Jz56",
        "outputId": "14541364-6459-4065-c680-afde18c12c49"
      },
      "source": [
        "increment = [i+0.5 for i in range(4)]\n",
        "exponent = [math.log(count[i+1],count[i]) for i in incident_levels[:4]]\n",
        "df_increment_dict = {'increment': increment, 'exponent':exponent}\n",
        "print(df_increment_dict)"
      ],
      "execution_count": 15,
      "outputs": [
        {
          "output_type": "stream",
          "text": [
            "{'increment': [0.5, 1.5, 2.5, 3.5], 'exponent': [1.0319292178347081, 1.0, 0.884579559925641, 0.9438000077233224]}\n"
          ],
          "name": "stdout"
        }
      ]
    },
    {
      "cell_type": "code",
      "metadata": {
        "colab": {
          "base_uri": "https://localhost:8080/",
          "height": 172
        },
        "id": "oKadSZE-LY7D",
        "outputId": "f52a003d-2e3c-4b48-b910-defed72a8ad0"
      },
      "source": [
        "df_increment = pd.DataFrame(data=df_increment_dict)\n",
        "df_increment"
      ],
      "execution_count": 16,
      "outputs": [
        {
          "output_type": "execute_result",
          "data": {
            "text/html": [
              "<div>\n",
              "<style scoped>\n",
              "    .dataframe tbody tr th:only-of-type {\n",
              "        vertical-align: middle;\n",
              "    }\n",
              "\n",
              "    .dataframe tbody tr th {\n",
              "        vertical-align: top;\n",
              "    }\n",
              "\n",
              "    .dataframe thead th {\n",
              "        text-align: right;\n",
              "    }\n",
              "</style>\n",
              "<table border=\"1\" class=\"dataframe\">\n",
              "  <thead>\n",
              "    <tr style=\"text-align: right;\">\n",
              "      <th></th>\n",
              "      <th>increment</th>\n",
              "      <th>exponent</th>\n",
              "    </tr>\n",
              "  </thead>\n",
              "  <tbody>\n",
              "    <tr>\n",
              "      <th>0</th>\n",
              "      <td>0.5</td>\n",
              "      <td>1.031929</td>\n",
              "    </tr>\n",
              "    <tr>\n",
              "      <th>1</th>\n",
              "      <td>1.5</td>\n",
              "      <td>1.000000</td>\n",
              "    </tr>\n",
              "    <tr>\n",
              "      <th>2</th>\n",
              "      <td>2.5</td>\n",
              "      <td>0.884580</td>\n",
              "    </tr>\n",
              "    <tr>\n",
              "      <th>3</th>\n",
              "      <td>3.5</td>\n",
              "      <td>0.943800</td>\n",
              "    </tr>\n",
              "  </tbody>\n",
              "</table>\n",
              "</div>"
            ],
            "text/plain": [
              "   increment  exponent\n",
              "0        0.5  1.031929\n",
              "1        1.5  1.000000\n",
              "2        2.5  0.884580\n",
              "3        3.5  0.943800"
            ]
          },
          "metadata": {
            "tags": []
          },
          "execution_count": 16
        }
      ]
    },
    {
      "cell_type": "code",
      "metadata": {
        "colab": {
          "base_uri": "https://localhost:8080/",
          "height": 295
        },
        "id": "TecF2H97LfMa",
        "outputId": "9646089c-4493-401d-bd6b-d7b32c7ab6fe"
      },
      "source": [
        "plt.scatter(df_increment['increment'], df_increment['exponent'])\n",
        "plt.title('Exponential Incriments between Near Miss Levels')\n",
        "plt.xlabel('Increment')\n",
        "plt.xticks(df_increment['increment'])\n",
        "plt.ylabel('Exponent')\n",
        "plt.yticks([0.7,0.8,0.9, 1,1.1])\n",
        "plt.show()"
      ],
      "execution_count": 17,
      "outputs": [
        {
          "output_type": "display_data",
          "data": {
            "image/png": "[encoded data removed]",
            "text/plain": [
              "<Figure size 432x288 with 1 Axes>"
            ]
          },
          "metadata": {
            "tags": [],
            "needs_background": "light"
          }
        }
      ]
    },
    {
      "cell_type": "code",
      "metadata": {
        "id": "Puox_WLddypS"
      },
      "source": [
        "from sklearn.linear_model import LinearRegression"
      ],
      "execution_count": 18,
      "outputs": []
    },
    {
      "cell_type": "code",
      "metadata": {
        "id": "2ClQsPT7eRl5"
      },
      "source": [
        "model = LinearRegression()"
      ],
      "execution_count": 19,
      "outputs": []
    },
    {
      "cell_type": "code",
      "metadata": {
        "colab": {
          "base_uri": "https://localhost:8080/"
        },
        "id": "vPJQnSszfN_q",
        "outputId": "dac9b842-1ad1-4be3-c9a3-2c0a85836fe4"
      },
      "source": [
        "features = ['increment']\n",
        "target = 'exponent'\n",
        "\n",
        "X_train = df_increment[features]\n",
        "y_train = df_increment[target]\n",
        "\n",
        "model.fit(X_train, y_train)\n",
        "\n",
        "print(model.coef_)\n",
        "print(model.intercept_)"
      ],
      "execution_count": 20,
      "outputs": [
        {
          "output_type": "stream",
          "text": [
            "[-0.03798081]\n",
            "1.0410388104526211\n"
          ],
          "name": "stdout"
        }
      ]
    },
    {
      "cell_type": "code",
      "metadata": {
        "colab": {
          "base_uri": "https://localhost:8080/"
        },
        "id": "dXjkD1uCgG_t",
        "outputId": "06dd435f-e318-4f0e-a766-4e573f2f664a"
      },
      "source": [
        "launch_exp = model.predict([[4.5]])\n",
        "print(launch_exp)"
      ],
      "execution_count": 21,
      "outputs": [
        {
          "output_type": "stream",
          "text": [
            "[0.87012518]\n"
          ],
          "name": "stdout"
        }
      ]
    },
    {
      "cell_type": "code",
      "metadata": {
        "id": "Qr-KpejihDyD"
      },
      "source": [
        "import seaborn as sb"
      ],
      "execution_count": 22,
      "outputs": []
    },
    {
      "cell_type": "code",
      "metadata": {
        "colab": {
          "base_uri": "https://localhost:8080/",
          "height": 279
        },
        "id": "KsnXyBtEhSXl",
        "outputId": "152c138b-5765-4648-9ee2-9cb2f9cbfe89"
      },
      "source": [
        "plt.xlim(0,4.5)\n",
        "sb.regplot(x=df_increment['increment'], y=df_increment['exponent'], truncate=False);"
      ],
      "execution_count": 23,
      "outputs": [
        {
          "output_type": "display_data",
          "data": {
            "image/png": "[encoded data removed]",
            "text/plain": [
              "<Figure size 432x288 with 1 Axes>"
            ]
          },
          "metadata": {
            "tags": [],
            "needs_background": "light"
          }
        }
      ]
    },
    {
      "cell_type": "code",
      "metadata": {
        "colab": {
          "base_uri": "https://localhost:8080/"
        },
        "id": "c1VZEmPdhlgM",
        "outputId": "3d086803-5f70-4682-9716-0f0e78496c1a"
      },
      "source": [
        "increment_pred = increment\n",
        "increment_pred.append(4.5)\n",
        "\n",
        "exponent_pred = exponent\n",
        "exponent_pred.append(launch_exp[0])\n",
        "\n",
        "df_increment_log_dict = {'increment_pred':increment_pred, 'exponent_pred':exponent_pred}\n",
        "\n",
        "# print(increment)\n",
        "print(df_increment_log_dict)"
      ],
      "execution_count": 24,
      "outputs": [
        {
          "output_type": "stream",
          "text": [
            "{'increment_pred': [0.5, 1.5, 2.5, 3.5, 4.5], 'exponent_pred': [1.0319292178347081, 1.0, 0.884579559925641, 0.9438000077233224, 0.8701251787687888]}\n"
          ],
          "name": "stdout"
        }
      ]
    },
    {
      "cell_type": "code",
      "metadata": {
        "colab": {
          "base_uri": "https://localhost:8080/",
          "height": 204
        },
        "id": "JGMjtZa_ln4a",
        "outputId": "ad234cd7-d039-46ce-94cc-32fe178a3a43"
      },
      "source": [
        "df_increment_log = pd.DataFrame(data=df_increment_log_dict)\n",
        "df_increment_log"
      ],
      "execution_count": 25,
      "outputs": [
        {
          "output_type": "execute_result",
          "data": {
            "text/html": [
              "<div>\n",
              "<style scoped>\n",
              "    .dataframe tbody tr th:only-of-type {\n",
              "        vertical-align: middle;\n",
              "    }\n",
              "\n",
              "    .dataframe tbody tr th {\n",
              "        vertical-align: top;\n",
              "    }\n",
              "\n",
              "    .dataframe thead th {\n",
              "        text-align: right;\n",
              "    }\n",
              "</style>\n",
              "<table border=\"1\" class=\"dataframe\">\n",
              "  <thead>\n",
              "    <tr style=\"text-align: right;\">\n",
              "      <th></th>\n",
              "      <th>increment_pred</th>\n",
              "      <th>exponent_pred</th>\n",
              "    </tr>\n",
              "  </thead>\n",
              "  <tbody>\n",
              "    <tr>\n",
              "      <th>0</th>\n",
              "      <td>0.5</td>\n",
              "      <td>1.031929</td>\n",
              "    </tr>\n",
              "    <tr>\n",
              "      <th>1</th>\n",
              "      <td>1.5</td>\n",
              "      <td>1.000000</td>\n",
              "    </tr>\n",
              "    <tr>\n",
              "      <th>2</th>\n",
              "      <td>2.5</td>\n",
              "      <td>0.884580</td>\n",
              "    </tr>\n",
              "    <tr>\n",
              "      <th>3</th>\n",
              "      <td>3.5</td>\n",
              "      <td>0.943800</td>\n",
              "    </tr>\n",
              "    <tr>\n",
              "      <th>4</th>\n",
              "      <td>4.5</td>\n",
              "      <td>0.870125</td>\n",
              "    </tr>\n",
              "  </tbody>\n",
              "</table>\n",
              "</div>"
            ],
            "text/plain": [
              "   increment_pred  exponent_pred\n",
              "0             0.5       1.031929\n",
              "1             1.5       1.000000\n",
              "2             2.5       0.884580\n",
              "3             3.5       0.943800\n",
              "4             4.5       0.870125"
            ]
          },
          "metadata": {
            "tags": []
          },
          "execution_count": 25
        }
      ]
    },
    {
      "cell_type": "code",
      "metadata": {
        "colab": {
          "base_uri": "https://localhost:8080/"
        },
        "id": "KvnqEzBTM8YR",
        "outputId": "d50de68d-0e82-4914-efd8-116ed1514c63"
      },
      "source": [
        "lambda_min_log = count[4] ** exponent_pred[-1]\n",
        "print(lambda_min_log)"
      ],
      "execution_count": 26,
      "outputs": [
        {
          "output_type": "stream",
          "text": [
            "15.883878392550955\n"
          ],
          "name": "stdout"
        }
      ]
    },
    {
      "cell_type": "code",
      "metadata": {
        "colab": {
          "base_uri": "https://localhost:8080/"
        },
        "id": "1s0iwF1ANW4Y",
        "outputId": "bfa8de01-a301-41b6-eaaf-90c3e950a259"
      },
      "source": [
        "df_log_pred_dict = df_dict\n",
        "df_log_pred_dict['count'][-1] = lambda_min_log\n",
        "print(df_log_pred_dict)"
      ],
      "execution_count": 27,
      "outputs": [
        {
          "output_type": "stream",
          "text": [
            "{'incident_level': [0, 1, 2, 3, 4, 5], 'count': [40, 45, 45, 29, 24, 15.883878392550955]}\n"
          ],
          "name": "stdout"
        }
      ]
    },
    {
      "cell_type": "code",
      "metadata": {
        "colab": {
          "base_uri": "https://localhost:8080/",
          "height": 295
        },
        "id": "ou5mX6p3ODmg",
        "outputId": "57cdf5be-409d-4f49-d01d-f6871235009a"
      },
      "source": [
        "df_log_pred = pd.DataFrame(data=df_log_pred_dict)\n",
        "\n",
        "plt.scatter(df_log_pred['incident_level'], df_log_pred['count'])\n",
        "plt.title('Nuclear Wars expected by Logarithmic Decay Forecast (Level 5)')\n",
        "plt.xlabel('Incident Level')\n",
        "plt.xticks(df_log_pred['incident_level'])\n",
        "plt.ylabel('Count')\n",
        "plt.yticks(range(0,50,6))\n",
        "plt.show()"
      ],
      "execution_count": 28,
      "outputs": [
        {
          "output_type": "display_data",
          "data": {
            "image/png": "[encoded data removed]",
            "text/plain": [
              "<Figure size 432x288 with 1 Axes>"
            ]
          },
          "metadata": {
            "tags": [],
            "needs_background": "light"
          }
        }
      ]
    },
    {
      "cell_type": "markdown",
      "metadata": {
        "id": "VQq26poHPDHd"
      },
      "source": [
        "# LOGARITHMS REGRESSED: THERE SHOULD HAVE BEEN ~16 NUCLEAR LAUNCHES SINCE 1949"
      ]
    },
    {
      "cell_type": "code",
      "metadata": {
        "id": "L2E5DRqqNhiQ"
      },
      "source": [
        "# MULTIPLICATIVE DECAY (RATHER THAN LOGARITHMIC)"
      ],
      "execution_count": 29,
      "outputs": []
    },
    {
      "cell_type": "code",
      "metadata": {
        "colab": {
          "base_uri": "https://localhost:8080/"
        },
        "id": "Aym6bGvC2Vv0",
        "outputId": "68328e11-f18c-4c60-9a8b-6e4a46595357"
      },
      "source": [
        "margin = [(count[i+1] / count[i]) for i in incident_levels[:4]]\n",
        "df_mult_decay_dict = {'increment': increment[:-1], 'margin':margin}\n",
        "print(df_mult_decay_dict)"
      ],
      "execution_count": 30,
      "outputs": [
        {
          "output_type": "stream",
          "text": [
            "{'increment': [0.5, 1.5, 2.5, 3.5], 'margin': [1.125, 1.0, 0.6444444444444445, 0.8275862068965517]}\n"
          ],
          "name": "stdout"
        }
      ]
    },
    {
      "cell_type": "code",
      "metadata": {
        "colab": {
          "base_uri": "https://localhost:8080/",
          "height": 172
        },
        "id": "iiqDdOG426bB",
        "outputId": "03b64b3d-401b-4e68-e5c4-8bb575656534"
      },
      "source": [
        "df_mult_decay = pd.DataFrame(data=df_mult_decay_dict)\n",
        "df_mult_decay"
      ],
      "execution_count": 31,
      "outputs": [
        {
          "output_type": "execute_result",
          "data": {
            "text/html": [
              "<div>\n",
              "<style scoped>\n",
              "    .dataframe tbody tr th:only-of-type {\n",
              "        vertical-align: middle;\n",
              "    }\n",
              "\n",
              "    .dataframe tbody tr th {\n",
              "        vertical-align: top;\n",
              "    }\n",
              "\n",
              "    .dataframe thead th {\n",
              "        text-align: right;\n",
              "    }\n",
              "</style>\n",
              "<table border=\"1\" class=\"dataframe\">\n",
              "  <thead>\n",
              "    <tr style=\"text-align: right;\">\n",
              "      <th></th>\n",
              "      <th>increment</th>\n",
              "      <th>margin</th>\n",
              "    </tr>\n",
              "  </thead>\n",
              "  <tbody>\n",
              "    <tr>\n",
              "      <th>0</th>\n",
              "      <td>0.5</td>\n",
              "      <td>1.125000</td>\n",
              "    </tr>\n",
              "    <tr>\n",
              "      <th>1</th>\n",
              "      <td>1.5</td>\n",
              "      <td>1.000000</td>\n",
              "    </tr>\n",
              "    <tr>\n",
              "      <th>2</th>\n",
              "      <td>2.5</td>\n",
              "      <td>0.644444</td>\n",
              "    </tr>\n",
              "    <tr>\n",
              "      <th>3</th>\n",
              "      <td>3.5</td>\n",
              "      <td>0.827586</td>\n",
              "    </tr>\n",
              "  </tbody>\n",
              "</table>\n",
              "</div>"
            ],
            "text/plain": [
              "   increment    margin\n",
              "0        0.5  1.125000\n",
              "1        1.5  1.000000\n",
              "2        2.5  0.644444\n",
              "3        3.5  0.827586"
            ]
          },
          "metadata": {
            "tags": []
          },
          "execution_count": 31
        }
      ]
    },
    {
      "cell_type": "code",
      "metadata": {
        "colab": {
          "base_uri": "https://localhost:8080/",
          "height": 295
        },
        "id": "9zZEQR6u3aQx",
        "outputId": "0a0e09d8-410a-4fdb-dc0e-06409690fbca"
      },
      "source": [
        "plt.scatter(df_mult_decay['increment'], df_mult_decay['margin'])\n",
        "plt.title('Proportional Margins between Near Miss Levels')\n",
        "plt.xlabel('Increment')\n",
        "plt.xticks(df_mult_decay['increment'])\n",
        "plt.ylabel('Margin')\n",
        "plt.yticks([0.5,0.7,0.8,0.9, 1,1.1, 1.3])\n",
        "plt.show()"
      ],
      "execution_count": 32,
      "outputs": [
        {
          "output_type": "display_data",
          "data": {
            "image/png": "[encoded data removed]",
            "text/plain": [
              "<Figure size 432x288 with 1 Axes>"
            ]
          },
          "metadata": {
            "tags": [],
            "needs_background": "light"
          }
        }
      ]
    },
    {
      "cell_type": "code",
      "metadata": {
        "id": "LrGFFXHz4INe"
      },
      "source": [
        "model_m = LinearRegression()"
      ],
      "execution_count": 33,
      "outputs": []
    },
    {
      "cell_type": "code",
      "metadata": {
        "colab": {
          "base_uri": "https://localhost:8080/"
        },
        "id": "O_pO8x2W4dy8",
        "outputId": "d34c7ba4-6750-4fd9-a1a8-5a4ae3d3439d"
      },
      "source": [
        "target_m = 'margin'\n",
        "\n",
        "X_train_m = df_mult_decay[features]\n",
        "y_train_m = df_mult_decay[target_m]\n",
        "\n",
        "model_m.fit(X_train_m, y_train_m)\n",
        "\n",
        "print(model_m.coef_)\n",
        "print(model_m.intercept_)"
      ],
      "execution_count": 34,
      "outputs": [
        {
          "output_type": "stream",
          "text": [
            "[-0.12477969]\n",
            "1.148817049808429\n"
          ],
          "name": "stdout"
        }
      ]
    },
    {
      "cell_type": "code",
      "metadata": {
        "colab": {
          "base_uri": "https://localhost:8080/"
        },
        "id": "qRJ7JrLz5Hlz",
        "outputId": "bbf3c05d-870e-4535-ecad-7bcdd1b33391"
      },
      "source": [
        "launch_marg = model_m.predict([[4.5]])\n",
        "print(launch_marg)"
      ],
      "execution_count": 35,
      "outputs": [
        {
          "output_type": "stream",
          "text": [
            "[0.58730843]\n"
          ],
          "name": "stdout"
        }
      ]
    },
    {
      "cell_type": "code",
      "metadata": {
        "colab": {
          "base_uri": "https://localhost:8080/",
          "height": 282
        },
        "id": "xg016GRl5ZI-",
        "outputId": "9ca58bdb-a270-4a2f-ae46-5110c8c740c8"
      },
      "source": [
        "plt.xlim(0,4.5)\n",
        "sb.regplot(x=df_mult_decay['increment'], y=df_mult_decay['margin'], truncate=False);"
      ],
      "execution_count": 36,
      "outputs": [
        {
          "output_type": "display_data",
          "data": {
            "image/png": "[encoded data removed]",
            "text/plain": [
              "<Figure size 432x288 with 1 Axes>"
            ]
          },
          "metadata": {
            "tags": [],
            "needs_background": "light"
          }
        }
      ]
    },
    {
      "cell_type": "code",
      "metadata": {
        "colab": {
          "base_uri": "https://localhost:8080/"
        },
        "id": "RJbPxORi5wME",
        "outputId": "6fe08fae-c885-4382-8631-535a6e811476"
      },
      "source": [
        "margin_pred = margin\n",
        "margin_pred.append(launch_marg[0])\n",
        "\n",
        "df_mult_decay_pred_dict = {'increment_pred':increment_pred, 'margin_pred':margin_pred}\n",
        "\n",
        "# print(increment)\n",
        "print(df_mult_decay_pred_dict)"
      ],
      "execution_count": 37,
      "outputs": [
        {
          "output_type": "stream",
          "text": [
            "{'increment_pred': [0.5, 1.5, 2.5, 3.5, 4.5], 'margin_pred': [1.125, 1.0, 0.6444444444444445, 0.8275862068965517, 0.5873084291187739]}\n"
          ],
          "name": "stdout"
        }
      ]
    },
    {
      "cell_type": "code",
      "metadata": {
        "colab": {
          "base_uri": "https://localhost:8080/",
          "height": 204
        },
        "id": "9BVm5f6B6cfW",
        "outputId": "b58c3ccf-3474-4f30-a269-c0b5e4342f5e"
      },
      "source": [
        "df_mult_decay_pred = pd.DataFrame(data=df_mult_decay_pred_dict)\n",
        "df_mult_decay_pred"
      ],
      "execution_count": 38,
      "outputs": [
        {
          "output_type": "execute_result",
          "data": {
            "text/html": [
              "<div>\n",
              "<style scoped>\n",
              "    .dataframe tbody tr th:only-of-type {\n",
              "        vertical-align: middle;\n",
              "    }\n",
              "\n",
              "    .dataframe tbody tr th {\n",
              "        vertical-align: top;\n",
              "    }\n",
              "\n",
              "    .dataframe thead th {\n",
              "        text-align: right;\n",
              "    }\n",
              "</style>\n",
              "<table border=\"1\" class=\"dataframe\">\n",
              "  <thead>\n",
              "    <tr style=\"text-align: right;\">\n",
              "      <th></th>\n",
              "      <th>increment_pred</th>\n",
              "      <th>margin_pred</th>\n",
              "    </tr>\n",
              "  </thead>\n",
              "  <tbody>\n",
              "    <tr>\n",
              "      <th>0</th>\n",
              "      <td>0.5</td>\n",
              "      <td>1.125000</td>\n",
              "    </tr>\n",
              "    <tr>\n",
              "      <th>1</th>\n",
              "      <td>1.5</td>\n",
              "      <td>1.000000</td>\n",
              "    </tr>\n",
              "    <tr>\n",
              "      <th>2</th>\n",
              "      <td>2.5</td>\n",
              "      <td>0.644444</td>\n",
              "    </tr>\n",
              "    <tr>\n",
              "      <th>3</th>\n",
              "      <td>3.5</td>\n",
              "      <td>0.827586</td>\n",
              "    </tr>\n",
              "    <tr>\n",
              "      <th>4</th>\n",
              "      <td>4.5</td>\n",
              "      <td>0.587308</td>\n",
              "    </tr>\n",
              "  </tbody>\n",
              "</table>\n",
              "</div>"
            ],
            "text/plain": [
              "   increment_pred  margin_pred\n",
              "0             0.5     1.125000\n",
              "1             1.5     1.000000\n",
              "2             2.5     0.644444\n",
              "3             3.5     0.827586\n",
              "4             4.5     0.587308"
            ]
          },
          "metadata": {
            "tags": []
          },
          "execution_count": 38
        }
      ]
    },
    {
      "cell_type": "code",
      "metadata": {
        "colab": {
          "base_uri": "https://localhost:8080/"
        },
        "id": "CPwB_PGe6ty5",
        "outputId": "e5b47d33-cb40-4d61-cf62-edcda9b00777"
      },
      "source": [
        "lambda_min_mult = count[4] * margin_pred[-1]\n",
        "print(lambda_min_mult)"
      ],
      "execution_count": 39,
      "outputs": [
        {
          "output_type": "stream",
          "text": [
            "14.095402298850573\n"
          ],
          "name": "stdout"
        }
      ]
    },
    {
      "cell_type": "code",
      "metadata": {
        "colab": {
          "base_uri": "https://localhost:8080/"
        },
        "id": "bXWOdQP069Hx",
        "outputId": "7311b478-0993-413d-b867-5933f73a8a1e"
      },
      "source": [
        "df_prop_pred_dict = df_dict\n",
        "df_prop_pred_dict['count'][-1] = lambda_min_mult\n",
        "print(df_prop_pred_dict)"
      ],
      "execution_count": 40,
      "outputs": [
        {
          "output_type": "stream",
          "text": [
            "{'incident_level': [0, 1, 2, 3, 4, 5], 'count': [40, 45, 45, 29, 24, 14.095402298850573]}\n"
          ],
          "name": "stdout"
        }
      ]
    },
    {
      "cell_type": "code",
      "metadata": {
        "colab": {
          "base_uri": "https://localhost:8080/",
          "height": 295
        },
        "id": "szS45QEC7pos",
        "outputId": "1668e2e4-94b3-4f72-9d7d-158f2ef30917"
      },
      "source": [
        "df_prop_pred = pd.DataFrame(data=df_prop_pred_dict)\n",
        "\n",
        "plt.scatter(df_prop_pred['incident_level'], df_prop_pred['count'])\n",
        "plt.title('Nuclear Wars expected by Proportional Decay Forecast (Level 5)')\n",
        "plt.xlabel('Incident Level')\n",
        "plt.xticks(df_prop_pred['incident_level'])\n",
        "plt.ylabel('Count')\n",
        "plt.yticks(range(0,50,6))\n",
        "plt.show()"
      ],
      "execution_count": 41,
      "outputs": [
        {
          "output_type": "display_data",
          "data": {
            "image/png": "[encoded data removed]",
            "text/plain": [
              "<Figure size 432x288 with 1 Axes>"
            ]
          },
          "metadata": {
            "tags": [],
            "needs_background": "light"
          }
        }
      ]
    },
    {
      "cell_type": "markdown",
      "metadata": {
        "id": "sqLhBXs48CyH"
      },
      "source": [
        "# PROPORTIONS REGRESSED: THERE SHOULD HAVE BEEN ~14 NUCLEAR LAUNCHES SINCE 1949"
      ]
    },
    {
      "cell_type": "code",
      "metadata": {
        "id": "I3XfD-eo9Naz"
      },
      "source": [
        "# LINEAR REGRESSION DECAY"
      ],
      "execution_count": 42,
      "outputs": []
    },
    {
      "cell_type": "code",
      "metadata": {
        "colab": {
          "base_uri": "https://localhost:8080/",
          "height": 204
        },
        "id": "UUqbqSMb1ZcZ",
        "outputId": "7a73871d-bb07-4960-bc48-847eb07ab02e"
      },
      "source": [
        "df_nolaunch"
      ],
      "execution_count": 43,
      "outputs": [
        {
          "output_type": "execute_result",
          "data": {
            "text/html": [
              "<div>\n",
              "<style scoped>\n",
              "    .dataframe tbody tr th:only-of-type {\n",
              "        vertical-align: middle;\n",
              "    }\n",
              "\n",
              "    .dataframe tbody tr th {\n",
              "        vertical-align: top;\n",
              "    }\n",
              "\n",
              "    .dataframe thead th {\n",
              "        text-align: right;\n",
              "    }\n",
              "</style>\n",
              "<table border=\"1\" class=\"dataframe\">\n",
              "  <thead>\n",
              "    <tr style=\"text-align: right;\">\n",
              "      <th></th>\n",
              "      <th>incident_level</th>\n",
              "      <th>count</th>\n",
              "    </tr>\n",
              "  </thead>\n",
              "  <tbody>\n",
              "    <tr>\n",
              "      <th>0</th>\n",
              "      <td>0</td>\n",
              "      <td>40</td>\n",
              "    </tr>\n",
              "    <tr>\n",
              "      <th>1</th>\n",
              "      <td>1</td>\n",
              "      <td>45</td>\n",
              "    </tr>\n",
              "    <tr>\n",
              "      <th>2</th>\n",
              "      <td>2</td>\n",
              "      <td>45</td>\n",
              "    </tr>\n",
              "    <tr>\n",
              "      <th>3</th>\n",
              "      <td>3</td>\n",
              "      <td>29</td>\n",
              "    </tr>\n",
              "    <tr>\n",
              "      <th>4</th>\n",
              "      <td>4</td>\n",
              "      <td>24</td>\n",
              "    </tr>\n",
              "  </tbody>\n",
              "</table>\n",
              "</div>"
            ],
            "text/plain": [
              "   incident_level  count\n",
              "0               0     40\n",
              "1               1     45\n",
              "2               2     45\n",
              "3               3     29\n",
              "4               4     24"
            ]
          },
          "metadata": {
            "tags": []
          },
          "execution_count": 43
        }
      ]
    },
    {
      "cell_type": "code",
      "metadata": {
        "colab": {
          "base_uri": "https://localhost:8080/",
          "height": 295
        },
        "id": "unDkEZcq1wDl",
        "outputId": "87418ecb-85ca-48f6-b913-5e70762ca98a"
      },
      "source": [
        "plt.scatter(df_nolaunch['incident_level'], df_nolaunch['count'])\n",
        "plt.title('Typological Emergence of Nuclear Near Miss Incidents')\n",
        "plt.xlabel('Incident Level')\n",
        "plt.xticks(df['incident_level'])\n",
        "plt.ylabel('Count')\n",
        "plt.yticks(range(0,50,5))\n",
        "plt.show()"
      ],
      "execution_count": 44,
      "outputs": [
        {
          "output_type": "display_data",
          "data": {
            "image/png": "[encoded data removed]",
            "text/plain": [
              "<Figure size 432x288 with 1 Axes>"
            ]
          },
          "metadata": {
            "tags": [],
            "needs_background": "light"
          }
        }
      ]
    },
    {
      "cell_type": "code",
      "metadata": {
        "id": "hb0cBhBl15Sb"
      },
      "source": [
        "model_lin = LinearRegression()"
      ],
      "execution_count": 45,
      "outputs": []
    },
    {
      "cell_type": "code",
      "metadata": {
        "colab": {
          "base_uri": "https://localhost:8080/"
        },
        "id": "5TPyZfCu4jUs",
        "outputId": "db580aad-fb1e-4c82-f7a9-40e22c2fb461"
      },
      "source": [
        "features_lin = ['incident_level']\n",
        "target_lin = 'count'\n",
        "\n",
        "X_train_lin = df_nolaunch[features_lin]\n",
        "y_train_lin = df_nolaunch[target_lin]\n",
        "\n",
        "model_lin.fit(X_train_lin, y_train_lin)\n",
        "\n",
        "print(model_lin.coef_)\n",
        "print(model_lin.intercept_)"
      ],
      "execution_count": 47,
      "outputs": [
        {
          "output_type": "stream",
          "text": [
            "[-4.8]\n",
            "46.2\n"
          ],
          "name": "stdout"
        }
      ]
    },
    {
      "cell_type": "code",
      "metadata": {
        "colab": {
          "base_uri": "https://localhost:8080/"
        },
        "id": "yV7xXeAZ7f0Z",
        "outputId": "4ccb43bf-66ce-4f76-deed-4d7638770f5e"
      },
      "source": [
        "launch_lin = model_lin.predict([[5]])\n",
        "print(launch_lin)"
      ],
      "execution_count": 48,
      "outputs": [
        {
          "output_type": "stream",
          "text": [
            "[22.2]\n"
          ],
          "name": "stdout"
        }
      ]
    },
    {
      "cell_type": "code",
      "metadata": {
        "colab": {
          "base_uri": "https://localhost:8080/",
          "height": 280
        },
        "id": "TKxSma6Q5Hlu",
        "outputId": "d21f94c0-52f7-4133-c0dd-b57f554bd377"
      },
      "source": [
        "plt.xlim(0,5)\n",
        "sb.regplot(x=df_nolaunch['incident_level'], y=df_nolaunch['count'], truncate=False);"
      ],
      "execution_count": 49,
      "outputs": [
        {
          "output_type": "display_data",
          "data": {
            "image/png": "[encoded data removed]",
            "text/plain": [
              "<Figure size 432x288 with 1 Axes>"
            ]
          },
          "metadata": {
            "tags": [],
            "needs_background": "light"
          }
        }
      ]
    },
    {
      "cell_type": "markdown",
      "metadata": {
        "id": "VZFSSE3w78JW"
      },
      "source": [
        "# LINEAR REGRESSION: THERE SHOULD HAVE BEEN ~22 NUCLEAR LAUNCHES SINCE 1949"
      ]
    },
    {
      "cell_type": "code",
      "metadata": {
        "id": "5dg6ONeVKOpQ"
      },
      "source": [
        "# we would have expected N number of nuclear launches (level 5) since 1949, so\n",
        "# what are the odds that we instead had 0?"
      ],
      "execution_count": 50,
      "outputs": []
    },
    {
      "cell_type": "code",
      "metadata": {
        "colab": {
          "base_uri": "https://localhost:8080/",
          "height": 36
        },
        "id": "NH2nnYHmz4v7",
        "outputId": "9c9018e6-50a7-40dc-944f-c87e7b8cf7f6"
      },
      "source": [
        "# ceasefire breakdowns:\n",
        "\n",
        "'''\n",
        "from The Logic of Ceasefires in Civil War; Govinda Clayton, Valerie Stitcher\n",
        "\n",
        " At the twenty-five fatality level, thirty days after a ceasefire coming into\n",
        " effect 96 percent of definitive agreements remain active, about 92 percent of \n",
        " preliminary agreements, and only 85 percent of Cessation of hostilities. Within\n",
        "three months, the gap has significantly widened, with our model predicting \n",
        "only 48 percent of Cessation of Hostilities remaining in effect, compared to \n",
        "70 percent of preliminary and 80 percent of definitive agreements. By the end \n",
        "of the year, only 21 percent of all of the cessation of hostilities agreements \n",
        "held, around 49 percent of preliminary agreements remained in effect, while \n",
        "more than 65 percent of definitive agreements had prevented a return to \n",
        "violence. Unsurprisingly we see far greater failure rates at the one fatality \n",
        "threshold. After only three months, almost 70 percent of Cessation of hostility \n",
        "agreements, 50 percent of preliminary, and 30 percent of definitive agreements \n",
        "have terminated.\n",
        "'''\n",
        "\n",
        "'''\n",
        "https://academic.oup.com/isq/advance-article/doi/10.1093/isq/sqab026/6277949\n",
        "'''\n",
        "\n",
        "'''\n",
        "https://github.com/ddodds42/cwmd_data_project/blob/master/Probability_of_war/Logic%20of%20Ceasefires%20in%20Civil%20War.pdf\n",
        "'''"
      ],
      "execution_count": 52,
      "outputs": [
        {
          "output_type": "execute_result",
          "data": {
            "application/vnd.google.colaboratory.intrinsic+json": {
              "type": "string"
            },
            "text/plain": [
              "'\\nhttps://github.com/ddodds42/cwmd_data_project/blob/master/Probability_of_war/Logic%20of%20Ceasefires%20in%20Civil%20War.pdf\\n'"
            ]
          },
          "metadata": {
            "tags": []
          },
          "execution_count": 52
        }
      ]
    },
    {
      "cell_type": "code",
      "metadata": {
        "colab": {
          "base_uri": "https://localhost:8080/",
          "height": 35
        },
        "id": "RLhiBrPb4LsT",
        "outputId": "288a7fd5-f0c7-413a-fe92-d2a0ede28a00"
      },
      "source": [
        "'''\n",
        "Hostage negotiation is estimated to be unsuccessful in 18% of the over 10,000 \n",
        "estimated hostage-taking incidents annually in the United States \n",
        "\n",
        "Crisis (hostage) negotiation training. Criminal Justice and Behavior\n",
        "(Van Hasselt et al., 2006).\n",
        "Van Hasselt, V. B., Baker, M. T., Romano, S. J.,\n",
        "Schlessinger, K. M., Zucker, M., Dragone, R., et al\n",
        "'''\n",
        "\n",
        "'''\n",
        "https://www.ncbi.nlm.nih.gov/pmc/articles/PMC2695358/\n",
        "'''"
      ],
      "execution_count": 53,
      "outputs": [
        {
          "output_type": "execute_result",
          "data": {
            "application/vnd.google.colaboratory.intrinsic+json": {
              "type": "string"
            },
            "text/plain": [
              "'\\nhttps://www.ncbi.nlm.nih.gov/pmc/articles/PMC2695358/\\n'"
            ]
          },
          "metadata": {
            "tags": []
          },
          "execution_count": 53
        }
      ]
    },
    {
      "cell_type": "code",
      "metadata": {
        "id": "nKjyI7198Ezw"
      },
      "source": [
        "# percentage of suicide bombings\n",
        "\n",
        "'''\n",
        "[Suicide attacks]  constituted only 4% of all terrorist attacks around the \n",
        "world over one period (between 1981 and 2006)...\n",
        "'''\n",
        "\n",
        "'''\n",
        "https://en.wikipedia.org/wiki/Suicide_attack\n",
        "'''"
      ],
      "execution_count": 51,
      "outputs": []
    },
    {
      "cell_type": "markdown",
      "metadata": {
        "id": "aIke_xiK-qf1"
      },
      "source": [
        "# 4% is the absolute rosiest estimate for humans butchering high stakes decisions, such as ceasefires and suicide attacks (where these figures derive). THUSFAR, WITH 24 LEVEL 4 INCIDENTS (nuclear weapons systems errors / hightened alerts), WE SHOULD HAVE EXPECTED 4% OF THEM TO BREAKDOWN INTO NUCLEAR DEPLOYMENT, OR 0.96 NUCLEAR WARS SINCE 1949."
      ]
    },
    {
      "cell_type": "code",
      "metadata": {
        "id": "ymwginy5_6gs"
      },
      "source": [
        ""
      ],
      "execution_count": null,
      "outputs": []
    }
  ]
}