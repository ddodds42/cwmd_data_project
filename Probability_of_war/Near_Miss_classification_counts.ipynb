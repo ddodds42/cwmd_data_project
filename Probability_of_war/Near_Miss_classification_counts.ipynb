{
  "nbformat": 4,
  "nbformat_minor": 0,
  "metadata": {
    "colab": {
      "name": "Near_Miss_classification_counts.ipynb",
      "provenance": [],
      "collapsed_sections": []
    },
    "kernelspec": {
      "name": "python3",
      "display_name": "Python 3"
    },
    "language_info": {
      "name": "python"
    }
  },
  "cells": [
    {
      "cell_type": "code",
      "metadata": {
        "id": "RmyV5Pwp8Adj"
      },
      "source": [
        "Escalation_Dimension = {\n",
        "0:[0,1,3,4,5,6,7,8,9,10,11,12,14,15,16,17,18,19,20,21,22,23,24,25,26,27,28,29,30,31,32,34,35,36,37,38,40,41,43,47,49,55,57],\n",
        "1:[0,1,2,3,4,5,6,7,8,9,10,11,12,14,15,16,17,18,19,20,21,22,23,24,26,27,28,29,30,31,32,34,35,36,37,38,40,43,45,46,47,49,51,54,55,56,58,59],\n",
        "2:[0,1,2,3,4,6,9,11,12,13,14,15,16,17,18,19,21,22,23,24,25,27,29,30,31,32,35,36,37,38,39,40,41,43,44,45,46,47,48,49,50,51,52,53,55,58,59],\n",
        "3:[0,1,3,4,5,6,7,8,9,10,12,13,14,15,16,17,18,19,21,22,24,29,30,31,32,37,40,47,49,55],\n",
        "4:[3,13,19,24,29,30,31,32,34,42,43,44,45,46,48,49,50,51,52,53,54,55,56,58,59],\n",
        "5:[0]\n",
        "}"
      ],
      "execution_count": 1,
      "outputs": []
    },
    {
      "cell_type": "code",
      "metadata": {
        "id": "3O3lpJMo8HEN"
      },
      "source": [
        "Escalation_Dimension_Post_Deterrence = {\n",
        "0:[1,3,4,5,6,7,8,9,10,12,14,15,16,17,18,19,21,22,23,24,25,26,27,28,29,30,31,32,34,35,36,37,38,40,41,43,47,49,55,57],\n",
        "1:[1,2,3,4,5,6,7,8,9,10,12,14,15,16,17,18,19,21,22,23,24,26,27,28,29,30,31,32,34,35,36,37,38,40,43,45,46,47,49,51,54,55,56,58,59],\n",
        "2:[1,2,3,4,6,9,12,13,14,15,16,17,18,19,21,22,23,24,25,27,29,30,31,32,35,36,37,38,39,40,41,43,44,45,46,47,48,49,50,51,52,53,55,58,59],\n",
        "3:[1,3,4,5,6,7,8,9,10,12,13,14,15,16,17,18,19,21,22,24,29,30,31,32,37,40,47,49,55],\n",
        "4:[13,19,24,29,30,31,32,34,42,43,44,45,46,48,49,50,51,52,53,54,55,56,58,59],\n",
        "5:[]\n",
        "}"
      ],
      "execution_count": 2,
      "outputs": []
    },
    {
      "cell_type": "code",
      "metadata": {
        "colab": {
          "base_uri": "https://localhost:8080/"
        },
        "id": "51DP8IVP8LOU",
        "outputId": "80d48cf6-e365-4745-bda4-fd34bc262788"
      },
      "source": [
        "print('Since WWII:')\n",
        "print(len(Escalation_Dimension[0]), ' diplomacy breakdowns')\n",
        "print(len(Escalation_Dimension[1]), ' military buildups / exercise incidents')\n",
        "print(len(Escalation_Dimension[2]), ' incidents coinciding weapon systems testing')\n",
        "print(len(Escalation_Dimension[3]), ' incidents with conventional military contact')\n",
        "print(len(Escalation_Dimension[4]), ' weapon systems accidents / averted war incidents')\n",
        "print(len(Escalation_Dimension[5]), ' intentional nuclear strikes')\n"
      ],
      "execution_count": 3,
      "outputs": [
        {
          "output_type": "stream",
          "text": [
            "Since WWII:\n",
            "43  diplomacy breakdowns\n",
            "48  military buildups / exercise incidents\n",
            "47  incidents coinciding weapon systems testing\n",
            "30  incidents with conventional military contact\n",
            "25  weapon systems accidents / averted war incidents\n",
            "1  intentional nuclear strikes\n"
          ],
          "name": "stdout"
        }
      ]
    },
    {
      "cell_type": "code",
      "metadata": {
        "colab": {
          "base_uri": "https://localhost:8080/"
        },
        "id": "7RFUhxQX9chT",
        "outputId": "a5d4bb62-dab6-4289-d999-4674a80b6675"
      },
      "source": [
        "print('Since the deterrance paradigm began:')\n",
        "print(len(Escalation_Dimension_Post_Deterrence[0]), ' diplomacy breakdowns')\n",
        "print(len(Escalation_Dimension_Post_Deterrence[1]), ' military buildups / exercise incidents')\n",
        "print(len(Escalation_Dimension_Post_Deterrence[2]), ' incidents coinciding weapon systems testing')\n",
        "print(len(Escalation_Dimension_Post_Deterrence[3]), ' incidents with conventional military contact')\n",
        "print(len(Escalation_Dimension_Post_Deterrence[4]), ' weapon systems accidents / averted war incidents')\n",
        "print(len(Escalation_Dimension_Post_Deterrence[5]), ' intentional nuclear strikes')"
      ],
      "execution_count": 4,
      "outputs": [
        {
          "output_type": "stream",
          "text": [
            "Since the deterrance paradigm began:\n",
            "40  diplomacy breakdowns\n",
            "45  military buildups / exercise incidents\n",
            "45  incidents coinciding weapon systems testing\n",
            "29  incidents with conventional military contact\n",
            "24  weapon systems accidents / averted war incidents\n",
            "0  intentional nuclear strikes\n"
          ],
          "name": "stdout"
        }
      ]
    },
    {
      "cell_type": "code",
      "metadata": {
        "id": "qfOl0AXB-Bm4",
        "colab": {
          "base_uri": "https://localhost:8080/"
        },
        "outputId": "7b835f72-7ab1-47c7-de8a-62a4b580b76a"
      },
      "source": [
        "incident_levels = [i for i in Escalation_Dimension_Post_Deterrence.keys()]\n",
        "print(incident_levels)"
      ],
      "execution_count": 5,
      "outputs": [
        {
          "output_type": "stream",
          "text": [
            "[0, 1, 2, 3, 4, 5]\n"
          ],
          "name": "stdout"
        }
      ]
    },
    {
      "cell_type": "code",
      "metadata": {
        "colab": {
          "base_uri": "https://localhost:8080/"
        },
        "id": "sUs2QCno7_Hw",
        "outputId": "a64b7546-043e-4a76-93a6-aa5375ff0abb"
      },
      "source": [
        "count = [len(Escalation_Dimension_Post_Deterrence[i]) for i in incident_levels]\n",
        "print(count)"
      ],
      "execution_count": 6,
      "outputs": [
        {
          "output_type": "stream",
          "text": [
            "[40, 45, 45, 29, 24, 0]\n"
          ],
          "name": "stdout"
        }
      ]
    },
    {
      "cell_type": "code",
      "metadata": {
        "id": "B7LnQi628UDP"
      },
      "source": [
        "import pandas as pd"
      ],
      "execution_count": 7,
      "outputs": []
    },
    {
      "cell_type": "code",
      "metadata": {
        "colab": {
          "base_uri": "https://localhost:8080/",
          "height": 235
        },
        "id": "S7W-Xu2_8hYx",
        "outputId": "679f7f18-386c-42c5-cc30-01b05773e43f"
      },
      "source": [
        "df_dict = {'incident_level': incident_levels, 'count':count}\n",
        "\n",
        "df = pd.DataFrame(data=df_dict)\n",
        "df"
      ],
      "execution_count": 8,
      "outputs": [
        {
          "output_type": "execute_result",
          "data": {
            "text/html": [
              "<div>\n",
              "<style scoped>\n",
              "    .dataframe tbody tr th:only-of-type {\n",
              "        vertical-align: middle;\n",
              "    }\n",
              "\n",
              "    .dataframe tbody tr th {\n",
              "        vertical-align: top;\n",
              "    }\n",
              "\n",
              "    .dataframe thead th {\n",
              "        text-align: right;\n",
              "    }\n",
              "</style>\n",
              "<table border=\"1\" class=\"dataframe\">\n",
              "  <thead>\n",
              "    <tr style=\"text-align: right;\">\n",
              "      <th></th>\n",
              "      <th>incident_level</th>\n",
              "      <th>count</th>\n",
              "    </tr>\n",
              "  </thead>\n",
              "  <tbody>\n",
              "    <tr>\n",
              "      <th>0</th>\n",
              "      <td>0</td>\n",
              "      <td>40</td>\n",
              "    </tr>\n",
              "    <tr>\n",
              "      <th>1</th>\n",
              "      <td>1</td>\n",
              "      <td>45</td>\n",
              "    </tr>\n",
              "    <tr>\n",
              "      <th>2</th>\n",
              "      <td>2</td>\n",
              "      <td>45</td>\n",
              "    </tr>\n",
              "    <tr>\n",
              "      <th>3</th>\n",
              "      <td>3</td>\n",
              "      <td>29</td>\n",
              "    </tr>\n",
              "    <tr>\n",
              "      <th>4</th>\n",
              "      <td>4</td>\n",
              "      <td>24</td>\n",
              "    </tr>\n",
              "    <tr>\n",
              "      <th>5</th>\n",
              "      <td>5</td>\n",
              "      <td>0</td>\n",
              "    </tr>\n",
              "  </tbody>\n",
              "</table>\n",
              "</div>"
            ],
            "text/plain": [
              "   incident_level  count\n",
              "0               0     40\n",
              "1               1     45\n",
              "2               2     45\n",
              "3               3     29\n",
              "4               4     24\n",
              "5               5      0"
            ]
          },
          "metadata": {
            "tags": []
          },
          "execution_count": 8
        }
      ]
    },
    {
      "cell_type": "code",
      "metadata": {
        "id": "V454kPIC89wx"
      },
      "source": [
        "import matplotlib.pyplot as plt"
      ],
      "execution_count": 9,
      "outputs": []
    },
    {
      "cell_type": "code",
      "metadata": {
        "colab": {
          "base_uri": "https://localhost:8080/",
          "height": 204
        },
        "id": "UOZSAvd0Bd1S",
        "outputId": "7e61959c-a4f8-4dd5-88a7-8d306f41ae72"
      },
      "source": [
        "df_nolaunch = df.iloc[:5]\n",
        "df_nolaunch"
      ],
      "execution_count": 10,
      "outputs": [
        {
          "output_type": "execute_result",
          "data": {
            "text/html": [
              "<div>\n",
              "<style scoped>\n",
              "    .dataframe tbody tr th:only-of-type {\n",
              "        vertical-align: middle;\n",
              "    }\n",
              "\n",
              "    .dataframe tbody tr th {\n",
              "        vertical-align: top;\n",
              "    }\n",
              "\n",
              "    .dataframe thead th {\n",
              "        text-align: right;\n",
              "    }\n",
              "</style>\n",
              "<table border=\"1\" class=\"dataframe\">\n",
              "  <thead>\n",
              "    <tr style=\"text-align: right;\">\n",
              "      <th></th>\n",
              "      <th>incident_level</th>\n",
              "      <th>count</th>\n",
              "    </tr>\n",
              "  </thead>\n",
              "  <tbody>\n",
              "    <tr>\n",
              "      <th>0</th>\n",
              "      <td>0</td>\n",
              "      <td>40</td>\n",
              "    </tr>\n",
              "    <tr>\n",
              "      <th>1</th>\n",
              "      <td>1</td>\n",
              "      <td>45</td>\n",
              "    </tr>\n",
              "    <tr>\n",
              "      <th>2</th>\n",
              "      <td>2</td>\n",
              "      <td>45</td>\n",
              "    </tr>\n",
              "    <tr>\n",
              "      <th>3</th>\n",
              "      <td>3</td>\n",
              "      <td>29</td>\n",
              "    </tr>\n",
              "    <tr>\n",
              "      <th>4</th>\n",
              "      <td>4</td>\n",
              "      <td>24</td>\n",
              "    </tr>\n",
              "  </tbody>\n",
              "</table>\n",
              "</div>"
            ],
            "text/plain": [
              "   incident_level  count\n",
              "0               0     40\n",
              "1               1     45\n",
              "2               2     45\n",
              "3               3     29\n",
              "4               4     24"
            ]
          },
          "metadata": {
            "tags": []
          },
          "execution_count": 10
        }
      ]
    },
    {
      "cell_type": "code",
      "metadata": {
        "colab": {
          "base_uri": "https://localhost:8080/",
          "height": 295
        },
        "id": "o2JS1b0lA2lM",
        "outputId": "b9c0815e-3c6d-4de4-935b-ce26fdd46636"
      },
      "source": [
        "plt.scatter(df_nolaunch['incident_level'], df_nolaunch['count'])\n",
        "plt.title('Typological Emergence of Nuclear Near Miss Incidents')\n",
        "plt.xlabel('Incident Level')\n",
        "plt.xticks(df['incident_level'])\n",
        "plt.ylabel('Count')\n",
        "plt.yticks(range(0,50,5))\n",
        "plt.show()"
      ],
      "execution_count": 11,
      "outputs": [
        {
          "output_type": "display_data",
          "data": {
            "image/png": "[encoded data removed]",
            "text/plain": [
              "<Figure size 432x288 with 1 Axes>"
            ]
          },
          "metadata": {
            "tags": [],
            "needs_background": "light"
          }
        }
      ]
    },
    {
      "cell_type": "code",
      "metadata": {
        "id": "_3FbkLmd9H_s"
      },
      "source": [
        "# LOGARITHMIC DECAY\n",
        "\n",
        "#  2^y = 30\n",
        "#  y = log2(30)"
      ],
      "execution_count": 12,
      "outputs": []
    },
    {
      "cell_type": "code",
      "metadata": {
        "id": "ypz7LMbwB7pU"
      },
      "source": [
        "import math\n",
        "\n",
        "# math.e\n",
        "# math.log(x, base)"
      ],
      "execution_count": 13,
      "outputs": []
    },
    {
      "cell_type": "code",
      "metadata": {
        "colab": {
          "base_uri": "https://localhost:8080/"
        },
        "id": "jZSUxJAX-j_Q",
        "outputId": "1cabb4a4-78a2-40c9-de00-69af81fd1e75"
      },
      "source": [
        "for i in incident_levels[:4]:\n",
        "  y = math.log(count[i+1],count[i])\n",
        "  print(f'{i} to {i+1}: ', y)"
      ],
      "execution_count": 42,
      "outputs": [
        {
          "output_type": "stream",
          "text": [
            "0 to 1:  1.0319292178347081\n",
            "1 to 2:  1.0\n",
            "2 to 3:  0.884579559925641\n",
            "3 to 4:  0.9438000077233224\n"
          ],
          "name": "stdout"
        }
      ]
    },
    {
      "cell_type": "code",
      "metadata": {
        "colab": {
          "base_uri": "https://localhost:8080/"
        },
        "id": "qey0-MS7Jz56",
        "outputId": "c05ecc7b-ad64-4153-b48c-b1c8d9a261a6"
      },
      "source": [
        "increment = [i+0.5 for i in range(4)]\n",
        "exponent = [math.log(count[i+1],count[i]) for i in incident_levels[:4]]\n",
        "df_increment_dict = {'increment': increment, 'exponent':exponent}\n",
        "print(df_increment_dict)"
      ],
      "execution_count": 45,
      "outputs": [
        {
          "output_type": "stream",
          "text": [
            "{'increment': [0.5, 1.5, 2.5, 3.5], 'exponent': [1.0319292178347081, 1.0, 0.884579559925641, 0.9438000077233224]}\n"
          ],
          "name": "stdout"
        }
      ]
    },
    {
      "cell_type": "code",
      "metadata": {
        "colab": {
          "base_uri": "https://localhost:8080/",
          "height": 171
        },
        "id": "oKadSZE-LY7D",
        "outputId": "13b68c90-529f-4530-bbc6-1ccd6188664c"
      },
      "source": [
        "df_increment = pd.DataFrame(data=df_increment_dict)\n",
        "df_increment"
      ],
      "execution_count": 46,
      "outputs": [
        {
          "output_type": "execute_result",
          "data": {
            "text/html": [
              "<div>\n",
              "<style scoped>\n",
              "    .dataframe tbody tr th:only-of-type {\n",
              "        vertical-align: middle;\n",
              "    }\n",
              "\n",
              "    .dataframe tbody tr th {\n",
              "        vertical-align: top;\n",
              "    }\n",
              "\n",
              "    .dataframe thead th {\n",
              "        text-align: right;\n",
              "    }\n",
              "</style>\n",
              "<table border=\"1\" class=\"dataframe\">\n",
              "  <thead>\n",
              "    <tr style=\"text-align: right;\">\n",
              "      <th></th>\n",
              "      <th>increment</th>\n",
              "      <th>exponent</th>\n",
              "    </tr>\n",
              "  </thead>\n",
              "  <tbody>\n",
              "    <tr>\n",
              "      <th>0</th>\n",
              "      <td>0.5</td>\n",
              "      <td>1.031929</td>\n",
              "    </tr>\n",
              "    <tr>\n",
              "      <th>1</th>\n",
              "      <td>1.5</td>\n",
              "      <td>1.000000</td>\n",
              "    </tr>\n",
              "    <tr>\n",
              "      <th>2</th>\n",
              "      <td>2.5</td>\n",
              "      <td>0.884580</td>\n",
              "    </tr>\n",
              "    <tr>\n",
              "      <th>3</th>\n",
              "      <td>3.5</td>\n",
              "      <td>0.943800</td>\n",
              "    </tr>\n",
              "  </tbody>\n",
              "</table>\n",
              "</div>"
            ],
            "text/plain": [
              "   increment  exponent\n",
              "0        0.5  1.031929\n",
              "1        1.5  1.000000\n",
              "2        2.5  0.884580\n",
              "3        3.5  0.943800"
            ]
          },
          "metadata": {
            "tags": []
          },
          "execution_count": 46
        }
      ]
    },
    {
      "cell_type": "code",
      "metadata": {
        "colab": {
          "base_uri": "https://localhost:8080/",
          "height": 294
        },
        "id": "TecF2H97LfMa",
        "outputId": "ebf319da-ec8e-4f39-e2d2-9b1ad5046cb4"
      },
      "source": [
        "plt.scatter(df_increment['increment'], df_increment['exponent'])\n",
        "plt.title('Exponential Incriments between Near Miss Levels')\n",
        "plt.xlabel('Increment')\n",
        "plt.xticks(df_increment['increment'])\n",
        "plt.ylabel('Exponent')\n",
        "plt.yticks([0.7,0.8,0.9, 1,1.1])\n",
        "plt.show()"
      ],
      "execution_count": 56,
      "outputs": [
        {
          "output_type": "display_data",
          "data": {
            "image/png": "[encoded data removed]",
            "text/plain": [
              "<Figure size 432x288 with 1 Axes>"
            ]
          },
          "metadata": {
            "tags": [],
            "needs_background": "light"
          }
        }
      ]
    },
    {
      "cell_type": "code",
      "metadata": {
        "id": "ou5mX6p3ODmg"
      },
      "source": [
        "# regress that ^"
      ],
      "execution_count": null,
      "outputs": []
    },
    {
      "cell_type": "code",
      "metadata": {
        "id": "L2E5DRqqNhiQ"
      },
      "source": [
        "# MULTIPLICATIVE DECAY (RATHER THAN LOGARITHMIC)"
      ],
      "execution_count": null,
      "outputs": []
    },
    {
      "cell_type": "code",
      "metadata": {
        "id": "I3XfD-eo9Naz"
      },
      "source": [
        "# LINEAR REGRESSION DECAY"
      ],
      "execution_count": null,
      "outputs": []
    },
    {
      "cell_type": "code",
      "metadata": {
        "id": "5dg6ONeVKOpQ"
      },
      "source": [
        "# we would have expected N number of nuclear launches (level 5) since 1949, so\n",
        "# what are the odds that we instead had 0?"
      ],
      "execution_count": null,
      "outputs": []
    }
  ]
}