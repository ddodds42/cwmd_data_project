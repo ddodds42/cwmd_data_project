{
  "nbformat": 4,
  "nbformat_minor": 0,
  "metadata": {
    "colab": {
      "name": "Near_Miss_classification_counts.ipynb",
      "provenance": [],
      "collapsed_sections": [],
      "authorship_tag": "ABX9TyMpjh/c6eo4EBqlt4MHY3dX",
      "include_colab_link": true
    },
    "kernelspec": {
      "display_name": "Python 3",
      "name": "python3"
    },
    "language_info": {
      "name": "python"
    }
  },
  "cells": [
    {
      "cell_type": "markdown",
      "metadata": {
        "id": "view-in-github",
        "colab_type": "text"
      },
      "source": [
        "<a href=\"https://colab.research.google.com/github/ddodds42/cwmd_data_project/blob/master/Probability_of_war/Near_Miss_classification_counts.ipynb\" target=\"_parent\"><img src=\"https://colab.research.google.com/assets/colab-badge.svg\" alt=\"Open In Colab\"/></a>"
      ]
    },
    {
      "cell_type": "markdown",
      "metadata": {
        "id": "HnCQK0O0NKia"
      },
      "source": [
        "# This Notebook is an attempt to find a lower bound estimate for the probability of nuclear war.\n",
        "\n",
        "Finding the lower bound is much more difficult than an upper bound. A lower bound estimate depends a past occurence of nuclear war under deterrance (the bombing of Japan was pre-deterrance), whereas estimating an upper-bound can be done in the absence of any nuclear war occuring.\n",
        "\n",
        "## This Modelling uses a [historical datastet of 60 Nuclear Near Misses](https://github.com/ddodds42/cwmd_data_project/blob/master/GCRI_Modeling_Reports/A_model_for_the_probability_of_nuclear_war.pdf) from the Global Catastrophic Risk Institute.\n",
        "\n",
        "It assumes that the more frequently we humans have made mistakes or incited close-calls with nuclear weapons / nuclear diplomacy, the higher the minimum probability of nuclear war must be. To extend Bertrand Russel's nuclear war tight-rope metaphor - an acrobat walking a tight-rope with high focus and humility is less likely to fall than an acrobat dancing on the tight-rope and flaunting for the camera. The more stunts, the more likely the fall.\n",
        "\n",
        "## The code cell below is a classification of those 60 near-misses.\n",
        "I built this dictionary while reading the near-miss dataset in GCRI's Probability Modelling Report, evaluating each incident for the presence of the following characteristics:\n",
        "\n",
        "### 0 - Diplomacy erosion, threats\n",
        "### 1 - Military buildups and exercises\n",
        "### 2 - Nuclear weapon systems testing\n",
        "### 3 - Conventional (non-nuclear) Military violence\n",
        "### 4 - Weapon systems accidents / averted war incidents\n",
        "### 5 - Intentional nuclear strikes"
      ]
    },
    {
      "cell_type": "code",
      "metadata": {
        "id": "RmyV5Pwp8Adj"
      },
      "source": [
        "Escalation_Dimension = {\n",
        "0:[0,1,3,4,5,6,7,8,9,10,11,12,14,15,16,17,18,19,20,21,22,23,24,25,26,27,28,29,30,31,32,34,35,36,37,38,40,41,43,47,49,55,57],\n",
        "1:[0,1,2,3,4,5,6,7,8,9,10,11,12,14,15,16,17,18,19,20,21,22,23,24,26,27,28,29,30,31,32,34,35,36,37,38,40,43,45,46,47,49,51,54,55,56,58,59],\n",
        "2:[0,1,2,3,4,6,9,11,12,13,14,15,16,17,18,19,21,22,23,24,25,27,29,30,31,32,35,36,37,38,39,40,41,43,44,45,46,47,48,49,50,51,52,53,55,58,59],\n",
        "3:[0,1,3,4,5,6,7,8,9,10,12,13,14,15,16,17,18,19,21,22,24,29,30,31,32,37,40,47,49,55],\n",
        "4:[3,13,19,24,29,30,31,32,34,42,43,44,45,46,48,49,50,51,52,53,54,55,56,58,59],\n",
        "5:[0]\n",
        "}"
      ],
      "execution_count": 1,
      "outputs": []
    },
    {
      "cell_type": "markdown",
      "metadata": {
        "id": "aXziD6PrSVnP"
      },
      "source": [
        "### This next dictionary excludes pre-deterrance (pre-1949) incidents. The odds of nuclear war when only the US had nuclear monopoly were likely totally different than when the Soviets and others acquired nuclear weapons."
      ]
    },
    {
      "cell_type": "code",
      "metadata": {
        "id": "3O3lpJMo8HEN"
      },
      "source": [
        "Escalation_Dimension_Post_Deterrence = {\n",
        "0:[1,3,4,5,6,7,8,9,10,12,14,15,16,17,18,19,21,22,23,24,25,26,27,28,29,30,31,32,34,35,36,37,38,40,41,43,47,49,55,57],\n",
        "1:[1,2,3,4,5,6,7,8,9,10,12,14,15,16,17,18,19,21,22,23,24,26,27,28,29,30,31,32,34,35,36,37,38,40,43,45,46,47,49,51,54,55,56,58,59],\n",
        "2:[1,2,3,4,6,9,12,13,14,15,16,17,18,19,21,22,23,24,25,27,29,30,31,32,35,36,37,38,39,40,41,43,44,45,46,47,48,49,50,51,52,53,55,58,59],\n",
        "3:[1,3,4,5,6,7,8,9,10,12,13,14,15,16,17,18,19,21,22,24,29,30,31,32,37,40,47,49,55],\n",
        "4:[13,19,24,29,30,31,32,34,42,43,44,45,46,48,49,50,51,52,53,54,55,56,58,59],\n",
        "5:[]\n",
        "}"
      ],
      "execution_count": 2,
      "outputs": []
    },
    {
      "cell_type": "code",
      "metadata": {
        "colab": {
          "base_uri": "https://localhost:8080/"
        },
        "id": "51DP8IVP8LOU",
        "outputId": "95d291c2-4698-467e-c000-5a80eaea3eb7"
      },
      "source": [
        "print('Since WWII:')\n",
        "print(len(Escalation_Dimension[0]), ' diplomacy breakdowns')\n",
        "print(len(Escalation_Dimension[1]), ' military buildups / exercise incidents')\n",
        "print(len(Escalation_Dimension[2]), ' incidents coinciding weapon systems testing')\n",
        "print(len(Escalation_Dimension[3]), ' incidents with conventional military contact')\n",
        "print(len(Escalation_Dimension[4]), ' weapon systems accidents / averted war incidents')\n",
        "print(len(Escalation_Dimension[5]), ' intentional nuclear strikes')\n"
      ],
      "execution_count": 3,
      "outputs": [
        {
          "output_type": "stream",
          "name": "stdout",
          "text": [
            "Since WWII:\n",
            "43  diplomacy breakdowns\n",
            "48  military buildups / exercise incidents\n",
            "47  incidents coinciding weapon systems testing\n",
            "30  incidents with conventional military contact\n",
            "25  weapon systems accidents / averted war incidents\n",
            "1  intentional nuclear strikes\n"
          ]
        }
      ]
    },
    {
      "cell_type": "markdown",
      "metadata": {
        "id": "07RZ6A66S9ke"
      },
      "source": [
        "### Counts for each type of incident. The counts in the cell below will be used to estimate how many \"Level 5\" Nuclear Launches we might have luckily averted since 1949.\n"
      ]
    },
    {
      "cell_type": "code",
      "metadata": {
        "colab": {
          "base_uri": "https://localhost:8080/"
        },
        "id": "7RFUhxQX9chT",
        "outputId": "cfbd5d7f-fa36-432e-9e2e-3c770c15415e"
      },
      "source": [
        "print('Since the deterrance paradigm began:')\n",
        "print(len(Escalation_Dimension_Post_Deterrence[0]), ' diplomacy breakdowns')\n",
        "print(len(Escalation_Dimension_Post_Deterrence[1]), ' military buildups / exercise incidents')\n",
        "print(len(Escalation_Dimension_Post_Deterrence[2]), ' incidents coinciding weapon systems testing')\n",
        "print(len(Escalation_Dimension_Post_Deterrence[3]), ' incidents with conventional military contact')\n",
        "print(len(Escalation_Dimension_Post_Deterrence[4]), ' weapon systems accidents / averted war incidents')\n",
        "print(len(Escalation_Dimension_Post_Deterrence[5]), ' intentional nuclear strikes')"
      ],
      "execution_count": 4,
      "outputs": [
        {
          "output_type": "stream",
          "name": "stdout",
          "text": [
            "Since the deterrance paradigm began:\n",
            "40  diplomacy breakdowns\n",
            "45  military buildups / exercise incidents\n",
            "45  incidents coinciding weapon systems testing\n",
            "29  incidents with conventional military contact\n",
            "24  weapon systems accidents / averted war incidents\n",
            "0  intentional nuclear strikes\n"
          ]
        }
      ]
    },
    {
      "cell_type": "code",
      "metadata": {
        "colab": {
          "base_uri": "https://localhost:8080/"
        },
        "id": "qfOl0AXB-Bm4",
        "outputId": "9387f49b-34c2-450c-913e-f5c558a39c35"
      },
      "source": [
        "incident_levels = [i for i in Escalation_Dimension_Post_Deterrence.keys()]\n",
        "print(incident_levels)"
      ],
      "execution_count": 5,
      "outputs": [
        {
          "output_type": "stream",
          "name": "stdout",
          "text": [
            "[0, 1, 2, 3, 4, 5]\n"
          ]
        }
      ]
    },
    {
      "cell_type": "code",
      "metadata": {
        "colab": {
          "base_uri": "https://localhost:8080/"
        },
        "id": "sUs2QCno7_Hw",
        "outputId": "caa20c63-2556-42fc-af9a-04cc0bfb42d6"
      },
      "source": [
        "count = [len(Escalation_Dimension_Post_Deterrence[i]) for i in incident_levels]\n",
        "print(count)"
      ],
      "execution_count": 6,
      "outputs": [
        {
          "output_type": "stream",
          "name": "stdout",
          "text": [
            "[40, 45, 45, 29, 24, 0]\n"
          ]
        }
      ]
    },
    {
      "cell_type": "code",
      "metadata": {
        "id": "B7LnQi628UDP"
      },
      "source": [
        "import pandas as pd"
      ],
      "execution_count": 7,
      "outputs": []
    },
    {
      "cell_type": "code",
      "metadata": {
        "colab": {
          "base_uri": "https://localhost:8080/",
          "height": 237
        },
        "id": "S7W-Xu2_8hYx",
        "outputId": "edb49b7e-a229-41f0-9b9c-4cc87ba4c39b"
      },
      "source": [
        "df_dict = {'incident_level': incident_levels, 'count':count}\n",
        "\n",
        "df = pd.DataFrame(data=df_dict)\n",
        "df"
      ],
      "execution_count": 8,
      "outputs": [
        {
          "output_type": "execute_result",
          "data": {
            "text/html": [
              "\n",
              "  <div id=\"df-443a991e-f993-4998-ada5-e30c5de59ba6\">\n",
              "    <div class=\"colab-df-container\">\n",
              "      <div>\n",
              "<style scoped>\n",
              "    .dataframe tbody tr th:only-of-type {\n",
              "        vertical-align: middle;\n",
              "    }\n",
              "\n",
              "    .dataframe tbody tr th {\n",
              "        vertical-align: top;\n",
              "    }\n",
              "\n",
              "    .dataframe thead th {\n",
              "        text-align: right;\n",
              "    }\n",
              "</style>\n",
              "<table border=\"1\" class=\"dataframe\">\n",
              "  <thead>\n",
              "    <tr style=\"text-align: right;\">\n",
              "      <th></th>\n",
              "      <th>incident_level</th>\n",
              "      <th>count</th>\n",
              "    </tr>\n",
              "  </thead>\n",
              "  <tbody>\n",
              "    <tr>\n",
              "      <th>0</th>\n",
              "      <td>0</td>\n",
              "      <td>40</td>\n",
              "    </tr>\n",
              "    <tr>\n",
              "      <th>1</th>\n",
              "      <td>1</td>\n",
              "      <td>45</td>\n",
              "    </tr>\n",
              "    <tr>\n",
              "      <th>2</th>\n",
              "      <td>2</td>\n",
              "      <td>45</td>\n",
              "    </tr>\n",
              "    <tr>\n",
              "      <th>3</th>\n",
              "      <td>3</td>\n",
              "      <td>29</td>\n",
              "    </tr>\n",
              "    <tr>\n",
              "      <th>4</th>\n",
              "      <td>4</td>\n",
              "      <td>24</td>\n",
              "    </tr>\n",
              "    <tr>\n",
              "      <th>5</th>\n",
              "      <td>5</td>\n",
              "      <td>0</td>\n",
              "    </tr>\n",
              "  </tbody>\n",
              "</table>\n",
              "</div>\n",
              "      <button class=\"colab-df-convert\" onclick=\"convertToInteractive('df-443a991e-f993-4998-ada5-e30c5de59ba6')\"\n",
              "              title=\"Convert this dataframe to an interactive table.\"\n",
              "              style=\"display:none;\">\n",
              "        \n",
              "  <svg xmlns=\"http://www.w3.org/2000/svg\" height=\"24px\"viewBox=\"0 0 24 24\"\n",
              "       width=\"24px\">\n",
              "    <path d=\"M0 0h24v24H0V0z\" fill=\"none\"/>\n",
              "    <path d=\"M18.56 5.44l.94 2.06.94-2.06 2.06-.94-2.06-.94-.94-2.06-.94 2.06-2.06.94zm-11 1L8.5 8.5l.94-2.06 2.06-.94-2.06-.94L8.5 2.5l-.94 2.06-2.06.94zm10 10l.94 2.06.94-2.06 2.06-.94-2.06-.94-.94-2.06-.94 2.06-2.06.94z\"/><path d=\"M17.41 7.96l-1.37-1.37c-.4-.4-.92-.59-1.43-.59-.52 0-1.04.2-1.43.59L10.3 9.45l-7.72 7.72c-.78.78-.78 2.05 0 2.83L4 21.41c.39.39.9.59 1.41.59.51 0 1.02-.2 1.41-.59l7.78-7.78 2.81-2.81c.8-.78.8-2.07 0-2.86zM5.41 20L4 18.59l7.72-7.72 1.47 1.35L5.41 20z\"/>\n",
              "  </svg>\n",
              "      </button>\n",
              "      \n",
              "  <style>\n",
              "    .colab-df-container {\n",
              "      display:flex;\n",
              "      flex-wrap:wrap;\n",
              "      gap: 12px;\n",
              "    }\n",
              "\n",
              "    .colab-df-convert {\n",
              "      background-color: #E8F0FE;\n",
              "      border: none;\n",
              "      border-radius: 50%;\n",
              "      cursor: pointer;\n",
              "      display: none;\n",
              "      fill: #1967D2;\n",
              "      height: 32px;\n",
              "      padding: 0 0 0 0;\n",
              "      width: 32px;\n",
              "    }\n",
              "\n",
              "    .colab-df-convert:hover {\n",
              "      background-color: #E2EBFA;\n",
              "      box-shadow: 0px 1px 2px rgba(60, 64, 67, 0.3), 0px 1px 3px 1px rgba(60, 64, 67, 0.15);\n",
              "      fill: #174EA6;\n",
              "    }\n",
              "\n",
              "    [theme=dark] .colab-df-convert {\n",
              "      background-color: #3B4455;\n",
              "      fill: #D2E3FC;\n",
              "    }\n",
              "\n",
              "    [theme=dark] .colab-df-convert:hover {\n",
              "      background-color: #434B5C;\n",
              "      box-shadow: 0px 1px 3px 1px rgba(0, 0, 0, 0.15);\n",
              "      filter: drop-shadow(0px 1px 2px rgba(0, 0, 0, 0.3));\n",
              "      fill: #FFFFFF;\n",
              "    }\n",
              "  </style>\n",
              "\n",
              "      <script>\n",
              "        const buttonEl =\n",
              "          document.querySelector('#df-443a991e-f993-4998-ada5-e30c5de59ba6 button.colab-df-convert');\n",
              "        buttonEl.style.display =\n",
              "          google.colab.kernel.accessAllowed ? 'block' : 'none';\n",
              "\n",
              "        async function convertToInteractive(key) {\n",
              "          const element = document.querySelector('#df-443a991e-f993-4998-ada5-e30c5de59ba6');\n",
              "          const dataTable =\n",
              "            await google.colab.kernel.invokeFunction('convertToInteractive',\n",
              "                                                     [key], {});\n",
              "          if (!dataTable) return;\n",
              "\n",
              "          const docLinkHtml = 'Like what you see? Visit the ' +\n",
              "            '<a target=\"_blank\" href=https://colab.research.google.com/notebooks/data_table.ipynb>data table notebook</a>'\n",
              "            + ' to learn more about interactive tables.';\n",
              "          element.innerHTML = '';\n",
              "          dataTable['output_type'] = 'display_data';\n",
              "          await google.colab.output.renderOutput(dataTable, element);\n",
              "          const docLink = document.createElement('div');\n",
              "          docLink.innerHTML = docLinkHtml;\n",
              "          element.appendChild(docLink);\n",
              "        }\n",
              "      </script>\n",
              "    </div>\n",
              "  </div>\n",
              "  "
            ],
            "text/plain": [
              "   incident_level  count\n",
              "0               0     40\n",
              "1               1     45\n",
              "2               2     45\n",
              "3               3     29\n",
              "4               4     24\n",
              "5               5      0"
            ]
          },
          "metadata": {},
          "execution_count": 8
        }
      ]
    },
    {
      "cell_type": "code",
      "metadata": {
        "id": "V454kPIC89wx"
      },
      "source": [
        "import matplotlib.pyplot as plt"
      ],
      "execution_count": 9,
      "outputs": []
    },
    {
      "cell_type": "code",
      "metadata": {
        "colab": {
          "base_uri": "https://localhost:8080/",
          "height": 206
        },
        "id": "UOZSAvd0Bd1S",
        "outputId": "af9fc371-d94c-4d0c-c346-623b8b72866a"
      },
      "source": [
        "df_nolaunch = df.iloc[:5]\n",
        "df_nolaunch"
      ],
      "execution_count": 10,
      "outputs": [
        {
          "output_type": "execute_result",
          "data": {
            "text/html": [
              "\n",
              "  <div id=\"df-f511617c-80cd-4b93-9379-57cd4179f0a1\">\n",
              "    <div class=\"colab-df-container\">\n",
              "      <div>\n",
              "<style scoped>\n",
              "    .dataframe tbody tr th:only-of-type {\n",
              "        vertical-align: middle;\n",
              "    }\n",
              "\n",
              "    .dataframe tbody tr th {\n",
              "        vertical-align: top;\n",
              "    }\n",
              "\n",
              "    .dataframe thead th {\n",
              "        text-align: right;\n",
              "    }\n",
              "</style>\n",
              "<table border=\"1\" class=\"dataframe\">\n",
              "  <thead>\n",
              "    <tr style=\"text-align: right;\">\n",
              "      <th></th>\n",
              "      <th>incident_level</th>\n",
              "      <th>count</th>\n",
              "    </tr>\n",
              "  </thead>\n",
              "  <tbody>\n",
              "    <tr>\n",
              "      <th>0</th>\n",
              "      <td>0</td>\n",
              "      <td>40</td>\n",
              "    </tr>\n",
              "    <tr>\n",
              "      <th>1</th>\n",
              "      <td>1</td>\n",
              "      <td>45</td>\n",
              "    </tr>\n",
              "    <tr>\n",
              "      <th>2</th>\n",
              "      <td>2</td>\n",
              "      <td>45</td>\n",
              "    </tr>\n",
              "    <tr>\n",
              "      <th>3</th>\n",
              "      <td>3</td>\n",
              "      <td>29</td>\n",
              "    </tr>\n",
              "    <tr>\n",
              "      <th>4</th>\n",
              "      <td>4</td>\n",
              "      <td>24</td>\n",
              "    </tr>\n",
              "  </tbody>\n",
              "</table>\n",
              "</div>\n",
              "      <button class=\"colab-df-convert\" onclick=\"convertToInteractive('df-f511617c-80cd-4b93-9379-57cd4179f0a1')\"\n",
              "              title=\"Convert this dataframe to an interactive table.\"\n",
              "              style=\"display:none;\">\n",
              "        \n",
              "  <svg xmlns=\"http://www.w3.org/2000/svg\" height=\"24px\"viewBox=\"0 0 24 24\"\n",
              "       width=\"24px\">\n",
              "    <path d=\"M0 0h24v24H0V0z\" fill=\"none\"/>\n",
              "    <path d=\"M18.56 5.44l.94 2.06.94-2.06 2.06-.94-2.06-.94-.94-2.06-.94 2.06-2.06.94zm-11 1L8.5 8.5l.94-2.06 2.06-.94-2.06-.94L8.5 2.5l-.94 2.06-2.06.94zm10 10l.94 2.06.94-2.06 2.06-.94-2.06-.94-.94-2.06-.94 2.06-2.06.94z\"/><path d=\"M17.41 7.96l-1.37-1.37c-.4-.4-.92-.59-1.43-.59-.52 0-1.04.2-1.43.59L10.3 9.45l-7.72 7.72c-.78.78-.78 2.05 0 2.83L4 21.41c.39.39.9.59 1.41.59.51 0 1.02-.2 1.41-.59l7.78-7.78 2.81-2.81c.8-.78.8-2.07 0-2.86zM5.41 20L4 18.59l7.72-7.72 1.47 1.35L5.41 20z\"/>\n",
              "  </svg>\n",
              "      </button>\n",
              "      \n",
              "  <style>\n",
              "    .colab-df-container {\n",
              "      display:flex;\n",
              "      flex-wrap:wrap;\n",
              "      gap: 12px;\n",
              "    }\n",
              "\n",
              "    .colab-df-convert {\n",
              "      background-color: #E8F0FE;\n",
              "      border: none;\n",
              "      border-radius: 50%;\n",
              "      cursor: pointer;\n",
              "      display: none;\n",
              "      fill: #1967D2;\n",
              "      height: 32px;\n",
              "      padding: 0 0 0 0;\n",
              "      width: 32px;\n",
              "    }\n",
              "\n",
              "    .colab-df-convert:hover {\n",
              "      background-color: #E2EBFA;\n",
              "      box-shadow: 0px 1px 2px rgba(60, 64, 67, 0.3), 0px 1px 3px 1px rgba(60, 64, 67, 0.15);\n",
              "      fill: #174EA6;\n",
              "    }\n",
              "\n",
              "    [theme=dark] .colab-df-convert {\n",
              "      background-color: #3B4455;\n",
              "      fill: #D2E3FC;\n",
              "    }\n",
              "\n",
              "    [theme=dark] .colab-df-convert:hover {\n",
              "      background-color: #434B5C;\n",
              "      box-shadow: 0px 1px 3px 1px rgba(0, 0, 0, 0.15);\n",
              "      filter: drop-shadow(0px 1px 2px rgba(0, 0, 0, 0.3));\n",
              "      fill: #FFFFFF;\n",
              "    }\n",
              "  </style>\n",
              "\n",
              "      <script>\n",
              "        const buttonEl =\n",
              "          document.querySelector('#df-f511617c-80cd-4b93-9379-57cd4179f0a1 button.colab-df-convert');\n",
              "        buttonEl.style.display =\n",
              "          google.colab.kernel.accessAllowed ? 'block' : 'none';\n",
              "\n",
              "        async function convertToInteractive(key) {\n",
              "          const element = document.querySelector('#df-f511617c-80cd-4b93-9379-57cd4179f0a1');\n",
              "          const dataTable =\n",
              "            await google.colab.kernel.invokeFunction('convertToInteractive',\n",
              "                                                     [key], {});\n",
              "          if (!dataTable) return;\n",
              "\n",
              "          const docLinkHtml = 'Like what you see? Visit the ' +\n",
              "            '<a target=\"_blank\" href=https://colab.research.google.com/notebooks/data_table.ipynb>data table notebook</a>'\n",
              "            + ' to learn more about interactive tables.';\n",
              "          element.innerHTML = '';\n",
              "          dataTable['output_type'] = 'display_data';\n",
              "          await google.colab.output.renderOutput(dataTable, element);\n",
              "          const docLink = document.createElement('div');\n",
              "          docLink.innerHTML = docLinkHtml;\n",
              "          element.appendChild(docLink);\n",
              "        }\n",
              "      </script>\n",
              "    </div>\n",
              "  </div>\n",
              "  "
            ],
            "text/plain": [
              "   incident_level  count\n",
              "0               0     40\n",
              "1               1     45\n",
              "2               2     45\n",
              "3               3     29\n",
              "4               4     24"
            ]
          },
          "metadata": {},
          "execution_count": 10
        }
      ]
    },
    {
      "cell_type": "code",
      "metadata": {
        "colab": {
          "base_uri": "https://localhost:8080/",
          "height": 294
        },
        "id": "o2JS1b0lA2lM",
        "outputId": "b6bf2d91-fe5e-446b-c42b-eb6d6fcd544d"
      },
      "source": [
        "plt.scatter(df_nolaunch['incident_level'], df_nolaunch['count'])\n",
        "plt.title('Typological Emergence of Nuclear Near Miss Incidents')\n",
        "plt.xlabel('Incident Level')\n",
        "plt.xticks(df['incident_level'])\n",
        "plt.ylabel('Count')\n",
        "plt.yticks(range(0,50,5))\n",
        "plt.show()"
      ],
      "execution_count": 11,
      "outputs": [
        {
          "output_type": "display_data",
          "data": {
            "image/png": "[encoded data removed]",
            "text/plain": [
              "<Figure size 432x288 with 1 Axes>"
            ]
          },
          "metadata": {
            "needs_background": "light"
          }
        }
      ]
    },
    {
      "cell_type": "markdown",
      "metadata": {
        "id": "1xe8j3PNpdPi"
      },
      "source": [
        "### Let's try some Regressions to get an idea for how many 5's we might expect.\n",
        "\n",
        "First one I tried assumes a trend in the exponential / logarithmic decay of the increments between counts of each incident level."
      ]
    },
    {
      "cell_type": "code",
      "metadata": {
        "id": "_3FbkLmd9H_s"
      },
      "source": [
        "# LOGARITHMIC DECAY\n",
        "\n",
        "#  2^y = 30\n",
        "#  y = log2(30)"
      ],
      "execution_count": 12,
      "outputs": []
    },
    {
      "cell_type": "code",
      "metadata": {
        "id": "ypz7LMbwB7pU"
      },
      "source": [
        "import math\n",
        "\n",
        "# math.e\n",
        "# math.log(x, base)"
      ],
      "execution_count": 13,
      "outputs": []
    },
    {
      "cell_type": "code",
      "metadata": {
        "colab": {
          "base_uri": "https://localhost:8080/"
        },
        "id": "jZSUxJAX-j_Q",
        "outputId": "b58d87fd-dec8-4390-9f5f-c07b0cb94a39"
      },
      "source": [
        "for i in incident_levels[:4]:\n",
        "  y = math.log(count[i+1],count[i])\n",
        "  print(f'{i} to {i+1}: ', y)"
      ],
      "execution_count": 14,
      "outputs": [
        {
          "output_type": "stream",
          "name": "stdout",
          "text": [
            "0 to 1:  1.0319292178347081\n",
            "1 to 2:  1.0\n",
            "2 to 3:  0.884579559925641\n",
            "3 to 4:  0.9438000077233224\n"
          ]
        }
      ]
    },
    {
      "cell_type": "markdown",
      "metadata": {
        "id": "Z5bHKAqlqCIq"
      },
      "source": [
        "### These exponenetial values separate each increment count from the previous level.\n",
        "\n",
        "Let's use a line of best fit to ascertain the exponent separating level 4 and level 5."
      ]
    },
    {
      "cell_type": "code",
      "metadata": {
        "colab": {
          "base_uri": "https://localhost:8080/"
        },
        "id": "qey0-MS7Jz56",
        "outputId": "3d840409-87f5-4996-f599-6d4f768eb18c"
      },
      "source": [
        "increment = [i+0.5 for i in range(4)]\n",
        "exponent = [math.log(count[i+1],count[i]) for i in incident_levels[:4]]\n",
        "df_increment_dict = {'increment': increment, 'exponent':exponent}\n",
        "print(df_increment_dict)"
      ],
      "execution_count": 15,
      "outputs": [
        {
          "output_type": "stream",
          "name": "stdout",
          "text": [
            "{'increment': [0.5, 1.5, 2.5, 3.5], 'exponent': [1.0319292178347081, 1.0, 0.884579559925641, 0.9438000077233224]}\n"
          ]
        }
      ]
    },
    {
      "cell_type": "code",
      "metadata": {
        "colab": {
          "base_uri": "https://localhost:8080/",
          "height": 174
        },
        "id": "oKadSZE-LY7D",
        "outputId": "5b1fabb2-3810-4e08-dc86-aa82f02f0926"
      },
      "source": [
        "df_increment = pd.DataFrame(data=df_increment_dict)\n",
        "df_increment"
      ],
      "execution_count": 16,
      "outputs": [
        {
          "output_type": "execute_result",
          "data": {
            "text/html": [
              "\n",
              "  <div id=\"df-66d4447e-31c4-4396-8218-ed77b4105619\">\n",
              "    <div class=\"colab-df-container\">\n",
              "      <div>\n",
              "<style scoped>\n",
              "    .dataframe tbody tr th:only-of-type {\n",
              "        vertical-align: middle;\n",
              "    }\n",
              "\n",
              "    .dataframe tbody tr th {\n",
              "        vertical-align: top;\n",
              "    }\n",
              "\n",
              "    .dataframe thead th {\n",
              "        text-align: right;\n",
              "    }\n",
              "</style>\n",
              "<table border=\"1\" class=\"dataframe\">\n",
              "  <thead>\n",
              "    <tr style=\"text-align: right;\">\n",
              "      <th></th>\n",
              "      <th>increment</th>\n",
              "      <th>exponent</th>\n",
              "    </tr>\n",
              "  </thead>\n",
              "  <tbody>\n",
              "    <tr>\n",
              "      <th>0</th>\n",
              "      <td>0.5</td>\n",
              "      <td>1.031929</td>\n",
              "    </tr>\n",
              "    <tr>\n",
              "      <th>1</th>\n",
              "      <td>1.5</td>\n",
              "      <td>1.000000</td>\n",
              "    </tr>\n",
              "    <tr>\n",
              "      <th>2</th>\n",
              "      <td>2.5</td>\n",
              "      <td>0.884580</td>\n",
              "    </tr>\n",
              "    <tr>\n",
              "      <th>3</th>\n",
              "      <td>3.5</td>\n",
              "      <td>0.943800</td>\n",
              "    </tr>\n",
              "  </tbody>\n",
              "</table>\n",
              "</div>\n",
              "      <button class=\"colab-df-convert\" onclick=\"convertToInteractive('df-66d4447e-31c4-4396-8218-ed77b4105619')\"\n",
              "              title=\"Convert this dataframe to an interactive table.\"\n",
              "              style=\"display:none;\">\n",
              "        \n",
              "  <svg xmlns=\"http://www.w3.org/2000/svg\" height=\"24px\"viewBox=\"0 0 24 24\"\n",
              "       width=\"24px\">\n",
              "    <path d=\"M0 0h24v24H0V0z\" fill=\"none\"/>\n",
              "    <path d=\"M18.56 5.44l.94 2.06.94-2.06 2.06-.94-2.06-.94-.94-2.06-.94 2.06-2.06.94zm-11 1L8.5 8.5l.94-2.06 2.06-.94-2.06-.94L8.5 2.5l-.94 2.06-2.06.94zm10 10l.94 2.06.94-2.06 2.06-.94-2.06-.94-.94-2.06-.94 2.06-2.06.94z\"/><path d=\"M17.41 7.96l-1.37-1.37c-.4-.4-.92-.59-1.43-.59-.52 0-1.04.2-1.43.59L10.3 9.45l-7.72 7.72c-.78.78-.78 2.05 0 2.83L4 21.41c.39.39.9.59 1.41.59.51 0 1.02-.2 1.41-.59l7.78-7.78 2.81-2.81c.8-.78.8-2.07 0-2.86zM5.41 20L4 18.59l7.72-7.72 1.47 1.35L5.41 20z\"/>\n",
              "  </svg>\n",
              "      </button>\n",
              "      \n",
              "  <style>\n",
              "    .colab-df-container {\n",
              "      display:flex;\n",
              "      flex-wrap:wrap;\n",
              "      gap: 12px;\n",
              "    }\n",
              "\n",
              "    .colab-df-convert {\n",
              "      background-color: #E8F0FE;\n",
              "      border: none;\n",
              "      border-radius: 50%;\n",
              "      cursor: pointer;\n",
              "      display: none;\n",
              "      fill: #1967D2;\n",
              "      height: 32px;\n",
              "      padding: 0 0 0 0;\n",
              "      width: 32px;\n",
              "    }\n",
              "\n",
              "    .colab-df-convert:hover {\n",
              "      background-color: #E2EBFA;\n",
              "      box-shadow: 0px 1px 2px rgba(60, 64, 67, 0.3), 0px 1px 3px 1px rgba(60, 64, 67, 0.15);\n",
              "      fill: #174EA6;\n",
              "    }\n",
              "\n",
              "    [theme=dark] .colab-df-convert {\n",
              "      background-color: #3B4455;\n",
              "      fill: #D2E3FC;\n",
              "    }\n",
              "\n",
              "    [theme=dark] .colab-df-convert:hover {\n",
              "      background-color: #434B5C;\n",
              "      box-shadow: 0px 1px 3px 1px rgba(0, 0, 0, 0.15);\n",
              "      filter: drop-shadow(0px 1px 2px rgba(0, 0, 0, 0.3));\n",
              "      fill: #FFFFFF;\n",
              "    }\n",
              "  </style>\n",
              "\n",
              "      <script>\n",
              "        const buttonEl =\n",
              "          document.querySelector('#df-66d4447e-31c4-4396-8218-ed77b4105619 button.colab-df-convert');\n",
              "        buttonEl.style.display =\n",
              "          google.colab.kernel.accessAllowed ? 'block' : 'none';\n",
              "\n",
              "        async function convertToInteractive(key) {\n",
              "          const element = document.querySelector('#df-66d4447e-31c4-4396-8218-ed77b4105619');\n",
              "          const dataTable =\n",
              "            await google.colab.kernel.invokeFunction('convertToInteractive',\n",
              "                                                     [key], {});\n",
              "          if (!dataTable) return;\n",
              "\n",
              "          const docLinkHtml = 'Like what you see? Visit the ' +\n",
              "            '<a target=\"_blank\" href=https://colab.research.google.com/notebooks/data_table.ipynb>data table notebook</a>'\n",
              "            + ' to learn more about interactive tables.';\n",
              "          element.innerHTML = '';\n",
              "          dataTable['output_type'] = 'display_data';\n",
              "          await google.colab.output.renderOutput(dataTable, element);\n",
              "          const docLink = document.createElement('div');\n",
              "          docLink.innerHTML = docLinkHtml;\n",
              "          element.appendChild(docLink);\n",
              "        }\n",
              "      </script>\n",
              "    </div>\n",
              "  </div>\n",
              "  "
            ],
            "text/plain": [
              "   increment  exponent\n",
              "0        0.5  1.031929\n",
              "1        1.5  1.000000\n",
              "2        2.5  0.884580\n",
              "3        3.5  0.943800"
            ]
          },
          "metadata": {},
          "execution_count": 16
        }
      ]
    },
    {
      "cell_type": "code",
      "metadata": {
        "colab": {
          "base_uri": "https://localhost:8080/",
          "height": 294
        },
        "id": "TecF2H97LfMa",
        "outputId": "8ad022dc-6ef4-4b76-e802-5d656a7c568e"
      },
      "source": [
        "plt.scatter(df_increment['increment'], df_increment['exponent'])\n",
        "plt.title('Exponential Incriments between Near Miss Levels')\n",
        "plt.xlabel('Increment')\n",
        "plt.xticks(df_increment['increment'])\n",
        "plt.ylabel('Exponent')\n",
        "plt.yticks([0.7,0.8,0.9, 1,1.1])\n",
        "plt.show()"
      ],
      "execution_count": 17,
      "outputs": [
        {
          "output_type": "display_data",
          "data": {
            "image/png": "[encoded data removed]",
            "text/plain": [
              "<Figure size 432x288 with 1 Axes>"
            ]
          },
          "metadata": {
            "needs_background": "light"
          }
        }
      ]
    },
    {
      "cell_type": "code",
      "metadata": {
        "id": "Puox_WLddypS"
      },
      "source": [
        "from sklearn.linear_model import LinearRegression"
      ],
      "execution_count": 18,
      "outputs": []
    },
    {
      "cell_type": "code",
      "metadata": {
        "id": "2ClQsPT7eRl5"
      },
      "source": [
        "model = LinearRegression()"
      ],
      "execution_count": 19,
      "outputs": []
    },
    {
      "cell_type": "code",
      "metadata": {
        "colab": {
          "base_uri": "https://localhost:8080/"
        },
        "id": "vPJQnSszfN_q",
        "outputId": "c20b55bf-0177-43bc-d576-5817a23c377f"
      },
      "source": [
        "features = ['increment']\n",
        "target = 'exponent'\n",
        "\n",
        "X_train = df_increment[features]\n",
        "y_train = df_increment[target]\n",
        "\n",
        "model.fit(X_train, y_train)\n",
        "\n",
        "print(model.coef_)\n",
        "print(model.intercept_)"
      ],
      "execution_count": 20,
      "outputs": [
        {
          "output_type": "stream",
          "name": "stdout",
          "text": [
            "[-0.03798081]\n",
            "1.0410388104526211\n"
          ]
        }
      ]
    },
    {
      "cell_type": "code",
      "metadata": {
        "colab": {
          "base_uri": "https://localhost:8080/"
        },
        "id": "dXjkD1uCgG_t",
        "outputId": "075d4843-4979-41f5-ab90-333ba78cb074"
      },
      "source": [
        "launch_exp = model.predict([[4.5]])\n",
        "print(launch_exp)"
      ],
      "execution_count": 21,
      "outputs": [
        {
          "output_type": "stream",
          "name": "stdout",
          "text": [
            "[0.87012518]\n"
          ]
        },
        {
          "output_type": "stream",
          "name": "stderr",
          "text": [
            "/usr/local/lib/python3.7/dist-packages/sklearn/base.py:451: UserWarning: X does not have valid feature names, but LinearRegression was fitted with feature names\n",
            "  \"X does not have valid feature names, but\"\n"
          ]
        }
      ]
    },
    {
      "cell_type": "code",
      "metadata": {
        "id": "Qr-KpejihDyD"
      },
      "source": [
        "import seaborn as sb"
      ],
      "execution_count": 22,
      "outputs": []
    },
    {
      "cell_type": "code",
      "metadata": {
        "colab": {
          "base_uri": "https://localhost:8080/",
          "height": 278
        },
        "id": "KsnXyBtEhSXl",
        "outputId": "861d8301-0631-4ece-b26c-8126ff977625"
      },
      "source": [
        "plt.xlim(0,4.5)\n",
        "sb.regplot(x=df_increment['increment'], y=df_increment['exponent'], truncate=False);"
      ],
      "execution_count": 23,
      "outputs": [
        {
          "output_type": "display_data",
          "data": {
            "image/png": "[encoded data removed]",
            "text/plain": [
              "<Figure size 432x288 with 1 Axes>"
            ]
          },
          "metadata": {
            "needs_background": "light"
          }
        }
      ]
    },
    {
      "cell_type": "code",
      "metadata": {
        "colab": {
          "base_uri": "https://localhost:8080/"
        },
        "id": "c1VZEmPdhlgM",
        "outputId": "186afc87-2677-4994-c59c-738dfb8c0a55"
      },
      "source": [
        "increment_pred = increment\n",
        "increment_pred.append(4.5)\n",
        "\n",
        "exponent_pred = exponent\n",
        "exponent_pred.append(launch_exp[0])\n",
        "\n",
        "df_increment_log_dict = {'increment_pred':increment_pred, 'exponent_pred':exponent_pred}\n",
        "\n",
        "# print(increment)\n",
        "print(df_increment_log_dict)"
      ],
      "execution_count": 24,
      "outputs": [
        {
          "output_type": "stream",
          "name": "stdout",
          "text": [
            "{'increment_pred': [0.5, 1.5, 2.5, 3.5, 4.5], 'exponent_pred': [1.0319292178347081, 1.0, 0.884579559925641, 0.9438000077233224, 0.8701251787687888]}\n"
          ]
        }
      ]
    },
    {
      "cell_type": "code",
      "metadata": {
        "colab": {
          "base_uri": "https://localhost:8080/",
          "height": 206
        },
        "id": "JGMjtZa_ln4a",
        "outputId": "ec1729f3-39a6-4cac-a262-da2ac29b6a70"
      },
      "source": [
        "df_increment_log = pd.DataFrame(data=df_increment_log_dict)\n",
        "df_increment_log"
      ],
      "execution_count": 25,
      "outputs": [
        {
          "output_type": "execute_result",
          "data": {
            "text/html": [
              "\n",
              "  <div id=\"df-56a4de15-8cd5-4ca9-b89e-17d6618a2553\">\n",
              "    <div class=\"colab-df-container\">\n",
              "      <div>\n",
              "<style scoped>\n",
              "    .dataframe tbody tr th:only-of-type {\n",
              "        vertical-align: middle;\n",
              "    }\n",
              "\n",
              "    .dataframe tbody tr th {\n",
              "        vertical-align: top;\n",
              "    }\n",
              "\n",
              "    .dataframe thead th {\n",
              "        text-align: right;\n",
              "    }\n",
              "</style>\n",
              "<table border=\"1\" class=\"dataframe\">\n",
              "  <thead>\n",
              "    <tr style=\"text-align: right;\">\n",
              "      <th></th>\n",
              "      <th>increment_pred</th>\n",
              "      <th>exponent_pred</th>\n",
              "    </tr>\n",
              "  </thead>\n",
              "  <tbody>\n",
              "    <tr>\n",
              "      <th>0</th>\n",
              "      <td>0.5</td>\n",
              "      <td>1.031929</td>\n",
              "    </tr>\n",
              "    <tr>\n",
              "      <th>1</th>\n",
              "      <td>1.5</td>\n",
              "      <td>1.000000</td>\n",
              "    </tr>\n",
              "    <tr>\n",
              "      <th>2</th>\n",
              "      <td>2.5</td>\n",
              "      <td>0.884580</td>\n",
              "    </tr>\n",
              "    <tr>\n",
              "      <th>3</th>\n",
              "      <td>3.5</td>\n",
              "      <td>0.943800</td>\n",
              "    </tr>\n",
              "    <tr>\n",
              "      <th>4</th>\n",
              "      <td>4.5</td>\n",
              "      <td>0.870125</td>\n",
              "    </tr>\n",
              "  </tbody>\n",
              "</table>\n",
              "</div>\n",
              "      <button class=\"colab-df-convert\" onclick=\"convertToInteractive('df-56a4de15-8cd5-4ca9-b89e-17d6618a2553')\"\n",
              "              title=\"Convert this dataframe to an interactive table.\"\n",
              "              style=\"display:none;\">\n",
              "        \n",
              "  <svg xmlns=\"http://www.w3.org/2000/svg\" height=\"24px\"viewBox=\"0 0 24 24\"\n",
              "       width=\"24px\">\n",
              "    <path d=\"M0 0h24v24H0V0z\" fill=\"none\"/>\n",
              "    <path d=\"M18.56 5.44l.94 2.06.94-2.06 2.06-.94-2.06-.94-.94-2.06-.94 2.06-2.06.94zm-11 1L8.5 8.5l.94-2.06 2.06-.94-2.06-.94L8.5 2.5l-.94 2.06-2.06.94zm10 10l.94 2.06.94-2.06 2.06-.94-2.06-.94-.94-2.06-.94 2.06-2.06.94z\"/><path d=\"M17.41 7.96l-1.37-1.37c-.4-.4-.92-.59-1.43-.59-.52 0-1.04.2-1.43.59L10.3 9.45l-7.72 7.72c-.78.78-.78 2.05 0 2.83L4 21.41c.39.39.9.59 1.41.59.51 0 1.02-.2 1.41-.59l7.78-7.78 2.81-2.81c.8-.78.8-2.07 0-2.86zM5.41 20L4 18.59l7.72-7.72 1.47 1.35L5.41 20z\"/>\n",
              "  </svg>\n",
              "      </button>\n",
              "      \n",
              "  <style>\n",
              "    .colab-df-container {\n",
              "      display:flex;\n",
              "      flex-wrap:wrap;\n",
              "      gap: 12px;\n",
              "    }\n",
              "\n",
              "    .colab-df-convert {\n",
              "      background-color: #E8F0FE;\n",
              "      border: none;\n",
              "      border-radius: 50%;\n",
              "      cursor: pointer;\n",
              "      display: none;\n",
              "      fill: #1967D2;\n",
              "      height: 32px;\n",
              "      padding: 0 0 0 0;\n",
              "      width: 32px;\n",
              "    }\n",
              "\n",
              "    .colab-df-convert:hover {\n",
              "      background-color: #E2EBFA;\n",
              "      box-shadow: 0px 1px 2px rgba(60, 64, 67, 0.3), 0px 1px 3px 1px rgba(60, 64, 67, 0.15);\n",
              "      fill: #174EA6;\n",
              "    }\n",
              "\n",
              "    [theme=dark] .colab-df-convert {\n",
              "      background-color: #3B4455;\n",
              "      fill: #D2E3FC;\n",
              "    }\n",
              "\n",
              "    [theme=dark] .colab-df-convert:hover {\n",
              "      background-color: #434B5C;\n",
              "      box-shadow: 0px 1px 3px 1px rgba(0, 0, 0, 0.15);\n",
              "      filter: drop-shadow(0px 1px 2px rgba(0, 0, 0, 0.3));\n",
              "      fill: #FFFFFF;\n",
              "    }\n",
              "  </style>\n",
              "\n",
              "      <script>\n",
              "        const buttonEl =\n",
              "          document.querySelector('#df-56a4de15-8cd5-4ca9-b89e-17d6618a2553 button.colab-df-convert');\n",
              "        buttonEl.style.display =\n",
              "          google.colab.kernel.accessAllowed ? 'block' : 'none';\n",
              "\n",
              "        async function convertToInteractive(key) {\n",
              "          const element = document.querySelector('#df-56a4de15-8cd5-4ca9-b89e-17d6618a2553');\n",
              "          const dataTable =\n",
              "            await google.colab.kernel.invokeFunction('convertToInteractive',\n",
              "                                                     [key], {});\n",
              "          if (!dataTable) return;\n",
              "\n",
              "          const docLinkHtml = 'Like what you see? Visit the ' +\n",
              "            '<a target=\"_blank\" href=https://colab.research.google.com/notebooks/data_table.ipynb>data table notebook</a>'\n",
              "            + ' to learn more about interactive tables.';\n",
              "          element.innerHTML = '';\n",
              "          dataTable['output_type'] = 'display_data';\n",
              "          await google.colab.output.renderOutput(dataTable, element);\n",
              "          const docLink = document.createElement('div');\n",
              "          docLink.innerHTML = docLinkHtml;\n",
              "          element.appendChild(docLink);\n",
              "        }\n",
              "      </script>\n",
              "    </div>\n",
              "  </div>\n",
              "  "
            ],
            "text/plain": [
              "   increment_pred  exponent_pred\n",
              "0             0.5       1.031929\n",
              "1             1.5       1.000000\n",
              "2             2.5       0.884580\n",
              "3             3.5       0.943800\n",
              "4             4.5       0.870125"
            ]
          },
          "metadata": {},
          "execution_count": 25
        }
      ]
    },
    {
      "cell_type": "code",
      "metadata": {
        "colab": {
          "base_uri": "https://localhost:8080/"
        },
        "id": "KvnqEzBTM8YR",
        "outputId": "da6daeb2-7862-4263-8416-f3564aace717"
      },
      "source": [
        "lambda_min_log = count[4] ** exponent_pred[-1]\n",
        "print(lambda_min_log)"
      ],
      "execution_count": 26,
      "outputs": [
        {
          "output_type": "stream",
          "name": "stdout",
          "text": [
            "15.883878392550955\n"
          ]
        }
      ]
    },
    {
      "cell_type": "code",
      "metadata": {
        "colab": {
          "base_uri": "https://localhost:8080/"
        },
        "id": "1s0iwF1ANW4Y",
        "outputId": "5e830024-1dde-4af1-af2b-54801cbec070"
      },
      "source": [
        "df_log_pred_dict = df_dict\n",
        "df_log_pred_dict['count'][-1] = lambda_min_log\n",
        "print(df_log_pred_dict)"
      ],
      "execution_count": 27,
      "outputs": [
        {
          "output_type": "stream",
          "name": "stdout",
          "text": [
            "{'incident_level': [0, 1, 2, 3, 4, 5], 'count': [40, 45, 45, 29, 24, 15.883878392550955]}\n"
          ]
        }
      ]
    },
    {
      "cell_type": "code",
      "metadata": {
        "colab": {
          "base_uri": "https://localhost:8080/",
          "height": 294
        },
        "id": "ou5mX6p3ODmg",
        "outputId": "1ce5266b-9cfb-4a26-c6bc-4925159ed63c"
      },
      "source": [
        "df_log_pred = pd.DataFrame(data=df_log_pred_dict)\n",
        "\n",
        "plt.scatter(df_log_pred['incident_level'], df_log_pred['count'])\n",
        "plt.title('Nuclear Wars expected by Logarithmic Decay Forecast (Level 5)')\n",
        "plt.xlabel('Incident Level')\n",
        "plt.xticks(df_log_pred['incident_level'])\n",
        "plt.ylabel('Count')\n",
        "plt.yticks(range(0,50,6))\n",
        "plt.show()"
      ],
      "execution_count": 28,
      "outputs": [
        {
          "output_type": "display_data",
          "data": {
            "image/png": "[encoded data removed]",
            "text/plain": [
              "<Figure size 432x288 with 1 Axes>"
            ]
          },
          "metadata": {
            "needs_background": "light"
          }
        }
      ]
    },
    {
      "cell_type": "markdown",
      "metadata": {
        "id": "VQq26poHPDHd"
      },
      "source": [
        "## LOGARITHMS REGRESSED: THERE SHOULD HAVE BEEN ~16 NUCLEAR LAUNCHES SINCE 1949"
      ]
    },
    {
      "cell_type": "markdown",
      "metadata": {
        "id": "GIszN3OHqqBX"
      },
      "source": [
        "# Now I'll try a Regression assumes a proportional trend in the decay of the increments between counts of each incident level."
      ]
    },
    {
      "cell_type": "code",
      "metadata": {
        "id": "L2E5DRqqNhiQ"
      },
      "source": [
        "# MULTIPLICATIVE DECAY (RATHER THAN LOGARITHMIC)"
      ],
      "execution_count": 29,
      "outputs": []
    },
    {
      "cell_type": "code",
      "metadata": {
        "colab": {
          "base_uri": "https://localhost:8080/"
        },
        "id": "Aym6bGvC2Vv0",
        "outputId": "48e94064-3435-4d61-9664-1cd4fa02c25a"
      },
      "source": [
        "margin = [(count[i+1] / count[i]) for i in incident_levels[:4]]\n",
        "df_mult_decay_dict = {'increment': increment[:-1], 'margin':margin}\n",
        "print(df_mult_decay_dict)"
      ],
      "execution_count": 30,
      "outputs": [
        {
          "output_type": "stream",
          "name": "stdout",
          "text": [
            "{'increment': [0.5, 1.5, 2.5, 3.5], 'margin': [1.125, 1.0, 0.6444444444444445, 0.8275862068965517]}\n"
          ]
        }
      ]
    },
    {
      "cell_type": "code",
      "metadata": {
        "colab": {
          "base_uri": "https://localhost:8080/",
          "height": 174
        },
        "id": "iiqDdOG426bB",
        "outputId": "9129a471-ada0-4722-b7b2-c3b91ec3ffc3"
      },
      "source": [
        "df_mult_decay = pd.DataFrame(data=df_mult_decay_dict)\n",
        "df_mult_decay"
      ],
      "execution_count": 31,
      "outputs": [
        {
          "output_type": "execute_result",
          "data": {
            "text/html": [
              "\n",
              "  <div id=\"df-07bb6db9-55e7-4e5f-95f4-a0211b8827e3\">\n",
              "    <div class=\"colab-df-container\">\n",
              "      <div>\n",
              "<style scoped>\n",
              "    .dataframe tbody tr th:only-of-type {\n",
              "        vertical-align: middle;\n",
              "    }\n",
              "\n",
              "    .dataframe tbody tr th {\n",
              "        vertical-align: top;\n",
              "    }\n",
              "\n",
              "    .dataframe thead th {\n",
              "        text-align: right;\n",
              "    }\n",
              "</style>\n",
              "<table border=\"1\" class=\"dataframe\">\n",
              "  <thead>\n",
              "    <tr style=\"text-align: right;\">\n",
              "      <th></th>\n",
              "      <th>increment</th>\n",
              "      <th>margin</th>\n",
              "    </tr>\n",
              "  </thead>\n",
              "  <tbody>\n",
              "    <tr>\n",
              "      <th>0</th>\n",
              "      <td>0.5</td>\n",
              "      <td>1.125000</td>\n",
              "    </tr>\n",
              "    <tr>\n",
              "      <th>1</th>\n",
              "      <td>1.5</td>\n",
              "      <td>1.000000</td>\n",
              "    </tr>\n",
              "    <tr>\n",
              "      <th>2</th>\n",
              "      <td>2.5</td>\n",
              "      <td>0.644444</td>\n",
              "    </tr>\n",
              "    <tr>\n",
              "      <th>3</th>\n",
              "      <td>3.5</td>\n",
              "      <td>0.827586</td>\n",
              "    </tr>\n",
              "  </tbody>\n",
              "</table>\n",
              "</div>\n",
              "      <button class=\"colab-df-convert\" onclick=\"convertToInteractive('df-07bb6db9-55e7-4e5f-95f4-a0211b8827e3')\"\n",
              "              title=\"Convert this dataframe to an interactive table.\"\n",
              "              style=\"display:none;\">\n",
              "        \n",
              "  <svg xmlns=\"http://www.w3.org/2000/svg\" height=\"24px\"viewBox=\"0 0 24 24\"\n",
              "       width=\"24px\">\n",
              "    <path d=\"M0 0h24v24H0V0z\" fill=\"none\"/>\n",
              "    <path d=\"M18.56 5.44l.94 2.06.94-2.06 2.06-.94-2.06-.94-.94-2.06-.94 2.06-2.06.94zm-11 1L8.5 8.5l.94-2.06 2.06-.94-2.06-.94L8.5 2.5l-.94 2.06-2.06.94zm10 10l.94 2.06.94-2.06 2.06-.94-2.06-.94-.94-2.06-.94 2.06-2.06.94z\"/><path d=\"M17.41 7.96l-1.37-1.37c-.4-.4-.92-.59-1.43-.59-.52 0-1.04.2-1.43.59L10.3 9.45l-7.72 7.72c-.78.78-.78 2.05 0 2.83L4 21.41c.39.39.9.59 1.41.59.51 0 1.02-.2 1.41-.59l7.78-7.78 2.81-2.81c.8-.78.8-2.07 0-2.86zM5.41 20L4 18.59l7.72-7.72 1.47 1.35L5.41 20z\"/>\n",
              "  </svg>\n",
              "      </button>\n",
              "      \n",
              "  <style>\n",
              "    .colab-df-container {\n",
              "      display:flex;\n",
              "      flex-wrap:wrap;\n",
              "      gap: 12px;\n",
              "    }\n",
              "\n",
              "    .colab-df-convert {\n",
              "      background-color: #E8F0FE;\n",
              "      border: none;\n",
              "      border-radius: 50%;\n",
              "      cursor: pointer;\n",
              "      display: none;\n",
              "      fill: #1967D2;\n",
              "      height: 32px;\n",
              "      padding: 0 0 0 0;\n",
              "      width: 32px;\n",
              "    }\n",
              "\n",
              "    .colab-df-convert:hover {\n",
              "      background-color: #E2EBFA;\n",
              "      box-shadow: 0px 1px 2px rgba(60, 64, 67, 0.3), 0px 1px 3px 1px rgba(60, 64, 67, 0.15);\n",
              "      fill: #174EA6;\n",
              "    }\n",
              "\n",
              "    [theme=dark] .colab-df-convert {\n",
              "      background-color: #3B4455;\n",
              "      fill: #D2E3FC;\n",
              "    }\n",
              "\n",
              "    [theme=dark] .colab-df-convert:hover {\n",
              "      background-color: #434B5C;\n",
              "      box-shadow: 0px 1px 3px 1px rgba(0, 0, 0, 0.15);\n",
              "      filter: drop-shadow(0px 1px 2px rgba(0, 0, 0, 0.3));\n",
              "      fill: #FFFFFF;\n",
              "    }\n",
              "  </style>\n",
              "\n",
              "      <script>\n",
              "        const buttonEl =\n",
              "          document.querySelector('#df-07bb6db9-55e7-4e5f-95f4-a0211b8827e3 button.colab-df-convert');\n",
              "        buttonEl.style.display =\n",
              "          google.colab.kernel.accessAllowed ? 'block' : 'none';\n",
              "\n",
              "        async function convertToInteractive(key) {\n",
              "          const element = document.querySelector('#df-07bb6db9-55e7-4e5f-95f4-a0211b8827e3');\n",
              "          const dataTable =\n",
              "            await google.colab.kernel.invokeFunction('convertToInteractive',\n",
              "                                                     [key], {});\n",
              "          if (!dataTable) return;\n",
              "\n",
              "          const docLinkHtml = 'Like what you see? Visit the ' +\n",
              "            '<a target=\"_blank\" href=https://colab.research.google.com/notebooks/data_table.ipynb>data table notebook</a>'\n",
              "            + ' to learn more about interactive tables.';\n",
              "          element.innerHTML = '';\n",
              "          dataTable['output_type'] = 'display_data';\n",
              "          await google.colab.output.renderOutput(dataTable, element);\n",
              "          const docLink = document.createElement('div');\n",
              "          docLink.innerHTML = docLinkHtml;\n",
              "          element.appendChild(docLink);\n",
              "        }\n",
              "      </script>\n",
              "    </div>\n",
              "  </div>\n",
              "  "
            ],
            "text/plain": [
              "   increment    margin\n",
              "0        0.5  1.125000\n",
              "1        1.5  1.000000\n",
              "2        2.5  0.644444\n",
              "3        3.5  0.827586"
            ]
          },
          "metadata": {},
          "execution_count": 31
        }
      ]
    },
    {
      "cell_type": "code",
      "metadata": {
        "colab": {
          "base_uri": "https://localhost:8080/",
          "height": 294
        },
        "id": "9zZEQR6u3aQx",
        "outputId": "3a25f586-6a78-486e-95ef-551a60f0cc79"
      },
      "source": [
        "plt.scatter(df_mult_decay['increment'], df_mult_decay['margin'])\n",
        "plt.title('Proportional Margins between Near Miss Levels')\n",
        "plt.xlabel('Increment')\n",
        "plt.xticks(df_mult_decay['increment'])\n",
        "plt.ylabel('Margin')\n",
        "plt.yticks([0.5,0.7,0.8,0.9, 1,1.1, 1.3])\n",
        "plt.show()"
      ],
      "execution_count": 32,
      "outputs": [
        {
          "output_type": "display_data",
          "data": {
            "image/png": "[encoded data removed]",
            "text/plain": [
              "<Figure size 432x288 with 1 Axes>"
            ]
          },
          "metadata": {
            "needs_background": "light"
          }
        }
      ]
    },
    {
      "cell_type": "code",
      "metadata": {
        "id": "LrGFFXHz4INe"
      },
      "source": [
        "model_m = LinearRegression()"
      ],
      "execution_count": 33,
      "outputs": []
    },
    {
      "cell_type": "code",
      "metadata": {
        "colab": {
          "base_uri": "https://localhost:8080/"
        },
        "id": "O_pO8x2W4dy8",
        "outputId": "d9ee24c6-1b0f-442e-f699-d1d69a7a23ca"
      },
      "source": [
        "target_m = 'margin'\n",
        "\n",
        "X_train_m = df_mult_decay[features]\n",
        "y_train_m = df_mult_decay[target_m]\n",
        "\n",
        "model_m.fit(X_train_m, y_train_m)\n",
        "\n",
        "print(model_m.coef_)\n",
        "print(model_m.intercept_)"
      ],
      "execution_count": 34,
      "outputs": [
        {
          "output_type": "stream",
          "name": "stdout",
          "text": [
            "[-0.12477969]\n",
            "1.148817049808429\n"
          ]
        }
      ]
    },
    {
      "cell_type": "code",
      "metadata": {
        "colab": {
          "base_uri": "https://localhost:8080/"
        },
        "id": "qRJ7JrLz5Hlz",
        "outputId": "adc1344c-bd4f-405e-a60e-e9379418512f"
      },
      "source": [
        "launch_marg = model_m.predict([[4.5]])\n",
        "print(launch_marg)"
      ],
      "execution_count": 35,
      "outputs": [
        {
          "output_type": "stream",
          "name": "stdout",
          "text": [
            "[0.58730843]\n"
          ]
        },
        {
          "output_type": "stream",
          "name": "stderr",
          "text": [
            "/usr/local/lib/python3.7/dist-packages/sklearn/base.py:451: UserWarning: X does not have valid feature names, but LinearRegression was fitted with feature names\n",
            "  \"X does not have valid feature names, but\"\n"
          ]
        }
      ]
    },
    {
      "cell_type": "code",
      "metadata": {
        "colab": {
          "base_uri": "https://localhost:8080/",
          "height": 282
        },
        "id": "xg016GRl5ZI-",
        "outputId": "fd59a26b-b99a-4c14-d722-a6c517c925b6"
      },
      "source": [
        "plt.xlim(0,4.5)\n",
        "sb.regplot(x=df_mult_decay['increment'], y=df_mult_decay['margin'], truncate=False);"
      ],
      "execution_count": 36,
      "outputs": [
        {
          "output_type": "display_data",
          "data": {
            "image/png": "[encoded data removed]",
            "text/plain": [
              "<Figure size 432x288 with 1 Axes>"
            ]
          },
          "metadata": {
            "needs_background": "light"
          }
        }
      ]
    },
    {
      "cell_type": "code",
      "metadata": {
        "colab": {
          "base_uri": "https://localhost:8080/"
        },
        "id": "RJbPxORi5wME",
        "outputId": "10ac2946-20d9-4f22-c74d-a2f56c6fed02"
      },
      "source": [
        "margin_pred = margin\n",
        "margin_pred.append(launch_marg[0])\n",
        "\n",
        "df_mult_decay_pred_dict = {'increment_pred':increment_pred, 'margin_pred':margin_pred}\n",
        "\n",
        "# print(increment)\n",
        "print(df_mult_decay_pred_dict)"
      ],
      "execution_count": 37,
      "outputs": [
        {
          "output_type": "stream",
          "name": "stdout",
          "text": [
            "{'increment_pred': [0.5, 1.5, 2.5, 3.5, 4.5], 'margin_pred': [1.125, 1.0, 0.6444444444444445, 0.8275862068965517, 0.5873084291187739]}\n"
          ]
        }
      ]
    },
    {
      "cell_type": "code",
      "metadata": {
        "colab": {
          "base_uri": "https://localhost:8080/",
          "height": 206
        },
        "id": "9BVm5f6B6cfW",
        "outputId": "438ab02f-f467-44e6-dd5c-21c18670fc18"
      },
      "source": [
        "df_mult_decay_pred = pd.DataFrame(data=df_mult_decay_pred_dict)\n",
        "df_mult_decay_pred"
      ],
      "execution_count": 38,
      "outputs": [
        {
          "output_type": "execute_result",
          "data": {
            "text/html": [
              "\n",
              "  <div id=\"df-1572ca58-5051-4715-b54f-3b5990ab80f4\">\n",
              "    <div class=\"colab-df-container\">\n",
              "      <div>\n",
              "<style scoped>\n",
              "    .dataframe tbody tr th:only-of-type {\n",
              "        vertical-align: middle;\n",
              "    }\n",
              "\n",
              "    .dataframe tbody tr th {\n",
              "        vertical-align: top;\n",
              "    }\n",
              "\n",
              "    .dataframe thead th {\n",
              "        text-align: right;\n",
              "    }\n",
              "</style>\n",
              "<table border=\"1\" class=\"dataframe\">\n",
              "  <thead>\n",
              "    <tr style=\"text-align: right;\">\n",
              "      <th></th>\n",
              "      <th>increment_pred</th>\n",
              "      <th>margin_pred</th>\n",
              "    </tr>\n",
              "  </thead>\n",
              "  <tbody>\n",
              "    <tr>\n",
              "      <th>0</th>\n",
              "      <td>0.5</td>\n",
              "      <td>1.125000</td>\n",
              "    </tr>\n",
              "    <tr>\n",
              "      <th>1</th>\n",
              "      <td>1.5</td>\n",
              "      <td>1.000000</td>\n",
              "    </tr>\n",
              "    <tr>\n",
              "      <th>2</th>\n",
              "      <td>2.5</td>\n",
              "      <td>0.644444</td>\n",
              "    </tr>\n",
              "    <tr>\n",
              "      <th>3</th>\n",
              "      <td>3.5</td>\n",
              "      <td>0.827586</td>\n",
              "    </tr>\n",
              "    <tr>\n",
              "      <th>4</th>\n",
              "      <td>4.5</td>\n",
              "      <td>0.587308</td>\n",
              "    </tr>\n",
              "  </tbody>\n",
              "</table>\n",
              "</div>\n",
              "      <button class=\"colab-df-convert\" onclick=\"convertToInteractive('df-1572ca58-5051-4715-b54f-3b5990ab80f4')\"\n",
              "              title=\"Convert this dataframe to an interactive table.\"\n",
              "              style=\"display:none;\">\n",
              "        \n",
              "  <svg xmlns=\"http://www.w3.org/2000/svg\" height=\"24px\"viewBox=\"0 0 24 24\"\n",
              "       width=\"24px\">\n",
              "    <path d=\"M0 0h24v24H0V0z\" fill=\"none\"/>\n",
              "    <path d=\"M18.56 5.44l.94 2.06.94-2.06 2.06-.94-2.06-.94-.94-2.06-.94 2.06-2.06.94zm-11 1L8.5 8.5l.94-2.06 2.06-.94-2.06-.94L8.5 2.5l-.94 2.06-2.06.94zm10 10l.94 2.06.94-2.06 2.06-.94-2.06-.94-.94-2.06-.94 2.06-2.06.94z\"/><path d=\"M17.41 7.96l-1.37-1.37c-.4-.4-.92-.59-1.43-.59-.52 0-1.04.2-1.43.59L10.3 9.45l-7.72 7.72c-.78.78-.78 2.05 0 2.83L4 21.41c.39.39.9.59 1.41.59.51 0 1.02-.2 1.41-.59l7.78-7.78 2.81-2.81c.8-.78.8-2.07 0-2.86zM5.41 20L4 18.59l7.72-7.72 1.47 1.35L5.41 20z\"/>\n",
              "  </svg>\n",
              "      </button>\n",
              "      \n",
              "  <style>\n",
              "    .colab-df-container {\n",
              "      display:flex;\n",
              "      flex-wrap:wrap;\n",
              "      gap: 12px;\n",
              "    }\n",
              "\n",
              "    .colab-df-convert {\n",
              "      background-color: #E8F0FE;\n",
              "      border: none;\n",
              "      border-radius: 50%;\n",
              "      cursor: pointer;\n",
              "      display: none;\n",
              "      fill: #1967D2;\n",
              "      height: 32px;\n",
              "      padding: 0 0 0 0;\n",
              "      width: 32px;\n",
              "    }\n",
              "\n",
              "    .colab-df-convert:hover {\n",
              "      background-color: #E2EBFA;\n",
              "      box-shadow: 0px 1px 2px rgba(60, 64, 67, 0.3), 0px 1px 3px 1px rgba(60, 64, 67, 0.15);\n",
              "      fill: #174EA6;\n",
              "    }\n",
              "\n",
              "    [theme=dark] .colab-df-convert {\n",
              "      background-color: #3B4455;\n",
              "      fill: #D2E3FC;\n",
              "    }\n",
              "\n",
              "    [theme=dark] .colab-df-convert:hover {\n",
              "      background-color: #434B5C;\n",
              "      box-shadow: 0px 1px 3px 1px rgba(0, 0, 0, 0.15);\n",
              "      filter: drop-shadow(0px 1px 2px rgba(0, 0, 0, 0.3));\n",
              "      fill: #FFFFFF;\n",
              "    }\n",
              "  </style>\n",
              "\n",
              "      <script>\n",
              "        const buttonEl =\n",
              "          document.querySelector('#df-1572ca58-5051-4715-b54f-3b5990ab80f4 button.colab-df-convert');\n",
              "        buttonEl.style.display =\n",
              "          google.colab.kernel.accessAllowed ? 'block' : 'none';\n",
              "\n",
              "        async function convertToInteractive(key) {\n",
              "          const element = document.querySelector('#df-1572ca58-5051-4715-b54f-3b5990ab80f4');\n",
              "          const dataTable =\n",
              "            await google.colab.kernel.invokeFunction('convertToInteractive',\n",
              "                                                     [key], {});\n",
              "          if (!dataTable) return;\n",
              "\n",
              "          const docLinkHtml = 'Like what you see? Visit the ' +\n",
              "            '<a target=\"_blank\" href=https://colab.research.google.com/notebooks/data_table.ipynb>data table notebook</a>'\n",
              "            + ' to learn more about interactive tables.';\n",
              "          element.innerHTML = '';\n",
              "          dataTable['output_type'] = 'display_data';\n",
              "          await google.colab.output.renderOutput(dataTable, element);\n",
              "          const docLink = document.createElement('div');\n",
              "          docLink.innerHTML = docLinkHtml;\n",
              "          element.appendChild(docLink);\n",
              "        }\n",
              "      </script>\n",
              "    </div>\n",
              "  </div>\n",
              "  "
            ],
            "text/plain": [
              "   increment_pred  margin_pred\n",
              "0             0.5     1.125000\n",
              "1             1.5     1.000000\n",
              "2             2.5     0.644444\n",
              "3             3.5     0.827586\n",
              "4             4.5     0.587308"
            ]
          },
          "metadata": {},
          "execution_count": 38
        }
      ]
    },
    {
      "cell_type": "code",
      "metadata": {
        "colab": {
          "base_uri": "https://localhost:8080/"
        },
        "id": "CPwB_PGe6ty5",
        "outputId": "abe515c4-dba9-4686-a38c-97a7066e5aa1"
      },
      "source": [
        "lambda_min_mult = count[4] * margin_pred[-1]\n",
        "print(lambda_min_mult)"
      ],
      "execution_count": 39,
      "outputs": [
        {
          "output_type": "stream",
          "name": "stdout",
          "text": [
            "14.095402298850573\n"
          ]
        }
      ]
    },
    {
      "cell_type": "code",
      "metadata": {
        "colab": {
          "base_uri": "https://localhost:8080/"
        },
        "id": "bXWOdQP069Hx",
        "outputId": "37e2bcec-06b5-47a2-c6a7-3b43d5dfb374"
      },
      "source": [
        "df_prop_pred_dict = df_dict\n",
        "df_prop_pred_dict['count'][-1] = lambda_min_mult\n",
        "print(df_prop_pred_dict)"
      ],
      "execution_count": 40,
      "outputs": [
        {
          "output_type": "stream",
          "name": "stdout",
          "text": [
            "{'incident_level': [0, 1, 2, 3, 4, 5], 'count': [40, 45, 45, 29, 24, 14.095402298850573]}\n"
          ]
        }
      ]
    },
    {
      "cell_type": "code",
      "metadata": {
        "colab": {
          "base_uri": "https://localhost:8080/",
          "height": 294
        },
        "id": "szS45QEC7pos",
        "outputId": "01e8fb85-30ab-4a05-d5fe-767de442925b"
      },
      "source": [
        "df_prop_pred = pd.DataFrame(data=df_prop_pred_dict)\n",
        "\n",
        "plt.scatter(df_prop_pred['incident_level'], df_prop_pred['count'])\n",
        "plt.title('Nuclear Wars expected by Proportional Decay Forecast (Level 5)')\n",
        "plt.xlabel('Incident Level')\n",
        "plt.xticks(df_prop_pred['incident_level'])\n",
        "plt.ylabel('Count')\n",
        "plt.yticks(range(0,50,6))\n",
        "plt.show()"
      ],
      "execution_count": 41,
      "outputs": [
        {
          "output_type": "display_data",
          "data": {
            "image/png": "[encoded data removed]",
            "text/plain": [
              "<Figure size 432x288 with 1 Axes>"
            ]
          },
          "metadata": {
            "needs_background": "light"
          }
        }
      ]
    },
    {
      "cell_type": "markdown",
      "metadata": {
        "id": "sqLhBXs48CyH"
      },
      "source": [
        "## PROPORTIONS REGRESSED: THERE SHOULD HAVE BEEN ~14 NUCLEAR LAUNCHES SINCE 1949"
      ]
    },
    {
      "cell_type": "markdown",
      "metadata": {
        "id": "2qkMfNYVrPFF"
      },
      "source": [
        "# Last I'll try a regular Linear Regression between the counts at each incident level."
      ]
    },
    {
      "cell_type": "code",
      "metadata": {
        "id": "I3XfD-eo9Naz"
      },
      "source": [
        "# LINEAR REGRESSION DECAY"
      ],
      "execution_count": 42,
      "outputs": []
    },
    {
      "cell_type": "code",
      "metadata": {
        "colab": {
          "base_uri": "https://localhost:8080/",
          "height": 206
        },
        "id": "UUqbqSMb1ZcZ",
        "outputId": "46ff7279-fde3-475f-fc2a-a79fef943174"
      },
      "source": [
        "df_nolaunch"
      ],
      "execution_count": 43,
      "outputs": [
        {
          "output_type": "execute_result",
          "data": {
            "text/html": [
              "\n",
              "  <div id=\"df-cbd893e2-af0a-4569-b304-b303cecb5d0e\">\n",
              "    <div class=\"colab-df-container\">\n",
              "      <div>\n",
              "<style scoped>\n",
              "    .dataframe tbody tr th:only-of-type {\n",
              "        vertical-align: middle;\n",
              "    }\n",
              "\n",
              "    .dataframe tbody tr th {\n",
              "        vertical-align: top;\n",
              "    }\n",
              "\n",
              "    .dataframe thead th {\n",
              "        text-align: right;\n",
              "    }\n",
              "</style>\n",
              "<table border=\"1\" class=\"dataframe\">\n",
              "  <thead>\n",
              "    <tr style=\"text-align: right;\">\n",
              "      <th></th>\n",
              "      <th>incident_level</th>\n",
              "      <th>count</th>\n",
              "    </tr>\n",
              "  </thead>\n",
              "  <tbody>\n",
              "    <tr>\n",
              "      <th>0</th>\n",
              "      <td>0</td>\n",
              "      <td>40</td>\n",
              "    </tr>\n",
              "    <tr>\n",
              "      <th>1</th>\n",
              "      <td>1</td>\n",
              "      <td>45</td>\n",
              "    </tr>\n",
              "    <tr>\n",
              "      <th>2</th>\n",
              "      <td>2</td>\n",
              "      <td>45</td>\n",
              "    </tr>\n",
              "    <tr>\n",
              "      <th>3</th>\n",
              "      <td>3</td>\n",
              "      <td>29</td>\n",
              "    </tr>\n",
              "    <tr>\n",
              "      <th>4</th>\n",
              "      <td>4</td>\n",
              "      <td>24</td>\n",
              "    </tr>\n",
              "  </tbody>\n",
              "</table>\n",
              "</div>\n",
              "      <button class=\"colab-df-convert\" onclick=\"convertToInteractive('df-cbd893e2-af0a-4569-b304-b303cecb5d0e')\"\n",
              "              title=\"Convert this dataframe to an interactive table.\"\n",
              "              style=\"display:none;\">\n",
              "        \n",
              "  <svg xmlns=\"http://www.w3.org/2000/svg\" height=\"24px\"viewBox=\"0 0 24 24\"\n",
              "       width=\"24px\">\n",
              "    <path d=\"M0 0h24v24H0V0z\" fill=\"none\"/>\n",
              "    <path d=\"M18.56 5.44l.94 2.06.94-2.06 2.06-.94-2.06-.94-.94-2.06-.94 2.06-2.06.94zm-11 1L8.5 8.5l.94-2.06 2.06-.94-2.06-.94L8.5 2.5l-.94 2.06-2.06.94zm10 10l.94 2.06.94-2.06 2.06-.94-2.06-.94-.94-2.06-.94 2.06-2.06.94z\"/><path d=\"M17.41 7.96l-1.37-1.37c-.4-.4-.92-.59-1.43-.59-.52 0-1.04.2-1.43.59L10.3 9.45l-7.72 7.72c-.78.78-.78 2.05 0 2.83L4 21.41c.39.39.9.59 1.41.59.51 0 1.02-.2 1.41-.59l7.78-7.78 2.81-2.81c.8-.78.8-2.07 0-2.86zM5.41 20L4 18.59l7.72-7.72 1.47 1.35L5.41 20z\"/>\n",
              "  </svg>\n",
              "      </button>\n",
              "      \n",
              "  <style>\n",
              "    .colab-df-container {\n",
              "      display:flex;\n",
              "      flex-wrap:wrap;\n",
              "      gap: 12px;\n",
              "    }\n",
              "\n",
              "    .colab-df-convert {\n",
              "      background-color: #E8F0FE;\n",
              "      border: none;\n",
              "      border-radius: 50%;\n",
              "      cursor: pointer;\n",
              "      display: none;\n",
              "      fill: #1967D2;\n",
              "      height: 32px;\n",
              "      padding: 0 0 0 0;\n",
              "      width: 32px;\n",
              "    }\n",
              "\n",
              "    .colab-df-convert:hover {\n",
              "      background-color: #E2EBFA;\n",
              "      box-shadow: 0px 1px 2px rgba(60, 64, 67, 0.3), 0px 1px 3px 1px rgba(60, 64, 67, 0.15);\n",
              "      fill: #174EA6;\n",
              "    }\n",
              "\n",
              "    [theme=dark] .colab-df-convert {\n",
              "      background-color: #3B4455;\n",
              "      fill: #D2E3FC;\n",
              "    }\n",
              "\n",
              "    [theme=dark] .colab-df-convert:hover {\n",
              "      background-color: #434B5C;\n",
              "      box-shadow: 0px 1px 3px 1px rgba(0, 0, 0, 0.15);\n",
              "      filter: drop-shadow(0px 1px 2px rgba(0, 0, 0, 0.3));\n",
              "      fill: #FFFFFF;\n",
              "    }\n",
              "  </style>\n",
              "\n",
              "      <script>\n",
              "        const buttonEl =\n",
              "          document.querySelector('#df-cbd893e2-af0a-4569-b304-b303cecb5d0e button.colab-df-convert');\n",
              "        buttonEl.style.display =\n",
              "          google.colab.kernel.accessAllowed ? 'block' : 'none';\n",
              "\n",
              "        async function convertToInteractive(key) {\n",
              "          const element = document.querySelector('#df-cbd893e2-af0a-4569-b304-b303cecb5d0e');\n",
              "          const dataTable =\n",
              "            await google.colab.kernel.invokeFunction('convertToInteractive',\n",
              "                                                     [key], {});\n",
              "          if (!dataTable) return;\n",
              "\n",
              "          const docLinkHtml = 'Like what you see? Visit the ' +\n",
              "            '<a target=\"_blank\" href=https://colab.research.google.com/notebooks/data_table.ipynb>data table notebook</a>'\n",
              "            + ' to learn more about interactive tables.';\n",
              "          element.innerHTML = '';\n",
              "          dataTable['output_type'] = 'display_data';\n",
              "          await google.colab.output.renderOutput(dataTable, element);\n",
              "          const docLink = document.createElement('div');\n",
              "          docLink.innerHTML = docLinkHtml;\n",
              "          element.appendChild(docLink);\n",
              "        }\n",
              "      </script>\n",
              "    </div>\n",
              "  </div>\n",
              "  "
            ],
            "text/plain": [
              "   incident_level  count\n",
              "0               0     40\n",
              "1               1     45\n",
              "2               2     45\n",
              "3               3     29\n",
              "4               4     24"
            ]
          },
          "metadata": {},
          "execution_count": 43
        }
      ]
    },
    {
      "cell_type": "code",
      "metadata": {
        "colab": {
          "base_uri": "https://localhost:8080/",
          "height": 294
        },
        "id": "unDkEZcq1wDl",
        "outputId": "393636b8-8cc1-4282-dc35-d7aab099f1a5"
      },
      "source": [
        "plt.scatter(df_nolaunch['incident_level'], df_nolaunch['count'])\n",
        "plt.title('Typological Emergence of Nuclear Near Miss Incidents')\n",
        "plt.xlabel('Incident Level')\n",
        "plt.xticks(df['incident_level'])\n",
        "plt.ylabel('Count')\n",
        "plt.yticks(range(0,50,5))\n",
        "plt.show()"
      ],
      "execution_count": 44,
      "outputs": [
        {
          "output_type": "display_data",
          "data": {
            "image/png": "[encoded data removed]",
            "text/plain": [
              "<Figure size 432x288 with 1 Axes>"
            ]
          },
          "metadata": {
            "needs_background": "light"
          }
        }
      ]
    },
    {
      "cell_type": "code",
      "metadata": {
        "id": "hb0cBhBl15Sb"
      },
      "source": [
        "model_lin = LinearRegression()"
      ],
      "execution_count": 45,
      "outputs": []
    },
    {
      "cell_type": "code",
      "metadata": {
        "colab": {
          "base_uri": "https://localhost:8080/"
        },
        "id": "5TPyZfCu4jUs",
        "outputId": "86293c32-9299-4c53-c6df-5a3efa0b3f14"
      },
      "source": [
        "features_lin = ['incident_level']\n",
        "target_lin = 'count'\n",
        "\n",
        "X_train_lin = df_nolaunch[features_lin]\n",
        "y_train_lin = df_nolaunch[target_lin]\n",
        "\n",
        "model_lin.fit(X_train_lin, y_train_lin)\n",
        "\n",
        "print(model_lin.coef_)\n",
        "print(model_lin.intercept_)"
      ],
      "execution_count": 46,
      "outputs": [
        {
          "output_type": "stream",
          "name": "stdout",
          "text": [
            "[-4.8]\n",
            "46.2\n"
          ]
        }
      ]
    },
    {
      "cell_type": "code",
      "metadata": {
        "colab": {
          "base_uri": "https://localhost:8080/"
        },
        "id": "yV7xXeAZ7f0Z",
        "outputId": "3f7de0e2-abeb-4319-9151-d375795b3353"
      },
      "source": [
        "launch_lin = model_lin.predict([[5]])\n",
        "print(launch_lin)"
      ],
      "execution_count": 47,
      "outputs": [
        {
          "output_type": "stream",
          "name": "stdout",
          "text": [
            "[22.2]\n"
          ]
        },
        {
          "output_type": "stream",
          "name": "stderr",
          "text": [
            "/usr/local/lib/python3.7/dist-packages/sklearn/base.py:451: UserWarning: X does not have valid feature names, but LinearRegression was fitted with feature names\n",
            "  \"X does not have valid feature names, but\"\n"
          ]
        }
      ]
    },
    {
      "cell_type": "code",
      "metadata": {
        "colab": {
          "base_uri": "https://localhost:8080/",
          "height": 280
        },
        "id": "TKxSma6Q5Hlu",
        "outputId": "e2c28fcd-69b0-4ad5-a98b-2e8a3567e451"
      },
      "source": [
        "plt.xlim(0,5)\n",
        "sb.regplot(x=df_nolaunch['incident_level'], y=df_nolaunch['count'], truncate=False);"
      ],
      "execution_count": 48,
      "outputs": [
        {
          "output_type": "display_data",
          "data": {
            "image/png": "[encoded data removed]",
            "text/plain": [
              "<Figure size 432x288 with 1 Axes>"
            ]
          },
          "metadata": {
            "needs_background": "light"
          }
        }
      ]
    },
    {
      "cell_type": "markdown",
      "metadata": {
        "id": "VZFSSE3w78JW"
      },
      "source": [
        "# LINEAR REGRESSION: THERE SHOULD HAVE BEEN ~22 NUCLEAR LAUNCHES SINCE 1949"
      ]
    },
    {
      "cell_type": "code",
      "metadata": {
        "id": "5dg6ONeVKOpQ"
      },
      "source": [
        "# we would have expected N number of nuclear launches (level 5) since 1949, so\n",
        "# what are the odds that we instead had 0?"
      ],
      "execution_count": 49,
      "outputs": []
    },
    {
      "cell_type": "markdown",
      "metadata": {
        "id": "RLNDSAZWrY3t"
      },
      "source": [
        "### These numbers seem quite high, and yeild a higher odds of nuclear war than my previously acquired 4.19% upper-bound, tabulated using a p-value of 95%.\n",
        "\n",
        "A thought occured though. Finding yourself having to make the decision to trigger a nuclear war, as a head of state might occasionally, is most certainly a suicidal decision, for yourself and many you love. So lets look at similar situations in the human condition that have yeilded usable statistics over time. Namely, ceasefire failures, hostage negotiations, and suicidal terror attacks. The following percentage values can be multiplied to the count of level 4 incidents (nuclear weapon systems mistakes /  averted launches) to attain an number of level 5 incidents (nuclear launches) we might have expected since 1949."
      ]
    },
    {
      "cell_type": "code",
      "metadata": {
        "colab": {
          "base_uri": "https://localhost:8080/",
          "height": 34
        },
        "id": "NH2nnYHmz4v7",
        "outputId": "abea11ef-a514-476e-c8b3-7db12cb82e9d"
      },
      "source": [
        "# ceasefire breakdowns:\n",
        "\n",
        "'''\n",
        "from The Logic of Ceasefires in Civil War; Govinda Clayton, Valerie Stitcher\n",
        "\n",
        " At the twenty-five fatality level, thirty days after a ceasefire coming into\n",
        " effect 96 percent of definitive agreements remain active, about 92 percent of \n",
        " preliminary agreements, and only 85 percent of Cessation of hostilities. Within\n",
        "three months, the gap has significantly widened, with our model predicting \n",
        "only 48 percent of Cessation of Hostilities remaining in effect, compared to \n",
        "70 percent of preliminary and 80 percent of definitive agreements. By the end \n",
        "of the year, only 21 percent of all of the cessation of hostilities agreements \n",
        "held, around 49 percent of preliminary agreements remained in effect, while \n",
        "more than 65 percent of definitive agreements had prevented a return to \n",
        "violence. Unsurprisingly we see far greater failure rates at the one fatality \n",
        "threshold. After only three months, almost 70 percent of Cessation of hostility \n",
        "agreements, 50 percent of preliminary, and 30 percent of definitive agreements \n",
        "have terminated.\n",
        "'''\n",
        "\n",
        "'''\n",
        "https://academic.oup.com/isq/advance-article/doi/10.1093/isq/sqab026/6277949\n",
        "'''\n",
        "\n",
        "'''\n",
        "https://github.com/ddodds42/cwmd_data_project/blob/master/Probability_of_war/Logic%20of%20Ceasefires%20in%20Civil%20War.pdf\n",
        "'''"
      ],
      "execution_count": 50,
      "outputs": [
        {
          "output_type": "execute_result",
          "data": {
            "application/vnd.google.colaboratory.intrinsic+json": {
              "type": "string"
            },
            "text/plain": [
              "'\\nhttps://github.com/ddodds42/cwmd_data_project/blob/master/Probability_of_war/Logic%20of%20Ceasefires%20in%20Civil%20War.pdf\\n'"
            ]
          },
          "metadata": {},
          "execution_count": 50
        }
      ]
    },
    {
      "cell_type": "code",
      "metadata": {
        "colab": {
          "base_uri": "https://localhost:8080/",
          "height": 34
        },
        "id": "RLhiBrPb4LsT",
        "outputId": "75487048-eb90-4063-c785-181a6eca1c72"
      },
      "source": [
        "'''\n",
        "Hostage negotiation is estimated to be unsuccessful in 18% of the over 10,000 \n",
        "estimated hostage-taking incidents annually in the United States \n",
        "\n",
        "Crisis (hostage) negotiation training. Criminal Justice and Behavior\n",
        "(Van Hasselt et al., 2006).\n",
        "Van Hasselt, V. B., Baker, M. T., Romano, S. J.,\n",
        "Schlessinger, K. M., Zucker, M., Dragone, R., et al\n",
        "'''\n",
        "\n",
        "'''\n",
        "https://www.ncbi.nlm.nih.gov/pmc/articles/PMC2695358/\n",
        "'''"
      ],
      "execution_count": 51,
      "outputs": [
        {
          "output_type": "execute_result",
          "data": {
            "application/vnd.google.colaboratory.intrinsic+json": {
              "type": "string"
            },
            "text/plain": [
              "'\\nhttps://www.ncbi.nlm.nih.gov/pmc/articles/PMC2695358/\\n'"
            ]
          },
          "metadata": {},
          "execution_count": 51
        }
      ]
    },
    {
      "cell_type": "code",
      "metadata": {
        "id": "nKjyI7198Ezw",
        "colab": {
          "base_uri": "https://localhost:8080/",
          "height": 34
        },
        "outputId": "3ed4174b-e195-4eb7-b388-d8a57294b843"
      },
      "source": [
        "# percentage of suicide bombings\n",
        "\n",
        "'''\n",
        "[Suicide attacks]  constituted only 4% of all terrorist attacks around the \n",
        "world over one period (between 1981 and 2006)...\n",
        "'''\n",
        "\n",
        "'''\n",
        "https://en.wikipedia.org/wiki/Suicide_attack\n",
        "'''"
      ],
      "execution_count": 52,
      "outputs": [
        {
          "output_type": "execute_result",
          "data": {
            "application/vnd.google.colaboratory.intrinsic+json": {
              "type": "string"
            },
            "text/plain": [
              "'\\nhttps://en.wikipedia.org/wiki/Suicide_attack\\n'"
            ]
          },
          "metadata": {},
          "execution_count": 52
        }
      ]
    },
    {
      "cell_type": "markdown",
      "metadata": {
        "id": "aIke_xiK-qf1"
      },
      "source": [
        "# 4% is the absolute rosiest estimate for humans butchering high stakes decisions, such as ceasefires and suicide attacks (where these figures derive).\n",
        "\n",
        "# To be generous with the lower bound odds, I will also assume that a nuclear launch is not only a suicide attack, but also hostage situation, in which almost all of the significant people & places an initiating president knows and loves are in ransom to a launch. We know that 18% of hostage situations fail. Assuming a nuclear launch is both suicide attack (4% of all terrorist attacks) and hostage situation (which fail 18% of the time), then the most generous consideration of deterrance failing in a near-launch situation is 0.04 x 0.18 = \n",
        "\n",
        "# THUSFAR, WITH 24 LEVEL 4 INCIDENTS (nuclear weapons systems errors / hightened alerts), WE SHOULD HAVE EXPECTED 4% OF THEM TO BREAKDOWN INTO NUCLEAR DEPLOYMENT, OR 0.96 NUCLEAR WARS SINCE 1949."
      ]
    },
    {
      "cell_type": "code",
      "source": [
        "pct_attacks_suicidal = 0.04\n",
        "pct_failed_hostage_situations = 0.18\n",
        "pct_est_failure_nuclear_near_launches = pct_attacks_suicidal * pct_failed_hostage_situations\n",
        "print(f\"{pct_est_failure_nuclear_near_launches * 100}% of near launch events estimated to fail and lead to launch.\")"
      ],
      "metadata": {
        "colab": {
          "base_uri": "https://localhost:8080/"
        },
        "id": "TLZsTuNqt1j9",
        "outputId": "be306adc-087f-47bb-85ed-81c775904856"
      },
      "execution_count": 58,
      "outputs": [
        {
          "output_type": "stream",
          "name": "stdout",
          "text": [
            "0.72% of near launch events estimated to fail and lead to launch.\n"
          ]
        }
      ]
    },
    {
      "cell_type": "code",
      "source": [
        "int_level4_incidents = 24\n",
        "min_expected_launches = int_level4_incidents * pct_est_failure_nuclear_near_launches\n",
        "print(f\"With {int_level4_incidents} level 4 incidences, we should have expected {min_expected_launches} nuclear launches since 1949.\")"
      ],
      "metadata": {
        "colab": {
          "base_uri": "https://localhost:8080/"
        },
        "id": "VLrCcgniugVG",
        "outputId": "40c1734a-7506-4e61-d846-8950223d8300"
      },
      "execution_count": 60,
      "outputs": [
        {
          "output_type": "stream",
          "name": "stdout",
          "text": [
            "With 24 level 4 incidences, we should have expected 0.1728 nuclear launches since 1949.\n"
          ]
        }
      ]
    },
    {
      "cell_type": "code",
      "metadata": {
        "id": "ymwginy5_6gs",
        "colab": {
          "base_uri": "https://localhost:8080/"
        },
        "outputId": "5702fc2e-8de0-45a4-e9be-937c82c2281e"
      },
      "source": [
        "years_since_deterrance = 71.58\n",
        "\n",
        "lambda_lower_bound = min_expected_launches / years_since_deterrance\n",
        "print(lambda_lower_bound)"
      ],
      "execution_count": 61,
      "outputs": [
        {
          "output_type": "stream",
          "name": "stdout",
          "text": [
            "0.0024140821458507964\n"
          ]
        }
      ]
    },
    {
      "cell_type": "markdown",
      "metadata": {
        "id": "NNLRXfLXtsYj"
      },
      "source": [
        "### A Lambda value of 0.0024 means we could have expected 0.0024 nuclear wars on average since 1949."
      ]
    },
    {
      "cell_type": "code",
      "metadata": {
        "id": "uDzNrw_NtqQZ"
      },
      "source": [
        "import math"
      ],
      "execution_count": 54,
      "outputs": []
    },
    {
      "cell_type": "code",
      "metadata": {
        "colab": {
          "base_uri": "https://localhost:8080/"
        },
        "id": "uvLALznCuDtX",
        "outputId": "e3218710-30b4-4750-91da-cd9a55f31730"
      },
      "source": [
        "yearly_odds = 1 - math.e ** (-lambda_lower_bound*1)\n",
        "yearly_odds"
      ],
      "execution_count": 62,
      "outputs": [
        {
          "output_type": "execute_result",
          "data": {
            "text/plain": [
              "0.002411170592927947"
            ]
          },
          "metadata": {},
          "execution_count": 62
        }
      ]
    },
    {
      "cell_type": "markdown",
      "metadata": {
        "id": "oNwDQRKqulGS"
      },
      "source": [
        "# MINIMUM 0.24112% chance of nuclear war in the next year\n",
        "\n",
        "And for those curious... what are the odds that we've made it since 1949 without a nuclear war?"
      ]
    },
    {
      "cell_type": "code",
      "metadata": {
        "colab": {
          "base_uri": "https://localhost:8080/"
        },
        "id": "9PwW6YX6uYt4",
        "outputId": "efe342e8-8223-4206-cb4c-39a8bcb4fc79"
      },
      "source": [
        "how_lucky_weve_been = math.e ** (-lambda_lower_bound*years_since_deterrance)\n",
        "print('%.6f' %how_lucky_weve_been)"
      ],
      "execution_count": 65,
      "outputs": [
        {
          "output_type": "stream",
          "name": "stdout",
          "text": [
            "0.841306\n"
          ]
        }
      ]
    },
    {
      "cell_type": "code",
      "metadata": {
        "id": "afEUxIuXvqAU"
      },
      "source": [
        "# Find arithmetic, geometric, and harmonic means between 1.3322% and 4.19%"
      ],
      "execution_count": 57,
      "outputs": []
    },
    {
      "cell_type": "code",
      "metadata": {
        "id": "UnIbmvfumuya"
      },
      "source": [
        ""
      ],
      "execution_count": 57,
      "outputs": []
    }
  ]
}